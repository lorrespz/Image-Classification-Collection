{
 "cells": [
  {
   "cell_type": "code",
   "execution_count": 1,
   "id": "a4ac30da",
   "metadata": {
    "_cell_guid": "b1076dfc-b9ad-4769-8c92-a6c4dae69d19",
    "_uuid": "8f2839f25d086af736a60e9eeb907d3b93b6e0e5",
    "execution": {
     "iopub.execute_input": "2023-12-08T06:31:44.105864Z",
     "iopub.status.busy": "2023-12-08T06:31:44.105514Z",
     "iopub.status.idle": "2023-12-08T06:31:44.827651Z",
     "shell.execute_reply": "2023-12-08T06:31:44.826592Z"
    },
    "papermill": {
     "duration": 0.728904,
     "end_time": "2023-12-08T06:31:44.829744",
     "exception": false,
     "start_time": "2023-12-08T06:31:44.100840",
     "status": "completed"
    },
    "tags": []
   },
   "outputs": [
    {
     "name": "stdout",
     "output_type": "stream",
     "text": [
      "/kaggle/input/weather-prediction/weather_prediction_dataset.csv\n",
      "/kaggle/input/weather-prediction/metadata.txt\n",
      "/kaggle/input/weather-prediction/weather_prediction_bbq_labels.csv\n"
     ]
    }
   ],
   "source": [
    "import numpy as np \n",
    "import pandas as pd \n",
    "\n",
    "import os\n",
    "for dirname, _, filenames in os.walk('/kaggle/input'):\n",
    "    for filename in filenames:\n",
    "        print(os.path.join(dirname, filename))"
   ]
  },
  {
   "cell_type": "markdown",
   "id": "f2943330",
   "metadata": {
    "papermill": {
     "duration": 0.003105,
     "end_time": "2023-12-08T06:31:44.836511",
     "exception": false,
     "start_time": "2023-12-08T06:31:44.833406",
     "status": "completed"
    },
    "tags": []
   },
   "source": [
    "In this notebook, we use Spark Machine Learning library to work on this dataset. A related notebook that explored this dataset using ML techniques from sklearn and ANN/CNN from tensorflow can be found here:\n",
    "\n",
    "https://www.kaggle.com/code/lorresprz/ann-cnn-randomforest-predicting-nice-weather\n",
    "\n"
   ]
  },
  {
   "cell_type": "code",
   "execution_count": 2,
   "id": "c50f854d",
   "metadata": {
    "execution": {
     "iopub.execute_input": "2023-12-08T06:31:44.844107Z",
     "iopub.status.busy": "2023-12-08T06:31:44.843759Z",
     "iopub.status.idle": "2023-12-08T06:32:30.877375Z",
     "shell.execute_reply": "2023-12-08T06:32:30.876358Z"
    },
    "papermill": {
     "duration": 46.040003,
     "end_time": "2023-12-08T06:32:30.879767",
     "exception": false,
     "start_time": "2023-12-08T06:31:44.839764",
     "status": "completed"
    },
    "tags": []
   },
   "outputs": [
    {
     "name": "stdout",
     "output_type": "stream",
     "text": [
      "Collecting pyspark\r\n",
      "  Downloading pyspark-3.5.0.tar.gz (316.9 MB)\r\n",
      "\u001b[2K     \u001b[90m━━━━━━━━━━━━━━━━━━━━━━━━━━━━━━━━━━━━━━━\u001b[0m \u001b[32m316.9/316.9 MB\u001b[0m \u001b[31m4.1 MB/s\u001b[0m eta \u001b[36m0:00:00\u001b[0m\r\n",
      "\u001b[?25h  Preparing metadata (setup.py) ... \u001b[?25l-\b \b\\\b \bdone\r\n",
      "\u001b[?25hRequirement already satisfied: py4j==0.10.9.7 in /opt/conda/lib/python3.10/site-packages (from pyspark) (0.10.9.7)\r\n",
      "Building wheels for collected packages: pyspark\r\n",
      "  Building wheel for pyspark (setup.py) ... \u001b[?25l-\b \b\\\b \b|\b \bdone\r\n",
      "\u001b[?25h  Created wheel for pyspark: filename=pyspark-3.5.0-py2.py3-none-any.whl size=317425344 sha256=a0f4973008ddc1dbc317104f9b68140a9df77dbb4ee2e0281a8e0735658fc42e\r\n",
      "  Stored in directory: /root/.cache/pip/wheels/41/4e/10/c2cf2467f71c678cfc8a6b9ac9241e5e44a01940da8fbb17fc\r\n",
      "Successfully built pyspark\r\n",
      "Installing collected packages: pyspark\r\n",
      "Successfully installed pyspark-3.5.0\r\n"
     ]
    }
   ],
   "source": [
    "!pip install pyspark"
   ]
  },
  {
   "cell_type": "code",
   "execution_count": 3,
   "id": "dbe12c9b",
   "metadata": {
    "execution": {
     "iopub.execute_input": "2023-12-08T06:32:30.903751Z",
     "iopub.status.busy": "2023-12-08T06:32:30.902898Z",
     "iopub.status.idle": "2023-12-08T06:32:30.982291Z",
     "shell.execute_reply": "2023-12-08T06:32:30.981628Z"
    },
    "papermill": {
     "duration": 0.093227,
     "end_time": "2023-12-08T06:32:30.984136",
     "exception": false,
     "start_time": "2023-12-08T06:32:30.890909",
     "status": "completed"
    },
    "tags": []
   },
   "outputs": [],
   "source": [
    "import pyspark"
   ]
  },
  {
   "cell_type": "code",
   "execution_count": 4,
   "id": "34bf1951",
   "metadata": {
    "execution": {
     "iopub.execute_input": "2023-12-08T06:32:31.007091Z",
     "iopub.status.busy": "2023-12-08T06:32:31.006830Z",
     "iopub.status.idle": "2023-12-08T06:32:35.616149Z",
     "shell.execute_reply": "2023-12-08T06:32:35.614925Z"
    },
    "papermill": {
     "duration": 4.623433,
     "end_time": "2023-12-08T06:32:35.618447",
     "exception": false,
     "start_time": "2023-12-08T06:32:30.995014",
     "status": "completed"
    },
    "tags": []
   },
   "outputs": [
    {
     "name": "stderr",
     "output_type": "stream",
     "text": [
      "Setting default log level to \"WARN\".\n",
      "To adjust logging level use sc.setLogLevel(newLevel). For SparkR, use setLogLevel(newLevel).\n",
      "23/12/08 06:32:33 WARN NativeCodeLoader: Unable to load native-hadoop library for your platform... using builtin-java classes where applicable\n"
     ]
    }
   ],
   "source": [
    "from pyspark.sql import SparkSession\n",
    "spark = SparkSession.builder.appName('weather_pred').getOrCreate()"
   ]
  },
  {
   "cell_type": "code",
   "execution_count": 5,
   "id": "6bf32861",
   "metadata": {
    "execution": {
     "iopub.execute_input": "2023-12-08T06:32:35.642662Z",
     "iopub.status.busy": "2023-12-08T06:32:35.642013Z",
     "iopub.status.idle": "2023-12-08T06:32:42.647872Z",
     "shell.execute_reply": "2023-12-08T06:32:42.646772Z"
    },
    "papermill": {
     "duration": 7.021745,
     "end_time": "2023-12-08T06:32:42.651566",
     "exception": false,
     "start_time": "2023-12-08T06:32:35.629821",
     "status": "completed"
    },
    "tags": []
   },
   "outputs": [
    {
     "name": "stderr",
     "output_type": "stream",
     "text": [
      "                                                                                \r"
     ]
    }
   ],
   "source": [
    "df1 = spark.read.csv('/kaggle/input/weather-prediction/weather_prediction_dataset.csv', header=True, inferSchema=True)\n",
    "df2 = spark.read.csv('/kaggle/input/weather-prediction/weather_prediction_bbq_labels.csv',header=True, inferSchema=True)"
   ]
  },
  {
   "cell_type": "markdown",
   "id": "3991a7cd",
   "metadata": {
    "papermill": {
     "duration": 0.015679,
     "end_time": "2023-12-08T06:32:42.683573",
     "exception": false,
     "start_time": "2023-12-08T06:32:42.667894",
     "status": "completed"
    },
    "tags": []
   },
   "source": [
    "There are 165 columns for the 18 cities in Europe. For each cities, multiple measurements including wind gust, wind speed, cloud cover, humidity, pressure, global radiation, precipitation, sunshine, minimum temperature, maximum temperature were recorded. Furthermore, the set of measurements varies from city to city (for example, some city might have wind speed in place of cloud cover or some might have wind gust in place of wind speed). For this notebook, we will focus on Dresden, a city located on the eastern side of Germany. The objective of this is to predict whether the weather is okay for to have a barbecue outdoors."
   ]
  },
  {
   "cell_type": "code",
   "execution_count": 6,
   "id": "7ef06694",
   "metadata": {
    "execution": {
     "iopub.execute_input": "2023-12-08T06:32:42.717345Z",
     "iopub.status.busy": "2023-12-08T06:32:42.716924Z",
     "iopub.status.idle": "2023-12-08T06:32:42.769248Z",
     "shell.execute_reply": "2023-12-08T06:32:42.768222Z"
    },
    "papermill": {
     "duration": 0.072497,
     "end_time": "2023-12-08T06:32:42.772275",
     "exception": false,
     "start_time": "2023-12-08T06:32:42.699778",
     "status": "completed"
    },
    "tags": []
   },
   "outputs": [
    {
     "name": "stdout",
     "output_type": "stream",
     "text": [
      "root\n",
      " |-- DATE: integer (nullable = true)\n",
      " |-- MONTH: integer (nullable = true)\n",
      " |-- BASEL_cloud_cover: integer (nullable = true)\n",
      " |-- BASEL_humidity: double (nullable = true)\n",
      " |-- BASEL_pressure: double (nullable = true)\n",
      " |-- BASEL_global_radiation: double (nullable = true)\n",
      " |-- BASEL_precipitation: double (nullable = true)\n",
      " |-- BASEL_sunshine: double (nullable = true)\n",
      " |-- BASEL_temp_mean: double (nullable = true)\n",
      " |-- BASEL_temp_min: double (nullable = true)\n",
      " |-- BASEL_temp_max: double (nullable = true)\n",
      " |-- BUDAPEST_cloud_cover: integer (nullable = true)\n",
      " |-- BUDAPEST_humidity: double (nullable = true)\n",
      " |-- BUDAPEST_pressure: double (nullable = true)\n",
      " |-- BUDAPEST_global_radiation: double (nullable = true)\n",
      " |-- BUDAPEST_precipitation: double (nullable = true)\n",
      " |-- BUDAPEST_sunshine: double (nullable = true)\n",
      " |-- BUDAPEST_temp_mean: double (nullable = true)\n",
      " |-- BUDAPEST_temp_max: double (nullable = true)\n",
      " |-- DE_BILT_cloud_cover: integer (nullable = true)\n",
      " |-- DE_BILT_wind_speed: double (nullable = true)\n",
      " |-- DE_BILT_wind_gust: double (nullable = true)\n",
      " |-- DE_BILT_humidity: double (nullable = true)\n",
      " |-- DE_BILT_pressure: double (nullable = true)\n",
      " |-- DE_BILT_global_radiation: double (nullable = true)\n",
      " |-- DE_BILT_precipitation: double (nullable = true)\n",
      " |-- DE_BILT_sunshine: double (nullable = true)\n",
      " |-- DE_BILT_temp_mean: double (nullable = true)\n",
      " |-- DE_BILT_temp_min: double (nullable = true)\n",
      " |-- DE_BILT_temp_max: double (nullable = true)\n",
      " |-- DRESDEN_cloud_cover: integer (nullable = true)\n",
      " |-- DRESDEN_wind_speed: double (nullable = true)\n",
      " |-- DRESDEN_wind_gust: double (nullable = true)\n",
      " |-- DRESDEN_humidity: double (nullable = true)\n",
      " |-- DRESDEN_global_radiation: double (nullable = true)\n",
      " |-- DRESDEN_precipitation: double (nullable = true)\n",
      " |-- DRESDEN_sunshine: double (nullable = true)\n",
      " |-- DRESDEN_temp_mean: double (nullable = true)\n",
      " |-- DRESDEN_temp_min: double (nullable = true)\n",
      " |-- DRESDEN_temp_max: double (nullable = true)\n",
      " |-- DUSSELDORF_cloud_cover: integer (nullable = true)\n",
      " |-- DUSSELDORF_wind_speed: double (nullable = true)\n",
      " |-- DUSSELDORF_wind_gust: double (nullable = true)\n",
      " |-- DUSSELDORF_humidity: double (nullable = true)\n",
      " |-- DUSSELDORF_pressure: double (nullable = true)\n",
      " |-- DUSSELDORF_global_radiation: double (nullable = true)\n",
      " |-- DUSSELDORF_precipitation: double (nullable = true)\n",
      " |-- DUSSELDORF_sunshine: double (nullable = true)\n",
      " |-- DUSSELDORF_temp_mean: double (nullable = true)\n",
      " |-- DUSSELDORF_temp_min: double (nullable = true)\n",
      " |-- DUSSELDORF_temp_max: double (nullable = true)\n",
      " |-- HEATHROW_cloud_cover: integer (nullable = true)\n",
      " |-- HEATHROW_humidity: double (nullable = true)\n",
      " |-- HEATHROW_pressure: double (nullable = true)\n",
      " |-- HEATHROW_global_radiation: double (nullable = true)\n",
      " |-- HEATHROW_precipitation: double (nullable = true)\n",
      " |-- HEATHROW_sunshine: double (nullable = true)\n",
      " |-- HEATHROW_temp_mean: double (nullable = true)\n",
      " |-- HEATHROW_temp_min: double (nullable = true)\n",
      " |-- HEATHROW_temp_max: double (nullable = true)\n",
      " |-- KASSEL_wind_speed: double (nullable = true)\n",
      " |-- KASSEL_wind_gust: double (nullable = true)\n",
      " |-- KASSEL_humidity: double (nullable = true)\n",
      " |-- KASSEL_pressure: double (nullable = true)\n",
      " |-- KASSEL_global_radiation: double (nullable = true)\n",
      " |-- KASSEL_precipitation: double (nullable = true)\n",
      " |-- KASSEL_sunshine: double (nullable = true)\n",
      " |-- KASSEL_temp_mean: double (nullable = true)\n",
      " |-- KASSEL_temp_min: double (nullable = true)\n",
      " |-- KASSEL_temp_max: double (nullable = true)\n",
      " |-- LJUBLJANA_cloud_cover: integer (nullable = true)\n",
      " |-- LJUBLJANA_wind_speed: double (nullable = true)\n",
      " |-- LJUBLJANA_humidity: double (nullable = true)\n",
      " |-- LJUBLJANA_pressure: double (nullable = true)\n",
      " |-- LJUBLJANA_global_radiation: double (nullable = true)\n",
      " |-- LJUBLJANA_precipitation: double (nullable = true)\n",
      " |-- LJUBLJANA_sunshine: double (nullable = true)\n",
      " |-- LJUBLJANA_temp_mean: double (nullable = true)\n",
      " |-- LJUBLJANA_temp_min: double (nullable = true)\n",
      " |-- LJUBLJANA_temp_max: double (nullable = true)\n",
      " |-- MAASTRICHT_cloud_cover: integer (nullable = true)\n",
      " |-- MAASTRICHT_wind_speed: double (nullable = true)\n",
      " |-- MAASTRICHT_wind_gust: double (nullable = true)\n",
      " |-- MAASTRICHT_humidity: double (nullable = true)\n",
      " |-- MAASTRICHT_pressure: double (nullable = true)\n",
      " |-- MAASTRICHT_global_radiation: double (nullable = true)\n",
      " |-- MAASTRICHT_precipitation: double (nullable = true)\n",
      " |-- MAASTRICHT_sunshine: double (nullable = true)\n",
      " |-- MAASTRICHT_temp_mean: double (nullable = true)\n",
      " |-- MAASTRICHT_temp_min: double (nullable = true)\n",
      " |-- MAASTRICHT_temp_max: double (nullable = true)\n",
      " |-- MALMO_wind_speed: double (nullable = true)\n",
      " |-- MALMO_precipitation: double (nullable = true)\n",
      " |-- MALMO_temp_mean: double (nullable = true)\n",
      " |-- MALMO_temp_min: double (nullable = true)\n",
      " |-- MALMO_temp_max: double (nullable = true)\n",
      " |-- MONTELIMAR_wind_speed: double (nullable = true)\n",
      " |-- MONTELIMAR_humidity: double (nullable = true)\n",
      " |-- MONTELIMAR_pressure: double (nullable = true)\n",
      " |-- MONTELIMAR_global_radiation: double (nullable = true)\n",
      " |-- MONTELIMAR_precipitation: double (nullable = true)\n",
      " |-- MONTELIMAR_temp_mean: double (nullable = true)\n",
      " |-- MONTELIMAR_temp_min: double (nullable = true)\n",
      " |-- MONTELIMAR_temp_max: double (nullable = true)\n",
      " |-- MUENCHEN_cloud_cover: integer (nullable = true)\n",
      " |-- MUENCHEN_wind_speed: double (nullable = true)\n",
      " |-- MUENCHEN_wind_gust: double (nullable = true)\n",
      " |-- MUENCHEN_humidity: double (nullable = true)\n",
      " |-- MUENCHEN_pressure: double (nullable = true)\n",
      " |-- MUENCHEN_global_radiation: double (nullable = true)\n",
      " |-- MUENCHEN_precipitation: double (nullable = true)\n",
      " |-- MUENCHEN_sunshine: double (nullable = true)\n",
      " |-- MUENCHEN_temp_mean: double (nullable = true)\n",
      " |-- MUENCHEN_temp_min: double (nullable = true)\n",
      " |-- MUENCHEN_temp_max: double (nullable = true)\n",
      " |-- OSLO_cloud_cover: integer (nullable = true)\n",
      " |-- OSLO_wind_speed: double (nullable = true)\n",
      " |-- OSLO_wind_gust: double (nullable = true)\n",
      " |-- OSLO_humidity: double (nullable = true)\n",
      " |-- OSLO_pressure: double (nullable = true)\n",
      " |-- OSLO_global_radiation: double (nullable = true)\n",
      " |-- OSLO_precipitation: double (nullable = true)\n",
      " |-- OSLO_sunshine: double (nullable = true)\n",
      " |-- OSLO_temp_mean: double (nullable = true)\n",
      " |-- OSLO_temp_min: double (nullable = true)\n",
      " |-- OSLO_temp_max: double (nullable = true)\n",
      " |-- PERPIGNAN_wind_speed: double (nullable = true)\n",
      " |-- PERPIGNAN_humidity: double (nullable = true)\n",
      " |-- PERPIGNAN_pressure: double (nullable = true)\n",
      " |-- PERPIGNAN_global_radiation: double (nullable = true)\n",
      " |-- PERPIGNAN_precipitation: double (nullable = true)\n",
      " |-- PERPIGNAN_temp_mean: double (nullable = true)\n",
      " |-- PERPIGNAN_temp_min: double (nullable = true)\n",
      " |-- PERPIGNAN_temp_max: double (nullable = true)\n",
      " |-- ROMA_cloud_cover: integer (nullable = true)\n",
      " |-- ROMA_humidity: double (nullable = true)\n",
      " |-- ROMA_pressure: double (nullable = true)\n",
      " |-- ROMA_global_radiation: double (nullable = true)\n",
      " |-- ROMA_sunshine: double (nullable = true)\n",
      " |-- ROMA_temp_mean: double (nullable = true)\n",
      " |-- ROMA_temp_min: double (nullable = true)\n",
      " |-- ROMA_temp_max: double (nullable = true)\n",
      " |-- SONNBLICK_cloud_cover: integer (nullable = true)\n",
      " |-- SONNBLICK_humidity: double (nullable = true)\n",
      " |-- SONNBLICK_global_radiation: double (nullable = true)\n",
      " |-- SONNBLICK_precipitation: double (nullable = true)\n",
      " |-- SONNBLICK_sunshine: double (nullable = true)\n",
      " |-- SONNBLICK_temp_mean: double (nullable = true)\n",
      " |-- SONNBLICK_temp_min: double (nullable = true)\n",
      " |-- SONNBLICK_temp_max: double (nullable = true)\n",
      " |-- STOCKHOLM_cloud_cover: integer (nullable = true)\n",
      " |-- STOCKHOLM_pressure: double (nullable = true)\n",
      " |-- STOCKHOLM_precipitation: double (nullable = true)\n",
      " |-- STOCKHOLM_sunshine: double (nullable = true)\n",
      " |-- STOCKHOLM_temp_mean: double (nullable = true)\n",
      " |-- STOCKHOLM_temp_min: double (nullable = true)\n",
      " |-- STOCKHOLM_temp_max: double (nullable = true)\n",
      " |-- TOURS_wind_speed: double (nullable = true)\n",
      " |-- TOURS_humidity: double (nullable = true)\n",
      " |-- TOURS_pressure: double (nullable = true)\n",
      " |-- TOURS_global_radiation: double (nullable = true)\n",
      " |-- TOURS_precipitation: double (nullable = true)\n",
      " |-- TOURS_temp_mean: double (nullable = true)\n",
      " |-- TOURS_temp_min: double (nullable = true)\n",
      " |-- TOURS_temp_max: double (nullable = true)\n",
      "\n"
     ]
    }
   ],
   "source": [
    "df1.printSchema()"
   ]
  },
  {
   "cell_type": "code",
   "execution_count": 7,
   "id": "840a8193",
   "metadata": {
    "execution": {
     "iopub.execute_input": "2023-12-08T06:32:42.796416Z",
     "iopub.status.busy": "2023-12-08T06:32:42.796110Z",
     "iopub.status.idle": "2023-12-08T06:32:42.805149Z",
     "shell.execute_reply": "2023-12-08T06:32:42.804011Z"
    },
    "papermill": {
     "duration": 0.023246,
     "end_time": "2023-12-08T06:32:42.807060",
     "exception": false,
     "start_time": "2023-12-08T06:32:42.783814",
     "status": "completed"
    },
    "tags": []
   },
   "outputs": [
    {
     "name": "stdout",
     "output_type": "stream",
     "text": [
      "root\n",
      " |-- DATE: integer (nullable = true)\n",
      " |-- BASEL_BBQ_weather: boolean (nullable = true)\n",
      " |-- BUDAPEST_BBQ_weather: boolean (nullable = true)\n",
      " |-- DE_BBQ_weather: boolean (nullable = true)\n",
      " |-- DRESDEN_BBQ_weather: boolean (nullable = true)\n",
      " |-- DUSSELDORF_BBQ_weather: boolean (nullable = true)\n",
      " |-- HEATHROW_BBQ_weather: boolean (nullable = true)\n",
      " |-- KASSEL_BBQ_weather: boolean (nullable = true)\n",
      " |-- LJUBLJANA_BBQ_weather: boolean (nullable = true)\n",
      " |-- MAASTRICHT_BBQ_weather: boolean (nullable = true)\n",
      " |-- MALMO_BBQ_weather: boolean (nullable = true)\n",
      " |-- MONTELIMAR_BBQ_weather: boolean (nullable = true)\n",
      " |-- MUENCHEN_BBQ_weather: boolean (nullable = true)\n",
      " |-- OSLO_BBQ_weather: boolean (nullable = true)\n",
      " |-- PERPIGNAN_BBQ_weather: boolean (nullable = true)\n",
      " |-- SONNBLICK_BBQ_weather: boolean (nullable = true)\n",
      " |-- STOCKHOLM_BBQ_weather: boolean (nullable = true)\n",
      " |-- TOURS_BBQ_weather: boolean (nullable = true)\n",
      "\n"
     ]
    }
   ],
   "source": [
    "df2.printSchema()"
   ]
  },
  {
   "cell_type": "code",
   "execution_count": null,
   "id": "4e3c7f9e",
   "metadata": {
    "papermill": {
     "duration": 0.010993,
     "end_time": "2023-12-08T06:32:42.829269",
     "exception": false,
     "start_time": "2023-12-08T06:32:42.818276",
     "status": "completed"
    },
    "tags": []
   },
   "outputs": [],
   "source": []
  }
 ],
 "metadata": {
  "kaggle": {
   "accelerator": "gpu",
   "dataSources": [
    {
     "datasetId": 2459900,
     "sourceId": 4167948,
     "sourceType": "datasetVersion"
    }
   ],
   "dockerImageVersionId": 30616,
   "isGpuEnabled": true,
   "isInternetEnabled": true,
   "language": "python",
   "sourceType": "notebook"
  },
  "kernelspec": {
   "display_name": "Python 3",
   "language": "python",
   "name": "python3"
  },
  "language_info": {
   "codemirror_mode": {
    "name": "ipython",
    "version": 3
   },
   "file_extension": ".py",
   "mimetype": "text/x-python",
   "name": "python",
   "nbconvert_exporter": "python",
   "pygments_lexer": "ipython3",
   "version": "3.10.12"
  },
  "papermill": {
   "default_parameters": {},
   "duration": 64.739121,
   "end_time": "2023-12-08T06:32:45.458957",
   "environment_variables": {},
   "exception": null,
   "input_path": "__notebook__.ipynb",
   "output_path": "__notebook__.ipynb",
   "parameters": {},
   "start_time": "2023-12-08T06:31:40.719836",
   "version": "2.4.0"
  }
 },
 "nbformat": 4,
 "nbformat_minor": 5
}
