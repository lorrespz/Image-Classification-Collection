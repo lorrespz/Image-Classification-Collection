{
 "cells": [
  {
   "cell_type": "code",
   "execution_count": 1,
   "id": "58579fe2",
   "metadata": {
    "_cell_guid": "b1076dfc-b9ad-4769-8c92-a6c4dae69d19",
    "_uuid": "8f2839f25d086af736a60e9eeb907d3b93b6e0e5",
    "execution": {
     "iopub.execute_input": "2023-12-08T07:44:25.081998Z",
     "iopub.status.busy": "2023-12-08T07:44:25.081667Z",
     "iopub.status.idle": "2023-12-08T07:44:25.779340Z",
     "shell.execute_reply": "2023-12-08T07:44:25.778462Z"
    },
    "papermill": {
     "duration": 0.710883,
     "end_time": "2023-12-08T07:44:25.781816",
     "exception": false,
     "start_time": "2023-12-08T07:44:25.070933",
     "status": "completed"
    },
    "tags": []
   },
   "outputs": [
    {
     "name": "stdout",
     "output_type": "stream",
     "text": [
      "/kaggle/input/weather-prediction/weather_prediction_dataset.csv\n",
      "/kaggle/input/weather-prediction/metadata.txt\n",
      "/kaggle/input/weather-prediction/weather_prediction_bbq_labels.csv\n"
     ]
    }
   ],
   "source": [
    "import numpy as np \n",
    "import pandas as pd \n",
    "\n",
    "import os\n",
    "for dirname, _, filenames in os.walk('/kaggle/input'):\n",
    "    for filename in filenames:\n",
    "        print(os.path.join(dirname, filename))"
   ]
  },
  {
   "cell_type": "markdown",
   "id": "0af2ad40",
   "metadata": {
    "papermill": {
     "duration": 0.008795,
     "end_time": "2023-12-08T07:44:25.800104",
     "exception": false,
     "start_time": "2023-12-08T07:44:25.791309",
     "status": "completed"
    },
    "tags": []
   },
   "source": [
    "In this notebook, we use Spark Machine Learning library to work on this dataset. A related notebook that explored this dataset using ML techniques from sklearn and ANN/CNN from tensorflow can be found here:\n",
    "\n",
    "https://www.kaggle.com/code/lorresprz/ann-cnn-randomforest-predicting-nice-weather\n",
    "\n"
   ]
  },
  {
   "cell_type": "code",
   "execution_count": 2,
   "id": "73e96b30",
   "metadata": {
    "execution": {
     "iopub.execute_input": "2023-12-08T07:44:25.819032Z",
     "iopub.status.busy": "2023-12-08T07:44:25.818620Z",
     "iopub.status.idle": "2023-12-08T07:45:11.372651Z",
     "shell.execute_reply": "2023-12-08T07:45:11.371380Z"
    },
    "papermill": {
     "duration": 45.566095,
     "end_time": "2023-12-08T07:45:11.375048",
     "exception": false,
     "start_time": "2023-12-08T07:44:25.808953",
     "status": "completed"
    },
    "tags": []
   },
   "outputs": [
    {
     "name": "stdout",
     "output_type": "stream",
     "text": [
      "Collecting pyspark\r\n",
      "  Downloading pyspark-3.5.0.tar.gz (316.9 MB)\r\n",
      "\u001b[2K     \u001b[90m━━━━━━━━━━━━━━━━━━━━━━━━━━━━━━━━━━━━━━━\u001b[0m \u001b[32m316.9/316.9 MB\u001b[0m \u001b[31m4.0 MB/s\u001b[0m eta \u001b[36m0:00:00\u001b[0m\r\n",
      "\u001b[?25h  Preparing metadata (setup.py) ... \u001b[?25l-\b \b\\\b \bdone\r\n",
      "\u001b[?25hRequirement already satisfied: py4j==0.10.9.7 in /opt/conda/lib/python3.10/site-packages (from pyspark) (0.10.9.7)\r\n",
      "Building wheels for collected packages: pyspark\r\n",
      "  Building wheel for pyspark (setup.py) ... \u001b[?25l-\b \b\\\b \b|\b \bdone\r\n",
      "\u001b[?25h  Created wheel for pyspark: filename=pyspark-3.5.0-py2.py3-none-any.whl size=317425344 sha256=a36f7a9688cbbf00a1d815c3e46eeabb92788adc5fbb831bd02f8af5dbcf80b7\r\n",
      "  Stored in directory: /root/.cache/pip/wheels/41/4e/10/c2cf2467f71c678cfc8a6b9ac9241e5e44a01940da8fbb17fc\r\n",
      "Successfully built pyspark\r\n",
      "Installing collected packages: pyspark\r\n",
      "Successfully installed pyspark-3.5.0\r\n"
     ]
    }
   ],
   "source": [
    "!pip install pyspark"
   ]
  },
  {
   "cell_type": "code",
   "execution_count": 3,
   "id": "d8af043c",
   "metadata": {
    "execution": {
     "iopub.execute_input": "2023-12-08T07:45:11.412571Z",
     "iopub.status.busy": "2023-12-08T07:45:11.412247Z",
     "iopub.status.idle": "2023-12-08T07:45:11.490404Z",
     "shell.execute_reply": "2023-12-08T07:45:11.489566Z"
    },
    "papermill": {
     "duration": 0.099483,
     "end_time": "2023-12-08T07:45:11.492436",
     "exception": false,
     "start_time": "2023-12-08T07:45:11.392953",
     "status": "completed"
    },
    "tags": []
   },
   "outputs": [],
   "source": [
    "import pyspark"
   ]
  },
  {
   "cell_type": "markdown",
   "id": "89e30128",
   "metadata": {
    "papermill": {
     "duration": 0.017101,
     "end_time": "2023-12-08T07:45:11.527835",
     "exception": false,
     "start_time": "2023-12-08T07:45:11.510734",
     "status": "completed"
    },
    "tags": []
   },
   "source": [
    "# Load dataset for weather prediction"
   ]
  },
  {
   "cell_type": "code",
   "execution_count": 4,
   "id": "66adfd7b",
   "metadata": {
    "execution": {
     "iopub.execute_input": "2023-12-08T07:45:11.563819Z",
     "iopub.status.busy": "2023-12-08T07:45:11.563528Z",
     "iopub.status.idle": "2023-12-08T07:45:16.266167Z",
     "shell.execute_reply": "2023-12-08T07:45:16.264915Z"
    },
    "papermill": {
     "duration": 4.72338,
     "end_time": "2023-12-08T07:45:16.268681",
     "exception": false,
     "start_time": "2023-12-08T07:45:11.545301",
     "status": "completed"
    },
    "tags": []
   },
   "outputs": [
    {
     "name": "stderr",
     "output_type": "stream",
     "text": [
      "Setting default log level to \"WARN\".\n",
      "To adjust logging level use sc.setLogLevel(newLevel). For SparkR, use setLogLevel(newLevel).\n",
      "23/12/08 07:45:14 WARN NativeCodeLoader: Unable to load native-hadoop library for your platform... using builtin-java classes where applicable\n"
     ]
    }
   ],
   "source": [
    "from pyspark.sql import SparkSession\n",
    "spark = SparkSession.builder.appName('weather_pred').getOrCreate()"
   ]
  },
  {
   "cell_type": "code",
   "execution_count": 5,
   "id": "d6aa735a",
   "metadata": {
    "execution": {
     "iopub.execute_input": "2023-12-08T07:45:16.306201Z",
     "iopub.status.busy": "2023-12-08T07:45:16.305674Z",
     "iopub.status.idle": "2023-12-08T07:45:23.160704Z",
     "shell.execute_reply": "2023-12-08T07:45:23.159629Z"
    },
    "papermill": {
     "duration": 6.877035,
     "end_time": "2023-12-08T07:45:23.163760",
     "exception": false,
     "start_time": "2023-12-08T07:45:16.286725",
     "status": "completed"
    },
    "tags": []
   },
   "outputs": [
    {
     "name": "stderr",
     "output_type": "stream",
     "text": [
      "                                                                                \r"
     ]
    }
   ],
   "source": [
    "df1 = spark.read.csv('/kaggle/input/weather-prediction/weather_prediction_dataset.csv', header=True, inferSchema=True)\n",
    "df2 = spark.read.csv('/kaggle/input/weather-prediction/weather_prediction_bbq_labels.csv',header=True, inferSchema=True)"
   ]
  },
  {
   "cell_type": "markdown",
   "id": "f4c6f956",
   "metadata": {
    "papermill": {
     "duration": 0.025057,
     "end_time": "2023-12-08T07:45:23.216500",
     "exception": false,
     "start_time": "2023-12-08T07:45:23.191443",
     "status": "completed"
    },
    "tags": []
   },
   "source": [
    "There are 165 columns for the 18 cities in Europe. For each cities, multiple measurements including wind gust, wind speed, cloud cover, humidity, pressure, global radiation, precipitation, sunshine, minimum temperature, maximum temperature were recorded. Furthermore, the set of measurements varies from city to city (for example, some city might have wind speed in place of cloud cover or some might have wind gust in place of wind speed). For this notebook, we will focus on Maastricht, a beautiful Dutch city. The objective of this is to predict whether the weather is okay for to have a barbecue outdoors."
   ]
  },
  {
   "cell_type": "code",
   "execution_count": 6,
   "id": "0912d45c",
   "metadata": {
    "execution": {
     "iopub.execute_input": "2023-12-08T07:45:23.270506Z",
     "iopub.status.busy": "2023-12-08T07:45:23.270041Z",
     "iopub.status.idle": "2023-12-08T07:45:23.323730Z",
     "shell.execute_reply": "2023-12-08T07:45:23.322809Z"
    },
    "papermill": {
     "duration": 0.085656,
     "end_time": "2023-12-08T07:45:23.328210",
     "exception": false,
     "start_time": "2023-12-08T07:45:23.242554",
     "status": "completed"
    },
    "tags": []
   },
   "outputs": [
    {
     "name": "stdout",
     "output_type": "stream",
     "text": [
      "root\n",
      " |-- DATE: integer (nullable = true)\n",
      " |-- MONTH: integer (nullable = true)\n",
      " |-- BASEL_cloud_cover: integer (nullable = true)\n",
      " |-- BASEL_humidity: double (nullable = true)\n",
      " |-- BASEL_pressure: double (nullable = true)\n",
      " |-- BASEL_global_radiation: double (nullable = true)\n",
      " |-- BASEL_precipitation: double (nullable = true)\n",
      " |-- BASEL_sunshine: double (nullable = true)\n",
      " |-- BASEL_temp_mean: double (nullable = true)\n",
      " |-- BASEL_temp_min: double (nullable = true)\n",
      " |-- BASEL_temp_max: double (nullable = true)\n",
      " |-- BUDAPEST_cloud_cover: integer (nullable = true)\n",
      " |-- BUDAPEST_humidity: double (nullable = true)\n",
      " |-- BUDAPEST_pressure: double (nullable = true)\n",
      " |-- BUDAPEST_global_radiation: double (nullable = true)\n",
      " |-- BUDAPEST_precipitation: double (nullable = true)\n",
      " |-- BUDAPEST_sunshine: double (nullable = true)\n",
      " |-- BUDAPEST_temp_mean: double (nullable = true)\n",
      " |-- BUDAPEST_temp_max: double (nullable = true)\n",
      " |-- DE_BILT_cloud_cover: integer (nullable = true)\n",
      " |-- DE_BILT_wind_speed: double (nullable = true)\n",
      " |-- DE_BILT_wind_gust: double (nullable = true)\n",
      " |-- DE_BILT_humidity: double (nullable = true)\n",
      " |-- DE_BILT_pressure: double (nullable = true)\n",
      " |-- DE_BILT_global_radiation: double (nullable = true)\n",
      " |-- DE_BILT_precipitation: double (nullable = true)\n",
      " |-- DE_BILT_sunshine: double (nullable = true)\n",
      " |-- DE_BILT_temp_mean: double (nullable = true)\n",
      " |-- DE_BILT_temp_min: double (nullable = true)\n",
      " |-- DE_BILT_temp_max: double (nullable = true)\n",
      " |-- DRESDEN_cloud_cover: integer (nullable = true)\n",
      " |-- DRESDEN_wind_speed: double (nullable = true)\n",
      " |-- DRESDEN_wind_gust: double (nullable = true)\n",
      " |-- DRESDEN_humidity: double (nullable = true)\n",
      " |-- DRESDEN_global_radiation: double (nullable = true)\n",
      " |-- DRESDEN_precipitation: double (nullable = true)\n",
      " |-- DRESDEN_sunshine: double (nullable = true)\n",
      " |-- DRESDEN_temp_mean: double (nullable = true)\n",
      " |-- DRESDEN_temp_min: double (nullable = true)\n",
      " |-- DRESDEN_temp_max: double (nullable = true)\n",
      " |-- DUSSELDORF_cloud_cover: integer (nullable = true)\n",
      " |-- DUSSELDORF_wind_speed: double (nullable = true)\n",
      " |-- DUSSELDORF_wind_gust: double (nullable = true)\n",
      " |-- DUSSELDORF_humidity: double (nullable = true)\n",
      " |-- DUSSELDORF_pressure: double (nullable = true)\n",
      " |-- DUSSELDORF_global_radiation: double (nullable = true)\n",
      " |-- DUSSELDORF_precipitation: double (nullable = true)\n",
      " |-- DUSSELDORF_sunshine: double (nullable = true)\n",
      " |-- DUSSELDORF_temp_mean: double (nullable = true)\n",
      " |-- DUSSELDORF_temp_min: double (nullable = true)\n",
      " |-- DUSSELDORF_temp_max: double (nullable = true)\n",
      " |-- HEATHROW_cloud_cover: integer (nullable = true)\n",
      " |-- HEATHROW_humidity: double (nullable = true)\n",
      " |-- HEATHROW_pressure: double (nullable = true)\n",
      " |-- HEATHROW_global_radiation: double (nullable = true)\n",
      " |-- HEATHROW_precipitation: double (nullable = true)\n",
      " |-- HEATHROW_sunshine: double (nullable = true)\n",
      " |-- HEATHROW_temp_mean: double (nullable = true)\n",
      " |-- HEATHROW_temp_min: double (nullable = true)\n",
      " |-- HEATHROW_temp_max: double (nullable = true)\n",
      " |-- KASSEL_wind_speed: double (nullable = true)\n",
      " |-- KASSEL_wind_gust: double (nullable = true)\n",
      " |-- KASSEL_humidity: double (nullable = true)\n",
      " |-- KASSEL_pressure: double (nullable = true)\n",
      " |-- KASSEL_global_radiation: double (nullable = true)\n",
      " |-- KASSEL_precipitation: double (nullable = true)\n",
      " |-- KASSEL_sunshine: double (nullable = true)\n",
      " |-- KASSEL_temp_mean: double (nullable = true)\n",
      " |-- KASSEL_temp_min: double (nullable = true)\n",
      " |-- KASSEL_temp_max: double (nullable = true)\n",
      " |-- LJUBLJANA_cloud_cover: integer (nullable = true)\n",
      " |-- LJUBLJANA_wind_speed: double (nullable = true)\n",
      " |-- LJUBLJANA_humidity: double (nullable = true)\n",
      " |-- LJUBLJANA_pressure: double (nullable = true)\n",
      " |-- LJUBLJANA_global_radiation: double (nullable = true)\n",
      " |-- LJUBLJANA_precipitation: double (nullable = true)\n",
      " |-- LJUBLJANA_sunshine: double (nullable = true)\n",
      " |-- LJUBLJANA_temp_mean: double (nullable = true)\n",
      " |-- LJUBLJANA_temp_min: double (nullable = true)\n",
      " |-- LJUBLJANA_temp_max: double (nullable = true)\n",
      " |-- MAASTRICHT_cloud_cover: integer (nullable = true)\n",
      " |-- MAASTRICHT_wind_speed: double (nullable = true)\n",
      " |-- MAASTRICHT_wind_gust: double (nullable = true)\n",
      " |-- MAASTRICHT_humidity: double (nullable = true)\n",
      " |-- MAASTRICHT_pressure: double (nullable = true)\n",
      " |-- MAASTRICHT_global_radiation: double (nullable = true)\n",
      " |-- MAASTRICHT_precipitation: double (nullable = true)\n",
      " |-- MAASTRICHT_sunshine: double (nullable = true)\n",
      " |-- MAASTRICHT_temp_mean: double (nullable = true)\n",
      " |-- MAASTRICHT_temp_min: double (nullable = true)\n",
      " |-- MAASTRICHT_temp_max: double (nullable = true)\n",
      " |-- MALMO_wind_speed: double (nullable = true)\n",
      " |-- MALMO_precipitation: double (nullable = true)\n",
      " |-- MALMO_temp_mean: double (nullable = true)\n",
      " |-- MALMO_temp_min: double (nullable = true)\n",
      " |-- MALMO_temp_max: double (nullable = true)\n",
      " |-- MONTELIMAR_wind_speed: double (nullable = true)\n",
      " |-- MONTELIMAR_humidity: double (nullable = true)\n",
      " |-- MONTELIMAR_pressure: double (nullable = true)\n",
      " |-- MONTELIMAR_global_radiation: double (nullable = true)\n",
      " |-- MONTELIMAR_precipitation: double (nullable = true)\n",
      " |-- MONTELIMAR_temp_mean: double (nullable = true)\n",
      " |-- MONTELIMAR_temp_min: double (nullable = true)\n",
      " |-- MONTELIMAR_temp_max: double (nullable = true)\n",
      " |-- MUENCHEN_cloud_cover: integer (nullable = true)\n",
      " |-- MUENCHEN_wind_speed: double (nullable = true)\n",
      " |-- MUENCHEN_wind_gust: double (nullable = true)\n",
      " |-- MUENCHEN_humidity: double (nullable = true)\n",
      " |-- MUENCHEN_pressure: double (nullable = true)\n",
      " |-- MUENCHEN_global_radiation: double (nullable = true)\n",
      " |-- MUENCHEN_precipitation: double (nullable = true)\n",
      " |-- MUENCHEN_sunshine: double (nullable = true)\n",
      " |-- MUENCHEN_temp_mean: double (nullable = true)\n",
      " |-- MUENCHEN_temp_min: double (nullable = true)\n",
      " |-- MUENCHEN_temp_max: double (nullable = true)\n",
      " |-- OSLO_cloud_cover: integer (nullable = true)\n",
      " |-- OSLO_wind_speed: double (nullable = true)\n",
      " |-- OSLO_wind_gust: double (nullable = true)\n",
      " |-- OSLO_humidity: double (nullable = true)\n",
      " |-- OSLO_pressure: double (nullable = true)\n",
      " |-- OSLO_global_radiation: double (nullable = true)\n",
      " |-- OSLO_precipitation: double (nullable = true)\n",
      " |-- OSLO_sunshine: double (nullable = true)\n",
      " |-- OSLO_temp_mean: double (nullable = true)\n",
      " |-- OSLO_temp_min: double (nullable = true)\n",
      " |-- OSLO_temp_max: double (nullable = true)\n",
      " |-- PERPIGNAN_wind_speed: double (nullable = true)\n",
      " |-- PERPIGNAN_humidity: double (nullable = true)\n",
      " |-- PERPIGNAN_pressure: double (nullable = true)\n",
      " |-- PERPIGNAN_global_radiation: double (nullable = true)\n",
      " |-- PERPIGNAN_precipitation: double (nullable = true)\n",
      " |-- PERPIGNAN_temp_mean: double (nullable = true)\n",
      " |-- PERPIGNAN_temp_min: double (nullable = true)\n",
      " |-- PERPIGNAN_temp_max: double (nullable = true)\n",
      " |-- ROMA_cloud_cover: integer (nullable = true)\n",
      " |-- ROMA_humidity: double (nullable = true)\n",
      " |-- ROMA_pressure: double (nullable = true)\n",
      " |-- ROMA_global_radiation: double (nullable = true)\n",
      " |-- ROMA_sunshine: double (nullable = true)\n",
      " |-- ROMA_temp_mean: double (nullable = true)\n",
      " |-- ROMA_temp_min: double (nullable = true)\n",
      " |-- ROMA_temp_max: double (nullable = true)\n",
      " |-- SONNBLICK_cloud_cover: integer (nullable = true)\n",
      " |-- SONNBLICK_humidity: double (nullable = true)\n",
      " |-- SONNBLICK_global_radiation: double (nullable = true)\n",
      " |-- SONNBLICK_precipitation: double (nullable = true)\n",
      " |-- SONNBLICK_sunshine: double (nullable = true)\n",
      " |-- SONNBLICK_temp_mean: double (nullable = true)\n",
      " |-- SONNBLICK_temp_min: double (nullable = true)\n",
      " |-- SONNBLICK_temp_max: double (nullable = true)\n",
      " |-- STOCKHOLM_cloud_cover: integer (nullable = true)\n",
      " |-- STOCKHOLM_pressure: double (nullable = true)\n",
      " |-- STOCKHOLM_precipitation: double (nullable = true)\n",
      " |-- STOCKHOLM_sunshine: double (nullable = true)\n",
      " |-- STOCKHOLM_temp_mean: double (nullable = true)\n",
      " |-- STOCKHOLM_temp_min: double (nullable = true)\n",
      " |-- STOCKHOLM_temp_max: double (nullable = true)\n",
      " |-- TOURS_wind_speed: double (nullable = true)\n",
      " |-- TOURS_humidity: double (nullable = true)\n",
      " |-- TOURS_pressure: double (nullable = true)\n",
      " |-- TOURS_global_radiation: double (nullable = true)\n",
      " |-- TOURS_precipitation: double (nullable = true)\n",
      " |-- TOURS_temp_mean: double (nullable = true)\n",
      " |-- TOURS_temp_min: double (nullable = true)\n",
      " |-- TOURS_temp_max: double (nullable = true)\n",
      "\n"
     ]
    }
   ],
   "source": [
    "df1.printSchema()"
   ]
  },
  {
   "cell_type": "code",
   "execution_count": 7,
   "id": "a808ced5",
   "metadata": {
    "execution": {
     "iopub.execute_input": "2023-12-08T07:45:23.382309Z",
     "iopub.status.busy": "2023-12-08T07:45:23.381125Z",
     "iopub.status.idle": "2023-12-08T07:45:23.388449Z",
     "shell.execute_reply": "2023-12-08T07:45:23.387500Z"
    },
    "papermill": {
     "duration": 0.037213,
     "end_time": "2023-12-08T07:45:23.391371",
     "exception": false,
     "start_time": "2023-12-08T07:45:23.354158",
     "status": "completed"
    },
    "tags": []
   },
   "outputs": [
    {
     "name": "stdout",
     "output_type": "stream",
     "text": [
      "root\n",
      " |-- DATE: integer (nullable = true)\n",
      " |-- BASEL_BBQ_weather: boolean (nullable = true)\n",
      " |-- BUDAPEST_BBQ_weather: boolean (nullable = true)\n",
      " |-- DE_BBQ_weather: boolean (nullable = true)\n",
      " |-- DRESDEN_BBQ_weather: boolean (nullable = true)\n",
      " |-- DUSSELDORF_BBQ_weather: boolean (nullable = true)\n",
      " |-- HEATHROW_BBQ_weather: boolean (nullable = true)\n",
      " |-- KASSEL_BBQ_weather: boolean (nullable = true)\n",
      " |-- LJUBLJANA_BBQ_weather: boolean (nullable = true)\n",
      " |-- MAASTRICHT_BBQ_weather: boolean (nullable = true)\n",
      " |-- MALMO_BBQ_weather: boolean (nullable = true)\n",
      " |-- MONTELIMAR_BBQ_weather: boolean (nullable = true)\n",
      " |-- MUENCHEN_BBQ_weather: boolean (nullable = true)\n",
      " |-- OSLO_BBQ_weather: boolean (nullable = true)\n",
      " |-- PERPIGNAN_BBQ_weather: boolean (nullable = true)\n",
      " |-- SONNBLICK_BBQ_weather: boolean (nullable = true)\n",
      " |-- STOCKHOLM_BBQ_weather: boolean (nullable = true)\n",
      " |-- TOURS_BBQ_weather: boolean (nullable = true)\n",
      "\n"
     ]
    }
   ],
   "source": [
    "df2.printSchema()"
   ]
  },
  {
   "cell_type": "markdown",
   "id": "8903e45c",
   "metadata": {
    "papermill": {
     "duration": 0.068684,
     "end_time": "2023-12-08T07:45:23.486299",
     "exception": false,
     "start_time": "2023-12-08T07:45:23.417615",
     "status": "completed"
    },
    "tags": []
   },
   "source": [
    "# Choose a subset of the data"
   ]
  },
  {
   "cell_type": "code",
   "execution_count": 8,
   "id": "fccb6502",
   "metadata": {
    "execution": {
     "iopub.execute_input": "2023-12-08T07:45:23.524275Z",
     "iopub.status.busy": "2023-12-08T07:45:23.523914Z",
     "iopub.status.idle": "2023-12-08T07:45:23.598009Z",
     "shell.execute_reply": "2023-12-08T07:45:23.597110Z"
    },
    "papermill": {
     "duration": 0.095164,
     "end_time": "2023-12-08T07:45:23.600069",
     "exception": false,
     "start_time": "2023-12-08T07:45:23.504905",
     "status": "completed"
    },
    "tags": []
   },
   "outputs": [
    {
     "data": {
      "text/plain": [
       "['MAASTRICHT_cloud_cover',\n",
       " 'MAASTRICHT_wind_speed',\n",
       " 'MAASTRICHT_wind_gust',\n",
       " 'MAASTRICHT_humidity',\n",
       " 'MAASTRICHT_pressure',\n",
       " 'MAASTRICHT_global_radiation',\n",
       " 'MAASTRICHT_precipitation',\n",
       " 'MAASTRICHT_sunshine',\n",
       " 'MAASTRICHT_temp_mean',\n",
       " 'MAASTRICHT_temp_min',\n",
       " 'MAASTRICHT_temp_max']"
      ]
     },
     "execution_count": 8,
     "metadata": {},
     "output_type": "execute_result"
    }
   ],
   "source": [
    "#pick the columns corresponding to Maastricht\n",
    "df1.columns[80:91]"
   ]
  },
  {
   "cell_type": "markdown",
   "id": "fe7bbac8",
   "metadata": {
    "papermill": {
     "duration": 0.018158,
     "end_time": "2023-12-08T07:45:23.636900",
     "exception": false,
     "start_time": "2023-12-08T07:45:23.618742",
     "status": "completed"
    },
    "tags": []
   },
   "source": []
  },
  {
   "cell_type": "code",
   "execution_count": 9,
   "id": "293bd1ca",
   "metadata": {
    "execution": {
     "iopub.execute_input": "2023-12-08T07:45:23.674694Z",
     "iopub.status.busy": "2023-12-08T07:45:23.674392Z",
     "iopub.status.idle": "2023-12-08T07:45:23.728204Z",
     "shell.execute_reply": "2023-12-08T07:45:23.727065Z"
    },
    "papermill": {
     "duration": 0.075239,
     "end_time": "2023-12-08T07:45:23.730342",
     "exception": false,
     "start_time": "2023-12-08T07:45:23.655103",
     "status": "completed"
    },
    "tags": []
   },
   "outputs": [],
   "source": [
    "dfM = df1.select(['DATE','MAASTRICHT_cloud_cover',\n",
    " 'MAASTRICHT_wind_speed',\n",
    " 'MAASTRICHT_wind_gust',\n",
    " 'MAASTRICHT_humidity',\n",
    " 'MAASTRICHT_pressure',\n",
    " 'MAASTRICHT_global_radiation',\n",
    " 'MAASTRICHT_precipitation',\n",
    " 'MAASTRICHT_sunshine',\n",
    " 'MAASTRICHT_temp_mean',\n",
    " 'MAASTRICHT_temp_min',\n",
    " 'MAASTRICHT_temp_max'])"
   ]
  },
  {
   "cell_type": "code",
   "execution_count": 10,
   "id": "0ddb358d",
   "metadata": {
    "execution": {
     "iopub.execute_input": "2023-12-08T07:45:23.768586Z",
     "iopub.status.busy": "2023-12-08T07:45:23.768286Z",
     "iopub.status.idle": "2023-12-08T07:45:24.041363Z",
     "shell.execute_reply": "2023-12-08T07:45:24.040458Z"
    },
    "papermill": {
     "duration": 0.295142,
     "end_time": "2023-12-08T07:45:24.044019",
     "exception": false,
     "start_time": "2023-12-08T07:45:23.748877",
     "status": "completed"
    },
    "tags": []
   },
   "outputs": [
    {
     "name": "stdout",
     "output_type": "stream",
     "text": [
      "+--------+----------------------+\n",
      "|    DATE|MAASTRICHT_BBQ_weather|\n",
      "+--------+----------------------+\n",
      "|20000101|                 false|\n",
      "|20000102|                 false|\n",
      "|20000103|                 false|\n",
      "|20000104|                 false|\n",
      "|20000105|                 false|\n",
      "|20000106|                 false|\n",
      "|20000107|                 false|\n",
      "|20000108|                 false|\n",
      "|20000109|                 false|\n",
      "|20000110|                 false|\n",
      "|20000111|                 false|\n",
      "|20000112|                 false|\n",
      "|20000113|                 false|\n",
      "|20000114|                 false|\n",
      "|20000115|                 false|\n",
      "|20000116|                 false|\n",
      "|20000117|                 false|\n",
      "|20000118|                 false|\n",
      "|20000119|                 false|\n",
      "|20000120|                 false|\n",
      "+--------+----------------------+\n",
      "only showing top 20 rows\n",
      "\n"
     ]
    }
   ],
   "source": [
    "dfM2 = df2.select(['DATE','MAASTRICHT_BBQ_weather'])\n",
    "dfM2.show()"
   ]
  },
  {
   "cell_type": "code",
   "execution_count": 11,
   "id": "ddf4a827",
   "metadata": {
    "execution": {
     "iopub.execute_input": "2023-12-08T07:45:24.092828Z",
     "iopub.status.busy": "2023-12-08T07:45:24.092460Z",
     "iopub.status.idle": "2023-12-08T07:45:24.123453Z",
     "shell.execute_reply": "2023-12-08T07:45:24.122534Z"
    },
    "papermill": {
     "duration": 0.053961,
     "end_time": "2023-12-08T07:45:24.125612",
     "exception": false,
     "start_time": "2023-12-08T07:45:24.071651",
     "status": "completed"
    },
    "tags": []
   },
   "outputs": [],
   "source": [
    "import pyspark.sql.functions as F\n",
    "from functools import reduce\n",
    "\n",
    "#convert the Boolean True/Fase to 0 or 1\n",
    "cols = [\"MAASTRICHT_BBQ_weather\"]\n",
    "dfM2 = reduce(lambda df, c: dfM2.withColumn(c, F.when(df[c] == 'false', 0).otherwise(1)), cols, dfM2)\n"
   ]
  },
  {
   "cell_type": "code",
   "execution_count": 12,
   "id": "ac146b2c",
   "metadata": {
    "execution": {
     "iopub.execute_input": "2023-12-08T07:45:24.165931Z",
     "iopub.status.busy": "2023-12-08T07:45:24.164877Z",
     "iopub.status.idle": "2023-12-08T07:45:24.358133Z",
     "shell.execute_reply": "2023-12-08T07:45:24.356248Z"
    },
    "papermill": {
     "duration": 0.215902,
     "end_time": "2023-12-08T07:45:24.360512",
     "exception": false,
     "start_time": "2023-12-08T07:45:24.144610",
     "status": "completed"
    },
    "tags": []
   },
   "outputs": [
    {
     "name": "stdout",
     "output_type": "stream",
     "text": [
      "+--------+----------------------+\n",
      "|    DATE|MAASTRICHT_BBQ_weather|\n",
      "+--------+----------------------+\n",
      "|20000101|                     0|\n",
      "|20000102|                     0|\n",
      "|20000103|                     0|\n",
      "|20000104|                     0|\n",
      "|20000105|                     0|\n",
      "|20000106|                     0|\n",
      "|20000107|                     0|\n",
      "|20000108|                     0|\n",
      "|20000109|                     0|\n",
      "|20000110|                     0|\n",
      "|20000111|                     0|\n",
      "|20000112|                     0|\n",
      "|20000113|                     0|\n",
      "|20000114|                     0|\n",
      "|20000115|                     0|\n",
      "|20000116|                     0|\n",
      "|20000117|                     0|\n",
      "|20000118|                     0|\n",
      "|20000119|                     0|\n",
      "|20000120|                     0|\n",
      "+--------+----------------------+\n",
      "only showing top 20 rows\n",
      "\n"
     ]
    }
   ],
   "source": [
    "dfM2.show()"
   ]
  },
  {
   "cell_type": "code",
   "execution_count": 13,
   "id": "d65836d7",
   "metadata": {
    "execution": {
     "iopub.execute_input": "2023-12-08T07:45:24.400959Z",
     "iopub.status.busy": "2023-12-08T07:45:24.400620Z",
     "iopub.status.idle": "2023-12-08T07:45:24.444724Z",
     "shell.execute_reply": "2023-12-08T07:45:24.443690Z"
    },
    "papermill": {
     "duration": 0.06643,
     "end_time": "2023-12-08T07:45:24.446918",
     "exception": false,
     "start_time": "2023-12-08T07:45:24.380488",
     "status": "completed"
    },
    "tags": []
   },
   "outputs": [
    {
     "name": "stdout",
     "output_type": "stream",
     "text": [
      "root\n",
      " |-- DATE: integer (nullable = true)\n",
      " |-- MAASTRICHT_BBQ_weather: integer (nullable = false)\n",
      " |-- MAASTRICHT_cloud_cover: integer (nullable = true)\n",
      " |-- MAASTRICHT_wind_speed: double (nullable = true)\n",
      " |-- MAASTRICHT_wind_gust: double (nullable = true)\n",
      " |-- MAASTRICHT_humidity: double (nullable = true)\n",
      " |-- MAASTRICHT_pressure: double (nullable = true)\n",
      " |-- MAASTRICHT_global_radiation: double (nullable = true)\n",
      " |-- MAASTRICHT_precipitation: double (nullable = true)\n",
      " |-- MAASTRICHT_sunshine: double (nullable = true)\n",
      " |-- MAASTRICHT_temp_mean: double (nullable = true)\n",
      " |-- MAASTRICHT_temp_min: double (nullable = true)\n",
      " |-- MAASTRICHT_temp_max: double (nullable = true)\n",
      "\n"
     ]
    }
   ],
   "source": [
    "#Join the labels (True, False) from the second newly created dataframe to the first one\n",
    "dfM2= dfM2.join(dfM, on=[\"DATE\"])\n",
    "dfM2.printSchema()"
   ]
  },
  {
   "cell_type": "markdown",
   "id": "0a440cbf",
   "metadata": {
    "papermill": {
     "duration": 0.018736,
     "end_time": "2023-12-08T07:45:24.484581",
     "exception": false,
     "start_time": "2023-12-08T07:45:24.465845",
     "status": "completed"
    },
    "tags": []
   },
   "source": [
    "# Convert data to Spark ML format"
   ]
  },
  {
   "cell_type": "code",
   "execution_count": 14,
   "id": "d024c1c9",
   "metadata": {
    "execution": {
     "iopub.execute_input": "2023-12-08T07:45:24.523942Z",
     "iopub.status.busy": "2023-12-08T07:45:24.523580Z",
     "iopub.status.idle": "2023-12-08T07:45:24.719434Z",
     "shell.execute_reply": "2023-12-08T07:45:24.718511Z"
    },
    "papermill": {
     "duration": 0.217912,
     "end_time": "2023-12-08T07:45:24.721618",
     "exception": false,
     "start_time": "2023-12-08T07:45:24.503706",
     "status": "completed"
    },
    "tags": []
   },
   "outputs": [
    {
     "name": "stderr",
     "output_type": "stream",
     "text": [
      "/opt/conda/lib/python3.10/site-packages/scipy/__init__.py:146: UserWarning: A NumPy version >=1.16.5 and <1.23.0 is required for this version of SciPy (detected version 1.24.3\n",
      "  warnings.warn(f\"A NumPy version >={np_minversion} and <{np_maxversion}\"\n"
     ]
    }
   ],
   "source": [
    "#The data format required by spark ML is (features, label) so we need to assemble all features into a feature vector. \n",
    "from pyspark.ml.feature import VectorAssembler"
   ]
  },
  {
   "cell_type": "code",
   "execution_count": 15,
   "id": "2b256fe0",
   "metadata": {
    "execution": {
     "iopub.execute_input": "2023-12-08T07:45:24.761326Z",
     "iopub.status.busy": "2023-12-08T07:45:24.761010Z",
     "iopub.status.idle": "2023-12-08T07:45:24.783395Z",
     "shell.execute_reply": "2023-12-08T07:45:24.782695Z"
    },
    "papermill": {
     "duration": 0.044468,
     "end_time": "2023-12-08T07:45:24.785303",
     "exception": false,
     "start_time": "2023-12-08T07:45:24.740835",
     "status": "completed"
    },
    "tags": []
   },
   "outputs": [],
   "source": [
    "#create an instance of the Assembler which takes in a series of columns to be used as features\n",
    "#and returns a condensed vector\n",
    "assembler = VectorAssembler(inputCols = ['DATE','MAASTRICHT_cloud_cover',\n",
    " 'MAASTRICHT_wind_speed',\n",
    " 'MAASTRICHT_wind_gust',\n",
    " 'MAASTRICHT_humidity',\n",
    " 'MAASTRICHT_pressure',\n",
    " 'MAASTRICHT_global_radiation',\n",
    " 'MAASTRICHT_precipitation',\n",
    " 'MAASTRICHT_sunshine',\n",
    " 'MAASTRICHT_temp_mean',\n",
    " 'MAASTRICHT_temp_min',\n",
    " 'MAASTRICHT_temp_max',\n",
    " 'MAASTRICHT_cloud_cover',\n",
    " 'MAASTRICHT_wind_speed',\n",
    " 'MAASTRICHT_wind_gust',\n",
    " 'MAASTRICHT_humidity',\n",
    " 'MAASTRICHT_pressure',\n",
    " 'MAASTRICHT_global_radiation',\n",
    " 'MAASTRICHT_precipitation',\n",
    " 'MAASTRICHT_sunshine',\n",
    " 'MAASTRICHT_temp_mean',\n",
    " 'MAASTRICHT_temp_min',\n",
    " 'MAASTRICHT_temp_max'], outputCol = 'features')"
   ]
  },
  {
   "cell_type": "code",
   "execution_count": 16,
   "id": "4b2ccaf2",
   "metadata": {
    "execution": {
     "iopub.execute_input": "2023-12-08T07:45:24.823472Z",
     "iopub.status.busy": "2023-12-08T07:45:24.823188Z",
     "iopub.status.idle": "2023-12-08T07:45:24.952277Z",
     "shell.execute_reply": "2023-12-08T07:45:24.951210Z"
    },
    "papermill": {
     "duration": 0.151461,
     "end_time": "2023-12-08T07:45:24.955207",
     "exception": false,
     "start_time": "2023-12-08T07:45:24.803746",
     "status": "completed"
    },
    "tags": []
   },
   "outputs": [],
   "source": [
    "#Call the 'transform' method on the dataframe returns a new dataframe with the newly created 'features' column\n",
    "\n",
    "data = assembler.transform(dfM2)"
   ]
  },
  {
   "cell_type": "code",
   "execution_count": 17,
   "id": "ef652db0",
   "metadata": {
    "execution": {
     "iopub.execute_input": "2023-12-08T07:45:25.006558Z",
     "iopub.status.busy": "2023-12-08T07:45:25.006224Z",
     "iopub.status.idle": "2023-12-08T07:45:26.154267Z",
     "shell.execute_reply": "2023-12-08T07:45:26.153279Z"
    },
    "papermill": {
     "duration": 1.173226,
     "end_time": "2023-12-08T07:45:26.157586",
     "exception": false,
     "start_time": "2023-12-08T07:45:24.984360",
     "status": "completed"
    },
    "tags": []
   },
   "outputs": [
    {
     "name": "stderr",
     "output_type": "stream",
     "text": [
      "23/12/08 07:45:25 WARN SparkStringUtils: Truncated the string representation of a plan since it was too large. This behavior can be adjusted by setting 'spark.sql.debug.maxToStringFields'.\n"
     ]
    },
    {
     "name": "stdout",
     "output_type": "stream",
     "text": [
      "+--------------------+----------------------+\n",
      "|            features|MAASTRICHT_BBQ_weather|\n",
      "+--------------------+----------------------+\n",
      "|[2.0000101E7,8.0,...|                     0|\n",
      "|[2.0000102E7,7.0,...|                     0|\n",
      "|[2.0000103E7,7.0,...|                     0|\n",
      "|[2.0000104E7,8.0,...|                     0|\n",
      "|[2.0000105E7,4.0,...|                     0|\n",
      "|[2.0000106E7,6.0,...|                     0|\n",
      "|[2.0000107E7,6.0,...|                     0|\n",
      "|[2.0000108E7,7.0,...|                     0|\n",
      "|[2.0000109E7,6.0,...|                     0|\n",
      "|[2.000011E7,7.0,1...|                     0|\n",
      "|[2.0000111E7,3.0,...|                     0|\n",
      "|[2.0000112E7,5.0,...|                     0|\n",
      "|[2.0000113E7,8.0,...|                     0|\n",
      "|[2.0000114E7,8.0,...|                     0|\n",
      "|[2.0000115E7,8.0,...|                     0|\n",
      "|[2.0000116E7,8.0,...|                     0|\n",
      "|[2.0000117E7,8.0,...|                     0|\n",
      "|[2.0000118E7,8.0,...|                     0|\n",
      "|[2.0000119E7,7.0,...|                     0|\n",
      "|[2.000012E7,8.0,3...|                     0|\n",
      "+--------------------+----------------------+\n",
      "only showing top 20 rows\n",
      "\n"
     ]
    }
   ],
   "source": [
    "final_data = data.select(['features','MAASTRICHT_BBQ_weather'])\n",
    "final_data.show()"
   ]
  },
  {
   "cell_type": "markdown",
   "id": "6b00e704",
   "metadata": {
    "papermill": {
     "duration": 0.027132,
     "end_time": "2023-12-08T07:45:26.213160",
     "exception": false,
     "start_time": "2023-12-08T07:45:26.186028",
     "status": "completed"
    },
    "tags": []
   },
   "source": [
    "# Spark ML tree-based methods: DecisionTree, RandomForest"
   ]
  },
  {
   "cell_type": "code",
   "execution_count": 18,
   "id": "fb58902f",
   "metadata": {
    "execution": {
     "iopub.execute_input": "2023-12-08T07:45:26.271190Z",
     "iopub.status.busy": "2023-12-08T07:45:26.270707Z",
     "iopub.status.idle": "2023-12-08T07:45:26.275843Z",
     "shell.execute_reply": "2023-12-08T07:45:26.274966Z"
    },
    "papermill": {
     "duration": 0.036435,
     "end_time": "2023-12-08T07:45:26.278184",
     "exception": false,
     "start_time": "2023-12-08T07:45:26.241749",
     "status": "completed"
    },
    "tags": []
   },
   "outputs": [],
   "source": [
    "from pyspark.ml.classification import DecisionTreeClassifier,GBTClassifier,RandomForestClassifier\n",
    "from pyspark.ml import Pipeline"
   ]
  },
  {
   "cell_type": "code",
   "execution_count": 19,
   "id": "e316a72b",
   "metadata": {
    "execution": {
     "iopub.execute_input": "2023-12-08T07:45:26.331304Z",
     "iopub.status.busy": "2023-12-08T07:45:26.330326Z",
     "iopub.status.idle": "2023-12-08T07:45:26.357498Z",
     "shell.execute_reply": "2023-12-08T07:45:26.356375Z"
    },
    "papermill": {
     "duration": 0.053754,
     "end_time": "2023-12-08T07:45:26.360006",
     "exception": false,
     "start_time": "2023-12-08T07:45:26.306252",
     "status": "completed"
    },
    "tags": []
   },
   "outputs": [],
   "source": [
    "train_data,test_data = final_data.randomSplit([0.7,0.3])"
   ]
  },
  {
   "cell_type": "code",
   "execution_count": 20,
   "id": "ac94230a",
   "metadata": {
    "execution": {
     "iopub.execute_input": "2023-12-08T07:45:26.402658Z",
     "iopub.status.busy": "2023-12-08T07:45:26.402268Z",
     "iopub.status.idle": "2023-12-08T07:45:26.539265Z",
     "shell.execute_reply": "2023-12-08T07:45:26.538252Z"
    },
    "papermill": {
     "duration": 0.160185,
     "end_time": "2023-12-08T07:45:26.541962",
     "exception": false,
     "start_time": "2023-12-08T07:45:26.381777",
     "status": "completed"
    },
    "tags": []
   },
   "outputs": [],
   "source": [
    "dtc = DecisionTreeClassifier(labelCol='MAASTRICHT_BBQ_weather',featuresCol='features')\n",
    "rfc = RandomForestClassifier(labelCol='MAASTRICHT_BBQ_weather',featuresCol='features')\n",
    "gbt = GBTClassifier(labelCol='MAASTRICHT_BBQ_weather',featuresCol='features')"
   ]
  },
  {
   "cell_type": "code",
   "execution_count": 21,
   "id": "0d51a7eb",
   "metadata": {
    "execution": {
     "iopub.execute_input": "2023-12-08T07:45:26.586039Z",
     "iopub.status.busy": "2023-12-08T07:45:26.585714Z",
     "iopub.status.idle": "2023-12-08T07:45:40.733727Z",
     "shell.execute_reply": "2023-12-08T07:45:40.732544Z"
    },
    "papermill": {
     "duration": 14.171377,
     "end_time": "2023-12-08T07:45:40.736847",
     "exception": false,
     "start_time": "2023-12-08T07:45:26.565470",
     "status": "completed"
    },
    "tags": []
   },
   "outputs": [],
   "source": [
    "# Train the models (its three models, so it might take some time)\n",
    "dtc_model = dtc.fit(train_data)\n",
    "rfc_model = rfc.fit(train_data)\n",
    "gbt_model = gbt.fit(train_data)"
   ]
  },
  {
   "cell_type": "code",
   "execution_count": 22,
   "id": "341a62a2",
   "metadata": {
    "execution": {
     "iopub.execute_input": "2023-12-08T07:45:40.792020Z",
     "iopub.status.busy": "2023-12-08T07:45:40.791679Z",
     "iopub.status.idle": "2023-12-08T07:45:40.994386Z",
     "shell.execute_reply": "2023-12-08T07:45:40.993157Z"
    },
    "papermill": {
     "duration": 0.232129,
     "end_time": "2023-12-08T07:45:40.997303",
     "exception": false,
     "start_time": "2023-12-08T07:45:40.765174",
     "status": "completed"
    },
    "tags": []
   },
   "outputs": [],
   "source": [
    "#Call 'transform' on the test_data\n",
    "#these will create 3 new dataframes for each model\n",
    "dtc_predictions = dtc_model.transform(test_data)\n",
    "rfc_predictions = rfc_model.transform(test_data)\n",
    "gbt_predictions = gbt_model.transform(test_data)"
   ]
  },
  {
   "cell_type": "code",
   "execution_count": 23,
   "id": "8c222043",
   "metadata": {
    "execution": {
     "iopub.execute_input": "2023-12-08T07:45:41.055123Z",
     "iopub.status.busy": "2023-12-08T07:45:41.053861Z",
     "iopub.status.idle": "2023-12-08T07:45:41.536228Z",
     "shell.execute_reply": "2023-12-08T07:45:41.535208Z"
    },
    "papermill": {
     "duration": 0.513701,
     "end_time": "2023-12-08T07:45:41.538859",
     "exception": false,
     "start_time": "2023-12-08T07:45:41.025158",
     "status": "completed"
    },
    "tags": []
   },
   "outputs": [
    {
     "name": "stdout",
     "output_type": "stream",
     "text": [
      "+--------------------+----------------------+--------------------+--------------------+----------+\n",
      "|            features|MAASTRICHT_BBQ_weather|       rawPrediction|         probability|prediction|\n",
      "+--------------------+----------------------+--------------------+--------------------+----------+\n",
      "|[2.0000104E7,8.0,...|                     0|[19.9803464359417...|[0.99901732179708...|       0.0|\n",
      "|[2.0000107E7,6.0,...|                     0|[19.8906189481361...|[0.99453094740680...|       0.0|\n",
      "|[2.0000108E7,7.0,...|                     0|[19.9823033831042...|[0.99911516915521...|       0.0|\n",
      "|[2.000011E7,7.0,1...|                     0|[19.9823033831042...|[0.99911516915521...|       0.0|\n",
      "|[2.0000111E7,3.0,...|                     0|[19.8906189481361...|[0.99453094740680...|       0.0|\n",
      "|[2.0000116E7,8.0,...|                     0|[19.9823033831042...|[0.99911516915521...|       0.0|\n",
      "|[2.0000121E7,8.0,...|                     0|[19.9823033831042...|[0.99911516915521...|       0.0|\n",
      "|[2.0000125E7,2.0,...|                     0|[19.8924305423390...|[0.99462152711695...|       0.0|\n",
      "|[2.0000127E7,2.0,...|                     0|[19.8924305423390...|[0.99462152711695...|       0.0|\n",
      "|[2.0000131E7,8.0,...|                     0|[19.9803464359417...|[0.99901732179708...|       0.0|\n",
      "|[2.0000202E7,5.0,...|                     0|[19.9823033831042...|[0.99911516915521...|       0.0|\n",
      "|[2.0000204E7,8.0,...|                     0|[19.9823033831042...|[0.99911516915521...|       0.0|\n",
      "|[2.0000214E7,4.0,...|                     0|[19.9841149773071...|[0.99920574886535...|       0.0|\n",
      "|[2.0000218E7,8.0,...|                     0|[19.9823033831042...|[0.99911516915521...|       0.0|\n",
      "|[2.000022E7,4.0,2...|                     0|[19.9823033831042...|[0.99911516915521...|       0.0|\n",
      "|[2.0000225E7,4.0,...|                     0|[19.9823033831042...|[0.99911516915521...|       0.0|\n",
      "|[2.0000226E7,2.0,...|                     0|[19.8924305423390...|[0.99462152711695...|       0.0|\n",
      "|[2.0000303E7,7.0,...|                     0|[19.9823033831042...|[0.99911516915521...|       0.0|\n",
      "|[2.0000307E7,8.0,...|                     0|[19.9803464359417...|[0.99901732179708...|       0.0|\n",
      "|[2.0000308E7,8.0,...|                     0|[19.9803464359417...|[0.99901732179708...|       0.0|\n",
      "+--------------------+----------------------+--------------------+--------------------+----------+\n",
      "only showing top 20 rows\n",
      "\n"
     ]
    }
   ],
   "source": [
    "#let's look at one of the newly created dataframes\n",
    "rfc_predictions.show()"
   ]
  },
  {
   "cell_type": "markdown",
   "id": "269b7d0d",
   "metadata": {
    "papermill": {
     "duration": 0.018794,
     "end_time": "2023-12-08T07:45:41.577078",
     "exception": false,
     "start_time": "2023-12-08T07:45:41.558284",
     "status": "completed"
    },
    "tags": []
   },
   "source": [
    "# Accuracy evaluation"
   ]
  },
  {
   "cell_type": "code",
   "execution_count": 24,
   "id": "25b402a0",
   "metadata": {
    "execution": {
     "iopub.execute_input": "2023-12-08T07:45:41.617808Z",
     "iopub.status.busy": "2023-12-08T07:45:41.616759Z",
     "iopub.status.idle": "2023-12-08T07:45:41.621854Z",
     "shell.execute_reply": "2023-12-08T07:45:41.620960Z"
    },
    "papermill": {
     "duration": 0.027806,
     "end_time": "2023-12-08T07:45:41.623893",
     "exception": false,
     "start_time": "2023-12-08T07:45:41.596087",
     "status": "completed"
    },
    "tags": []
   },
   "outputs": [],
   "source": [
    "from pyspark.ml.evaluation import MulticlassClassificationEvaluator"
   ]
  },
  {
   "cell_type": "code",
   "execution_count": 25,
   "id": "7fc59d13",
   "metadata": {
    "execution": {
     "iopub.execute_input": "2023-12-08T07:45:41.666234Z",
     "iopub.status.busy": "2023-12-08T07:45:41.665727Z",
     "iopub.status.idle": "2023-12-08T07:45:41.677541Z",
     "shell.execute_reply": "2023-12-08T07:45:41.676677Z"
    },
    "papermill": {
     "duration": 0.036749,
     "end_time": "2023-12-08T07:45:41.679584",
     "exception": false,
     "start_time": "2023-12-08T07:45:41.642835",
     "status": "completed"
    },
    "tags": []
   },
   "outputs": [],
   "source": [
    "# Select (prediction, true label) and compute test error\n",
    "acc_evaluator = MulticlassClassificationEvaluator(labelCol=\"MAASTRICHT_BBQ_weather\", predictionCol=\"prediction\", metricName=\"accuracy\")"
   ]
  },
  {
   "cell_type": "code",
   "execution_count": 26,
   "id": "074e76b3",
   "metadata": {
    "execution": {
     "iopub.execute_input": "2023-12-08T07:45:41.719916Z",
     "iopub.status.busy": "2023-12-08T07:45:41.719611Z",
     "iopub.status.idle": "2023-12-08T07:45:43.037426Z",
     "shell.execute_reply": "2023-12-08T07:45:43.035967Z"
    },
    "papermill": {
     "duration": 1.342111,
     "end_time": "2023-12-08T07:45:43.041025",
     "exception": false,
     "start_time": "2023-12-08T07:45:41.698914",
     "status": "completed"
    },
    "tags": []
   },
   "outputs": [],
   "source": [
    "dtc_acc = acc_evaluator.evaluate(dtc_predictions)\n",
    "rfc_acc = acc_evaluator.evaluate(rfc_predictions)\n",
    "gbt_acc = acc_evaluator.evaluate(gbt_predictions)"
   ]
  },
  {
   "cell_type": "code",
   "execution_count": 27,
   "id": "f6f3955e",
   "metadata": {
    "execution": {
     "iopub.execute_input": "2023-12-08T07:45:43.084252Z",
     "iopub.status.busy": "2023-12-08T07:45:43.083919Z",
     "iopub.status.idle": "2023-12-08T07:45:43.091536Z",
     "shell.execute_reply": "2023-12-08T07:45:43.090671Z"
    },
    "papermill": {
     "duration": 0.029906,
     "end_time": "2023-12-08T07:45:43.093731",
     "exception": false,
     "start_time": "2023-12-08T07:45:43.063825",
     "status": "completed"
    },
    "tags": []
   },
   "outputs": [
    {
     "name": "stdout",
     "output_type": "stream",
     "text": [
      "Here are the results!\n",
      "--------------------------------------------------------------------------------\n",
      "A single decision tree had an accuracy of: 100.00%\n",
      "--------------------------------------------------------------------------------\n",
      "A random forest ensemble had an accuracy of: 100.00%\n",
      "--------------------------------------------------------------------------------\n",
      "A ensemble using GBT had an accuracy of: 100.00%\n"
     ]
    }
   ],
   "source": [
    "print(\"Here are the results!\")\n",
    "print('-'*80)\n",
    "print('A single decision tree had an accuracy of: {0:2.2f}%'.format(dtc_acc*100))\n",
    "print('-'*80)\n",
    "print('A random forest ensemble had an accuracy of: {0:2.2f}%'.format(rfc_acc*100))\n",
    "print('-'*80)\n",
    "print('A ensemble using GBT had an accuracy of: {0:2.2f}%'.format(gbt_acc*100))"
   ]
  },
  {
   "cell_type": "markdown",
   "id": "fae246b5",
   "metadata": {
    "papermill": {
     "duration": 0.018778,
     "end_time": "2023-12-08T07:45:43.131847",
     "exception": false,
     "start_time": "2023-12-08T07:45:43.113069",
     "status": "completed"
    },
    "tags": []
   },
   "source": [
    "All methods have the accuracy of 1 (this is the same result obtained using RandomForestClassifier from sklearn.ensemble in the other notebook). "
   ]
  },
  {
   "cell_type": "code",
   "execution_count": null,
   "id": "7420a520",
   "metadata": {
    "papermill": {
     "duration": 0.018743,
     "end_time": "2023-12-08T07:45:43.170614",
     "exception": false,
     "start_time": "2023-12-08T07:45:43.151871",
     "status": "completed"
    },
    "tags": []
   },
   "outputs": [],
   "source": []
  }
 ],
 "metadata": {
  "kaggle": {
   "accelerator": "gpu",
   "dataSources": [
    {
     "datasetId": 2459900,
     "sourceId": 4167948,
     "sourceType": "datasetVersion"
    }
   ],
   "dockerImageVersionId": 30616,
   "isGpuEnabled": true,
   "isInternetEnabled": true,
   "language": "python",
   "sourceType": "notebook"
  },
  "kernelspec": {
   "display_name": "Python 3",
   "language": "python",
   "name": "python3"
  },
  "language_info": {
   "codemirror_mode": {
    "name": "ipython",
    "version": 3
   },
   "file_extension": ".py",
   "mimetype": "text/x-python",
   "name": "python",
   "nbconvert_exporter": "python",
   "pygments_lexer": "ipython3",
   "version": "3.10.12"
  },
  "papermill": {
   "default_parameters": {},
   "duration": 84.082822,
   "end_time": "2023-12-08T07:45:45.807951",
   "environment_variables": {},
   "exception": null,
   "input_path": "__notebook__.ipynb",
   "output_path": "__notebook__.ipynb",
   "parameters": {},
   "start_time": "2023-12-08T07:44:21.725129",
   "version": "2.4.0"
  }
 },
 "nbformat": 4,
 "nbformat_minor": 5
}
