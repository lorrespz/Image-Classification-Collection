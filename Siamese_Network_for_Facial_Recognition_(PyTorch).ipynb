{
  "nbformat": 4,
  "nbformat_minor": 0,
  "metadata": {
    "colab": {
      "provenance": [],
      "authorship_tag": "ABX9TyOUXSxVoLqV8CTadMTwC939",
      "include_colab_link": true
    },
    "kernelspec": {
      "name": "python3",
      "display_name": "Python 3"
    },
    "language_info": {
      "name": "python"
    }
  },
  "cells": [
    {
      "cell_type": "markdown",
      "metadata": {
        "id": "view-in-github",
        "colab_type": "text"
      },
      "source": [
        "<a href=\"https://colab.research.google.com/github/lorrespz/Image_classification_collection/blob/main/Siamese_Network_for_Facial_Recognition_(PyTorch).ipynb\" target=\"_parent\"><img src=\"https://colab.research.google.com/assets/colab-badge.svg\" alt=\"Open In Colab\"/></a>"
      ]
    },
    {
      "cell_type": "markdown",
      "source": [
        "# Siamese network for facial recognition with Yale face dataset\n"
      ],
      "metadata": {
        "id": "pOC80nM3y67J"
      }
    },
    {
      "cell_type": "code",
      "execution_count": 1,
      "metadata": {
        "id": "eZr0FXwYy1vb"
      },
      "outputs": [],
      "source": [
        "import torch\n",
        "import torch.nn as nn\n",
        "import torch.nn.functional as F\n",
        "import torchvision\n",
        "import torchvision.transforms as transforms\n",
        "\n",
        "import numpy as np\n",
        "import matplotlib.pyplot as plt\n",
        "\n",
        "from sklearn.utils import shuffle\n",
        "from datetime import datetime\n",
        "from glob import glob\n",
        "from collections import Counter\n",
        "\n",
        "import tensorflow as tf\n",
        "from keras.preprocessing import image"
      ]
    },
    {
      "cell_type": "markdown",
      "source": [
        "# Load the dataset"
      ],
      "metadata": {
        "id": "4TStk-Bu6hvi"
      }
    },
    {
      "cell_type": "code",
      "source": [
        "#https://www.kaggle.com/datasets/olgabelitskaya/yale-face-database/data\n",
        "#dataset downloaded from Kaggle url above\n",
        "from google.colab import files\n",
        "yaleface = files.upload()"
      ],
      "metadata": {
        "colab": {
          "base_uri": "https://localhost:8080/",
          "height": 76
        },
        "id": "Fwy3LW0W2WhR",
        "outputId": "6b1207b2-59ba-487c-dfdd-eea2d8773c58"
      },
      "execution_count": 2,
      "outputs": [
        {
          "output_type": "display_data",
          "data": {
            "text/plain": [
              "<IPython.core.display.HTML object>"
            ],
            "text/html": [
              "\n",
              "     <input type=\"file\" id=\"files-3359781c-95d5-4812-bbaa-d1a266356dd3\" name=\"files[]\" multiple disabled\n",
              "        style=\"border:none\" />\n",
              "     <output id=\"result-3359781c-95d5-4812-bbaa-d1a266356dd3\">\n",
              "      Upload widget is only available when the cell has been executed in the\n",
              "      current browser session. Please rerun this cell to enable.\n",
              "      </output>\n",
              "      <script>// Copyright 2017 Google LLC\n",
              "//\n",
              "// Licensed under the Apache License, Version 2.0 (the \"License\");\n",
              "// you may not use this file except in compliance with the License.\n",
              "// You may obtain a copy of the License at\n",
              "//\n",
              "//      http://www.apache.org/licenses/LICENSE-2.0\n",
              "//\n",
              "// Unless required by applicable law or agreed to in writing, software\n",
              "// distributed under the License is distributed on an \"AS IS\" BASIS,\n",
              "// WITHOUT WARRANTIES OR CONDITIONS OF ANY KIND, either express or implied.\n",
              "// See the License for the specific language governing permissions and\n",
              "// limitations under the License.\n",
              "\n",
              "/**\n",
              " * @fileoverview Helpers for google.colab Python module.\n",
              " */\n",
              "(function(scope) {\n",
              "function span(text, styleAttributes = {}) {\n",
              "  const element = document.createElement('span');\n",
              "  element.textContent = text;\n",
              "  for (const key of Object.keys(styleAttributes)) {\n",
              "    element.style[key] = styleAttributes[key];\n",
              "  }\n",
              "  return element;\n",
              "}\n",
              "\n",
              "// Max number of bytes which will be uploaded at a time.\n",
              "const MAX_PAYLOAD_SIZE = 100 * 1024;\n",
              "\n",
              "function _uploadFiles(inputId, outputId) {\n",
              "  const steps = uploadFilesStep(inputId, outputId);\n",
              "  const outputElement = document.getElementById(outputId);\n",
              "  // Cache steps on the outputElement to make it available for the next call\n",
              "  // to uploadFilesContinue from Python.\n",
              "  outputElement.steps = steps;\n",
              "\n",
              "  return _uploadFilesContinue(outputId);\n",
              "}\n",
              "\n",
              "// This is roughly an async generator (not supported in the browser yet),\n",
              "// where there are multiple asynchronous steps and the Python side is going\n",
              "// to poll for completion of each step.\n",
              "// This uses a Promise to block the python side on completion of each step,\n",
              "// then passes the result of the previous step as the input to the next step.\n",
              "function _uploadFilesContinue(outputId) {\n",
              "  const outputElement = document.getElementById(outputId);\n",
              "  const steps = outputElement.steps;\n",
              "\n",
              "  const next = steps.next(outputElement.lastPromiseValue);\n",
              "  return Promise.resolve(next.value.promise).then((value) => {\n",
              "    // Cache the last promise value to make it available to the next\n",
              "    // step of the generator.\n",
              "    outputElement.lastPromiseValue = value;\n",
              "    return next.value.response;\n",
              "  });\n",
              "}\n",
              "\n",
              "/**\n",
              " * Generator function which is called between each async step of the upload\n",
              " * process.\n",
              " * @param {string} inputId Element ID of the input file picker element.\n",
              " * @param {string} outputId Element ID of the output display.\n",
              " * @return {!Iterable<!Object>} Iterable of next steps.\n",
              " */\n",
              "function* uploadFilesStep(inputId, outputId) {\n",
              "  const inputElement = document.getElementById(inputId);\n",
              "  inputElement.disabled = false;\n",
              "\n",
              "  const outputElement = document.getElementById(outputId);\n",
              "  outputElement.innerHTML = '';\n",
              "\n",
              "  const pickedPromise = new Promise((resolve) => {\n",
              "    inputElement.addEventListener('change', (e) => {\n",
              "      resolve(e.target.files);\n",
              "    });\n",
              "  });\n",
              "\n",
              "  const cancel = document.createElement('button');\n",
              "  inputElement.parentElement.appendChild(cancel);\n",
              "  cancel.textContent = 'Cancel upload';\n",
              "  const cancelPromise = new Promise((resolve) => {\n",
              "    cancel.onclick = () => {\n",
              "      resolve(null);\n",
              "    };\n",
              "  });\n",
              "\n",
              "  // Wait for the user to pick the files.\n",
              "  const files = yield {\n",
              "    promise: Promise.race([pickedPromise, cancelPromise]),\n",
              "    response: {\n",
              "      action: 'starting',\n",
              "    }\n",
              "  };\n",
              "\n",
              "  cancel.remove();\n",
              "\n",
              "  // Disable the input element since further picks are not allowed.\n",
              "  inputElement.disabled = true;\n",
              "\n",
              "  if (!files) {\n",
              "    return {\n",
              "      response: {\n",
              "        action: 'complete',\n",
              "      }\n",
              "    };\n",
              "  }\n",
              "\n",
              "  for (const file of files) {\n",
              "    const li = document.createElement('li');\n",
              "    li.append(span(file.name, {fontWeight: 'bold'}));\n",
              "    li.append(span(\n",
              "        `(${file.type || 'n/a'}) - ${file.size} bytes, ` +\n",
              "        `last modified: ${\n",
              "            file.lastModifiedDate ? file.lastModifiedDate.toLocaleDateString() :\n",
              "                                    'n/a'} - `));\n",
              "    const percent = span('0% done');\n",
              "    li.appendChild(percent);\n",
              "\n",
              "    outputElement.appendChild(li);\n",
              "\n",
              "    const fileDataPromise = new Promise((resolve) => {\n",
              "      const reader = new FileReader();\n",
              "      reader.onload = (e) => {\n",
              "        resolve(e.target.result);\n",
              "      };\n",
              "      reader.readAsArrayBuffer(file);\n",
              "    });\n",
              "    // Wait for the data to be ready.\n",
              "    let fileData = yield {\n",
              "      promise: fileDataPromise,\n",
              "      response: {\n",
              "        action: 'continue',\n",
              "      }\n",
              "    };\n",
              "\n",
              "    // Use a chunked sending to avoid message size limits. See b/62115660.\n",
              "    let position = 0;\n",
              "    do {\n",
              "      const length = Math.min(fileData.byteLength - position, MAX_PAYLOAD_SIZE);\n",
              "      const chunk = new Uint8Array(fileData, position, length);\n",
              "      position += length;\n",
              "\n",
              "      const base64 = btoa(String.fromCharCode.apply(null, chunk));\n",
              "      yield {\n",
              "        response: {\n",
              "          action: 'append',\n",
              "          file: file.name,\n",
              "          data: base64,\n",
              "        },\n",
              "      };\n",
              "\n",
              "      let percentDone = fileData.byteLength === 0 ?\n",
              "          100 :\n",
              "          Math.round((position / fileData.byteLength) * 100);\n",
              "      percent.textContent = `${percentDone}% done`;\n",
              "\n",
              "    } while (position < fileData.byteLength);\n",
              "  }\n",
              "\n",
              "  // All done.\n",
              "  yield {\n",
              "    response: {\n",
              "      action: 'complete',\n",
              "    }\n",
              "  };\n",
              "}\n",
              "\n",
              "scope.google = scope.google || {};\n",
              "scope.google.colab = scope.google.colab || {};\n",
              "scope.google.colab._files = {\n",
              "  _uploadFiles,\n",
              "  _uploadFilesContinue,\n",
              "};\n",
              "})(self);\n",
              "</script> "
            ]
          },
          "metadata": {}
        },
        {
          "output_type": "stream",
          "name": "stdout",
          "text": [
            "Saving Yalefaces.zip to Yalefaces.zip\n"
          ]
        }
      ]
    },
    {
      "cell_type": "code",
      "source": [
        "!unzip Yalefaces"
      ],
      "metadata": {
        "colab": {
          "base_uri": "https://localhost:8080/"
        },
        "id": "BJE-NAmx2jmK",
        "outputId": "f93481e7-db3d-4e00-db67-6e66f7cce44d"
      },
      "execution_count": 3,
      "outputs": [
        {
          "output_type": "stream",
          "name": "stdout",
          "text": [
            "Archive:  Yalefaces.zip\n",
            "  inflating: Readme.txt              \n",
            "  inflating: data/Readme.txt         \n",
            "  inflating: data/subject01.centerlight  \n",
            "  inflating: data/subject01.glasses  \n",
            "  inflating: data/subject01.happy    \n",
            "  inflating: data/subject01.leftlight  \n",
            "  inflating: data/subject01.noglasses  \n",
            "  inflating: data/subject01.normal   \n",
            "  inflating: data/subject01.rightlight  \n",
            "  inflating: data/subject01.sad      \n",
            "  inflating: data/subject01.sleepy   \n",
            "  inflating: data/subject01.surprised  \n",
            "  inflating: data/subject01.wink     \n",
            "  inflating: data/subject02.centerlight  \n",
            "  inflating: data/subject02.glasses  \n",
            "  inflating: data/subject02.happy    \n",
            "  inflating: data/subject02.leftlight  \n",
            "  inflating: data/subject02.noglasses  \n",
            "  inflating: data/subject02.normal   \n",
            "  inflating: data/subject02.rightlight  \n",
            "  inflating: data/subject02.sad      \n",
            "  inflating: data/subject02.sleepy   \n",
            "  inflating: data/subject02.surprised  \n",
            "  inflating: data/subject02.wink     \n",
            "  inflating: data/subject03.centerlight  \n",
            "  inflating: data/subject03.glasses  \n",
            "  inflating: data/subject03.happy    \n",
            "  inflating: data/subject03.leftlight  \n",
            "  inflating: data/subject03.noglasses  \n",
            "  inflating: data/subject03.normal   \n",
            "  inflating: data/subject03.rightlight  \n",
            "  inflating: data/subject03.sad      \n",
            "  inflating: data/subject03.sleepy   \n",
            "  inflating: data/subject03.surprised  \n",
            "  inflating: data/subject03.wink     \n",
            "  inflating: data/subject04.centerlight  \n",
            "  inflating: data/subject04.glasses  \n",
            "  inflating: data/subject04.happy    \n",
            "  inflating: data/subject04.leftlight  \n",
            "  inflating: data/subject04.noglasses  \n",
            "  inflating: data/subject04.normal   \n",
            "  inflating: data/subject04.rightlight  \n",
            "  inflating: data/subject04.sad      \n",
            "  inflating: data/subject04.sleepy   \n",
            "  inflating: data/subject04.surprised  \n",
            "  inflating: data/subject04.wink     \n",
            "  inflating: data/subject05.centerlight  \n",
            "  inflating: data/subject05.glasses  \n",
            "  inflating: data/subject05.happy    \n",
            "  inflating: data/subject05.leftlight  \n",
            "  inflating: data/subject05.noglasses  \n",
            "  inflating: data/subject05.normal   \n",
            "  inflating: data/subject05.rightlight  \n",
            "  inflating: data/subject05.sad      \n",
            "  inflating: data/subject05.sleepy   \n",
            "  inflating: data/subject05.surprised  \n",
            "  inflating: data/subject05.wink     \n",
            "  inflating: data/subject06.centerlight  \n",
            "  inflating: data/subject06.glasses  \n",
            "  inflating: data/subject06.happy    \n",
            "  inflating: data/subject06.leftlight  \n",
            "  inflating: data/subject06.noglasses  \n",
            "  inflating: data/subject06.normal   \n",
            "  inflating: data/subject06.rightlight  \n",
            "  inflating: data/subject06.sad      \n",
            "  inflating: data/subject06.sleepy   \n",
            "  inflating: data/subject06.surprised  \n",
            "  inflating: data/subject06.wink     \n",
            "  inflating: data/subject07.centerlight  \n",
            "  inflating: data/subject07.glasses  \n",
            "  inflating: data/subject07.happy    \n",
            "  inflating: data/subject07.leftlight  \n",
            "  inflating: data/subject07.noglasses  \n",
            "  inflating: data/subject07.normal   \n",
            "  inflating: data/subject07.rightlight  \n",
            "  inflating: data/subject07.sad      \n",
            "  inflating: data/subject07.sleepy   \n",
            "  inflating: data/subject07.surprised  \n",
            "  inflating: data/subject07.wink     \n",
            "  inflating: data/subject08.centerlight  \n",
            "  inflating: data/subject08.glasses  \n",
            "  inflating: data/subject08.happy    \n",
            "  inflating: data/subject08.leftlight  \n",
            "  inflating: data/subject08.noglasses  \n",
            "  inflating: data/subject08.normal   \n",
            "  inflating: data/subject08.rightlight  \n",
            "  inflating: data/subject08.sad      \n",
            "  inflating: data/subject08.sleepy   \n",
            "  inflating: data/subject08.surprised  \n",
            "  inflating: data/subject08.wink     \n",
            "  inflating: data/subject09.centerlight  \n",
            "  inflating: data/subject09.glasses  \n",
            "  inflating: data/subject09.happy    \n",
            "  inflating: data/subject09.leftlight  \n",
            "  inflating: data/subject09.noglasses  \n",
            "  inflating: data/subject09.normal   \n",
            "  inflating: data/subject09.rightlight  \n",
            "  inflating: data/subject09.sad      \n",
            "  inflating: data/subject09.sleepy   \n",
            "  inflating: data/subject09.surprised  \n",
            "  inflating: data/subject09.wink     \n",
            "  inflating: data/subject10.centerlight  \n",
            "  inflating: data/subject10.glasses  \n",
            "  inflating: data/subject10.happy    \n",
            "  inflating: data/subject10.leftlight  \n",
            "  inflating: data/subject10.noglasses  \n",
            "  inflating: data/subject10.normal   \n",
            "  inflating: data/subject10.rightlight  \n",
            "  inflating: data/subject10.sad      \n",
            "  inflating: data/subject10.sleepy   \n",
            "  inflating: data/subject10.surprised  \n",
            "  inflating: data/subject10.wink     \n",
            "  inflating: data/subject11.centerlight  \n",
            "  inflating: data/subject11.glasses  \n",
            "  inflating: data/subject11.happy    \n",
            "  inflating: data/subject11.leftlight  \n",
            "  inflating: data/subject11.noglasses  \n",
            "  inflating: data/subject11.normal   \n",
            "  inflating: data/subject11.rightlight  \n",
            "  inflating: data/subject11.sad      \n",
            "  inflating: data/subject11.sleepy   \n",
            "  inflating: data/subject11.surprised  \n",
            "  inflating: data/subject11.wink     \n",
            "  inflating: data/subject12.centerlight  \n",
            "  inflating: data/subject12.glasses  \n",
            "  inflating: data/subject12.happy    \n",
            "  inflating: data/subject12.leftlight  \n",
            "  inflating: data/subject12.noglasses  \n",
            "  inflating: data/subject12.normal   \n",
            "  inflating: data/subject12.rightlight  \n",
            "  inflating: data/subject12.sad      \n",
            "  inflating: data/subject12.sleepy   \n",
            "  inflating: data/subject12.surprised  \n",
            "  inflating: data/subject12.wink     \n",
            "  inflating: data/subject13.centerlight  \n",
            "  inflating: data/subject13.glasses  \n",
            "  inflating: data/subject13.happy    \n",
            "  inflating: data/subject13.leftlight  \n",
            "  inflating: data/subject13.noglasses  \n",
            "  inflating: data/subject13.normal   \n",
            "  inflating: data/subject13.rightlight  \n",
            "  inflating: data/subject13.sad      \n",
            "  inflating: data/subject13.sleepy   \n",
            "  inflating: data/subject13.surprised  \n",
            "  inflating: data/subject13.wink     \n",
            "  inflating: data/subject14.centerlight  \n",
            "  inflating: data/subject14.glasses  \n",
            "  inflating: data/subject14.happy    \n",
            "  inflating: data/subject14.leftlight  \n",
            "  inflating: data/subject14.noglasses  \n",
            "  inflating: data/subject14.normal   \n",
            "  inflating: data/subject14.rightlight  \n",
            "  inflating: data/subject14.sad      \n",
            "  inflating: data/subject14.sleepy   \n",
            "  inflating: data/subject14.surprised  \n",
            "  inflating: data/subject14.wink     \n",
            "  inflating: data/subject15.centerlight  \n",
            "  inflating: data/subject15.glasses  \n",
            "  inflating: data/subject15.happy    \n",
            "  inflating: data/subject15.leftlight  \n",
            "  inflating: data/subject15.noglasses  \n",
            "  inflating: data/subject15.normal   \n",
            "  inflating: data/subject15.rightlight  \n",
            "  inflating: data/subject15.sad      \n",
            "  inflating: data/subject15.sleepy   \n",
            "  inflating: data/subject15.surprised  \n",
            "  inflating: data/subject15.wink     \n",
            "  inflating: subject01.centerlight   \n",
            "  inflating: subject01.glasses       \n",
            "  inflating: subject01.happy         \n",
            "  inflating: subject01.leftlight     \n",
            "  inflating: subject01.noglasses     \n",
            "  inflating: subject01.normal        \n",
            "  inflating: subject01.rightlight    \n",
            "  inflating: subject01.sad           \n",
            "  inflating: subject01.sleepy        \n",
            "  inflating: subject01.surprised     \n",
            "  inflating: subject01.wink          \n",
            "  inflating: subject02.centerlight   \n",
            "  inflating: subject02.glasses       \n",
            "  inflating: subject02.happy         \n",
            "  inflating: subject02.leftlight     \n",
            "  inflating: subject02.noglasses     \n",
            "  inflating: subject02.normal        \n",
            "  inflating: subject02.rightlight    \n",
            "  inflating: subject02.sad           \n",
            "  inflating: subject02.sleepy        \n",
            "  inflating: subject02.surprised     \n",
            "  inflating: subject02.wink          \n",
            "  inflating: subject03.centerlight   \n",
            "  inflating: subject03.glasses       \n",
            "  inflating: subject03.happy         \n",
            "  inflating: subject03.leftlight     \n",
            "  inflating: subject03.noglasses     \n",
            "  inflating: subject03.normal        \n",
            "  inflating: subject03.rightlight    \n",
            "  inflating: subject03.sad           \n",
            "  inflating: subject03.sleepy        \n",
            "  inflating: subject03.surprised     \n",
            "  inflating: subject03.wink          \n",
            "  inflating: subject04.centerlight   \n",
            "  inflating: subject04.glasses       \n",
            "  inflating: subject04.happy         \n",
            "  inflating: subject04.leftlight     \n",
            "  inflating: subject04.noglasses     \n",
            "  inflating: subject04.normal        \n",
            "  inflating: subject04.rightlight    \n",
            "  inflating: subject04.sad           \n",
            "  inflating: subject04.sleepy        \n",
            "  inflating: subject04.surprised     \n",
            "  inflating: subject04.wink          \n",
            "  inflating: subject05.centerlight   \n",
            "  inflating: subject05.glasses       \n",
            "  inflating: subject05.happy         \n",
            "  inflating: subject05.leftlight     \n",
            "  inflating: subject05.noglasses     \n",
            "  inflating: subject05.normal        \n",
            "  inflating: subject05.rightlight    \n",
            "  inflating: subject05.sad           \n",
            "  inflating: subject05.sleepy        \n",
            "  inflating: subject05.surprised     \n",
            "  inflating: subject05.wink          \n",
            "  inflating: subject06.centerlight   \n",
            "  inflating: subject06.glasses       \n",
            "  inflating: subject06.happy         \n",
            "  inflating: subject06.leftlight     \n",
            "  inflating: subject06.noglasses     \n",
            "  inflating: subject06.normal        \n",
            "  inflating: subject06.rightlight    \n",
            "  inflating: subject06.sad           \n",
            "  inflating: subject06.sleepy        \n",
            "  inflating: subject06.surprised     \n",
            "  inflating: subject06.wink          \n",
            "  inflating: subject07.centerlight   \n",
            "  inflating: subject07.glasses       \n",
            "  inflating: subject07.happy         \n",
            "  inflating: subject07.leftlight     \n",
            "  inflating: subject07.noglasses     \n",
            "  inflating: subject07.normal        \n",
            "  inflating: subject07.rightlight    \n",
            "  inflating: subject07.sad           \n",
            "  inflating: subject07.sleepy        \n",
            "  inflating: subject07.surprised     \n",
            "  inflating: subject07.wink          \n",
            "  inflating: subject08.centerlight   \n",
            "  inflating: subject08.glasses       \n",
            "  inflating: subject08.happy         \n",
            "  inflating: subject08.leftlight     \n",
            "  inflating: subject08.noglasses     \n",
            "  inflating: subject08.normal        \n",
            "  inflating: subject08.rightlight    \n",
            "  inflating: subject08.sad           \n",
            "  inflating: subject08.sleepy        \n",
            "  inflating: subject08.surprised     \n",
            "  inflating: subject08.wink          \n",
            "  inflating: subject09.centerlight   \n",
            "  inflating: subject09.glasses       \n",
            "  inflating: subject09.happy         \n",
            "  inflating: subject09.leftlight     \n",
            "  inflating: subject09.noglasses     \n",
            "  inflating: subject09.normal        \n",
            "  inflating: subject09.rightlight    \n",
            "  inflating: subject09.sad           \n",
            "  inflating: subject09.sleepy        \n",
            "  inflating: subject09.surprised     \n",
            "  inflating: subject09.wink          \n",
            "  inflating: subject10.centerlight   \n",
            "  inflating: subject10.glasses       \n",
            "  inflating: subject10.happy         \n",
            "  inflating: subject10.leftlight     \n",
            "  inflating: subject10.noglasses     \n",
            "  inflating: subject10.normal        \n",
            "  inflating: subject10.rightlight    \n",
            "  inflating: subject10.sad           \n",
            "  inflating: subject10.sleepy        \n",
            "  inflating: subject10.surprised     \n",
            "  inflating: subject10.wink          \n",
            "  inflating: subject11.centerlight   \n",
            "  inflating: subject11.glasses       \n",
            "  inflating: subject11.happy         \n",
            "  inflating: subject11.leftlight     \n",
            "  inflating: subject11.noglasses     \n",
            "  inflating: subject11.normal        \n",
            "  inflating: subject11.rightlight    \n",
            "  inflating: subject11.sad           \n",
            "  inflating: subject11.sleepy        \n",
            "  inflating: subject11.surprised     \n",
            "  inflating: subject11.wink          \n",
            "  inflating: subject12.centerlight   \n",
            "  inflating: subject12.glasses       \n",
            "  inflating: subject12.happy         \n",
            "  inflating: subject12.leftlight     \n",
            "  inflating: subject12.noglasses     \n",
            "  inflating: subject12.normal        \n",
            "  inflating: subject12.rightlight    \n",
            "  inflating: subject12.sad           \n",
            "  inflating: subject12.sleepy        \n",
            "  inflating: subject12.surprised     \n",
            "  inflating: subject12.wink          \n",
            "  inflating: subject13.centerlight   \n",
            "  inflating: subject13.glasses       \n",
            "  inflating: subject13.happy         \n",
            "  inflating: subject13.leftlight     \n",
            "  inflating: subject13.noglasses     \n",
            "  inflating: subject13.normal        \n",
            "  inflating: subject13.rightlight    \n",
            "  inflating: subject13.sad           \n",
            "  inflating: subject13.sleepy        \n",
            "  inflating: subject13.surprised     \n",
            "  inflating: subject13.wink          \n",
            "  inflating: subject14.centerlight   \n",
            "  inflating: subject14.glasses       \n",
            "  inflating: subject14.happy         \n",
            "  inflating: subject14.leftlight     \n",
            "  inflating: subject14.noglasses     \n",
            "  inflating: subject14.normal        \n",
            "  inflating: subject14.rightlight    \n",
            "  inflating: subject14.sad           \n",
            "  inflating: subject14.sleepy        \n",
            "  inflating: subject14.surprised     \n",
            "  inflating: subject14.wink          \n",
            "  inflating: subject15.centerlight   \n",
            "  inflating: subject15.glasses       \n",
            "  inflating: subject15.happy         \n",
            "  inflating: subject15.leftlight     \n",
            "  inflating: subject15.noglasses     \n",
            "  inflating: subject15.normal        \n",
            "  inflating: subject15.rightlight    \n",
            "  inflating: subject15.sad           \n",
            "  inflating: subject15.sleepy        \n",
            "  inflating: subject15.surprised     \n",
            "  inflating: subject15.wink          \n"
          ]
        }
      ]
    },
    {
      "cell_type": "code",
      "source": [
        "files = glob('subject*')"
      ],
      "metadata": {
        "id": "tvCgFSwH0GcF"
      },
      "execution_count": 4,
      "outputs": []
    },
    {
      "cell_type": "code",
      "source": [
        "N = len(files)\n",
        "np.random.shuffle(files)\n",
        "N"
      ],
      "metadata": {
        "colab": {
          "base_uri": "https://localhost:8080/"
        },
        "id": "H2M9iExY4dC2",
        "outputId": "9cf977ac-1499-4586-cd33-9f55896f1631"
      },
      "execution_count": 5,
      "outputs": [
        {
          "output_type": "execute_result",
          "data": {
            "text/plain": [
              "165"
            ]
          },
          "metadata": {},
          "execution_count": 5
        }
      ]
    },
    {
      "cell_type": "code",
      "source": [
        "H, W = 60, 80\n",
        "def load_img(filepath):\n",
        "  img = image.img_to_array(image.load_img(filepath, target_size = [H,W])).astype('uint8')\n",
        "  return img"
      ],
      "metadata": {
        "id": "cCg2vW5l5EfD"
      },
      "execution_count": 6,
      "outputs": []
    },
    {
      "cell_type": "code",
      "source": [
        "# Look at an img\n",
        "img = load_img(np.random.choice(files))\n",
        "plt.imshow(img)\n",
        "plt.show()"
      ],
      "metadata": {
        "colab": {
          "base_uri": "https://localhost:8080/",
          "height": 432
        },
        "id": "Npy187N15WPN",
        "outputId": "0eb3649b-400f-491d-da2f-e0b659a9be86"
      },
      "execution_count": 7,
      "outputs": [
        {
          "output_type": "display_data",
          "data": {
            "text/plain": [
              "<Figure size 640x480 with 1 Axes>"
            ],
            "image/png": "[encoded data removed]"
          },
          "metadata": {}
        }
      ]
    },
    {
      "cell_type": "code",
      "source": [
        "img.shape, img.max()"
      ],
      "metadata": {
        "colab": {
          "base_uri": "https://localhost:8080/"
        },
        "id": "jU_pTnAA5ldx",
        "outputId": "5feb29ae-70dc-4c76-ba18-04181b7c9565"
      },
      "execution_count": 8,
      "outputs": [
        {
          "output_type": "execute_result",
          "data": {
            "text/plain": [
              "((60, 80, 3), 255)"
            ]
          },
          "metadata": {},
          "execution_count": 8
        }
      ]
    },
    {
      "cell_type": "code",
      "source": [
        "#the image is stored as color image, but it's grayscale\n",
        "#this can be verified by looking at the 3 color channels (which are all equal)\n",
        "np.array_equal(img[:,:,0],img[:,:,1]), np.array_equal(img[:,:,1],img[:,:,2])"
      ],
      "metadata": {
        "colab": {
          "base_uri": "https://localhost:8080/"
        },
        "id": "HKBJMnSx5zbi",
        "outputId": "b7de0ac6-59a7-4c24-ef2e-cd3427f54fdb"
      },
      "execution_count": 9,
      "outputs": [
        {
          "output_type": "execute_result",
          "data": {
            "text/plain": [
              "(True, True)"
            ]
          },
          "metadata": {},
          "execution_count": 9
        }
      ]
    },
    {
      "cell_type": "code",
      "source": [
        "def to_grayscale(img):\n",
        "  return img.mean(axis = -1)"
      ],
      "metadata": {
        "id": "Mlx6hBRD5tqq"
      },
      "execution_count": 10,
      "outputs": []
    },
    {
      "cell_type": "code",
      "source": [
        "# Load images as arrays\n",
        "shape = (N,H,W)\n",
        "images = np.zeros(shape)\n",
        "for i, f in enumerate(files):\n",
        "  img = to_grayscale(load_img(f))/255\n",
        "  images[i] = img\n",
        "\n",
        "#make the labels\n",
        "labels = np.zeros(N)\n",
        "for i, f in enumerate(files):\n",
        "  subject_num = f.split('.',1)[0]\n",
        "\n",
        "  idx = int(subject_num.replace('subject', '')) -1\n",
        "  labels[i] = idx"
      ],
      "metadata": {
        "id": "ZZulvLDc6XNt"
      },
      "execution_count": 11,
      "outputs": []
    },
    {
      "cell_type": "code",
      "source": [
        "label_count = Counter(labels)\n",
        "label_count"
      ],
      "metadata": {
        "colab": {
          "base_uri": "https://localhost:8080/"
        },
        "id": "CD2VDQQ07VIz",
        "outputId": "e07dc0bb-3687-413f-90f5-c1417003b68b"
      },
      "execution_count": 12,
      "outputs": [
        {
          "output_type": "execute_result",
          "data": {
            "text/plain": [
              "Counter({8.0: 11,\n",
              "         4.0: 11,\n",
              "         11.0: 11,\n",
              "         3.0: 11,\n",
              "         0.0: 11,\n",
              "         10.0: 11,\n",
              "         13.0: 11,\n",
              "         9.0: 11,\n",
              "         7.0: 11,\n",
              "         5.0: 11,\n",
              "         1.0: 11,\n",
              "         2.0: 11,\n",
              "         14.0: 11,\n",
              "         12.0: 11,\n",
              "         6.0: 11})"
            ]
          },
          "metadata": {},
          "execution_count": 12
        }
      ]
    },
    {
      "cell_type": "markdown",
      "source": [
        "# Splitting the data into train and test"
      ],
      "metadata": {
        "id": "9eGfjbhV7cXn"
      }
    },
    {
      "cell_type": "code",
      "source": [
        "n_subjects = len(label_count)\n",
        "n_test = 3*n_subjects\n",
        "n_train = N - n_test\n",
        "n_test, n_train"
      ],
      "metadata": {
        "id": "zAr4Tead73c1",
        "colab": {
          "base_uri": "https://localhost:8080/"
        },
        "outputId": "4499243c-e0e5-46d1-a6a7-fda023835f44"
      },
      "execution_count": 13,
      "outputs": [
        {
          "output_type": "execute_result",
          "data": {
            "text/plain": [
              "(45, 120)"
            ]
          },
          "metadata": {},
          "execution_count": 13
        }
      ]
    },
    {
      "cell_type": "code",
      "source": [
        "#Initialize arrays to hold train and test images\n",
        "train_images = np.zeros([n_train] + list(img.shape))\n",
        "train_labels = np.zeros(n_train)\n",
        "test_images = np.zeros([n_test] + list(img.shape))\n",
        "test_labels = np.zeros(n_test)"
      ],
      "metadata": {
        "id": "t0W3JisrSCVx"
      },
      "execution_count": 14,
      "outputs": []
    },
    {
      "cell_type": "code",
      "source": [
        "list(zip(images, labels))[0]"
      ],
      "metadata": {
        "colab": {
          "base_uri": "https://localhost:8080/"
        },
        "id": "iWSwPdnNcfe2",
        "outputId": "8ddc587b-84a8-42cf-d83c-e43406dff45a"
      },
      "execution_count": 15,
      "outputs": [
        {
          "output_type": "execute_result",
          "data": {
            "text/plain": [
              "(array([[0.89803922, 1.        , 1.        , ..., 1.        , 1.        ,\n",
              "         1.        ],\n",
              "        [0.98823529, 1.        , 1.        , ..., 1.        , 1.        ,\n",
              "         1.        ],\n",
              "        [0.85490196, 0.95686275, 1.        , ..., 1.        , 1.        ,\n",
              "         1.        ],\n",
              "        ...,\n",
              "        [0.41176471, 0.38039216, 0.37647059, ..., 1.        , 1.        ,\n",
              "         1.        ],\n",
              "        [0.40392157, 0.38039216, 0.42745098, ..., 1.        , 1.        ,\n",
              "         1.        ],\n",
              "        [0.38039216, 0.39215686, 0.40392157, ..., 1.        , 1.        ,\n",
              "         1.        ]]),\n",
              " 8.0)"
            ]
          },
          "metadata": {},
          "execution_count": 15
        }
      ]
    },
    {
      "cell_type": "code",
      "source": [
        "#Fill up the arrays above that we just initialized\n",
        "count_so_far = {}\n",
        "train_idx = 0\n",
        "test_idx = 0\n",
        "\n",
        "for img, label in zip(images, labels):\n",
        "  count_so_far[label] = count_so_far.get(label,0) +1\n",
        "  if count_so_far[label] >3:\n",
        "    #this subject has already 3 images, add the rest to train\n",
        "    train_images[train_idx] = img\n",
        "    train_labels[train_idx] = label\n",
        "    train_idx+=1\n",
        "\n",
        "  else:\n",
        "    #add the first 3 images to test\n",
        "    test_images[test_idx] = img\n",
        "    test_labels[test_idx] = label\n",
        "    test_idx +=1\n"
      ],
      "metadata": {
        "id": "epbe0Rclbvsb"
      },
      "execution_count": 16,
      "outputs": []
    },
    {
      "cell_type": "code",
      "source": [
        "train_images.shape, test_images.shape"
      ],
      "metadata": {
        "colab": {
          "base_uri": "https://localhost:8080/"
        },
        "id": "9JI1EZaicavm",
        "outputId": "718636e0-aaac-4041-b970-d56784b2fbc5"
      },
      "execution_count": 17,
      "outputs": [
        {
          "output_type": "execute_result",
          "data": {
            "text/plain": [
              "((120, 60, 80), (45, 60, 80))"
            ]
          },
          "metadata": {},
          "execution_count": 17
        }
      ]
    },
    {
      "cell_type": "markdown",
      "source": [
        "# Converting data into pairs\n",
        "\n",
        "Recall that what we want to feed into the network is a pair of images together with the label (match/non-match). So, the data structure that we want to create consists of pairs of indexes that are sorted into the category of 'match' and 'non-match'."
      ],
      "metadata": {
        "id": "Qg8uxIx9eZ8q"
      }
    },
    {
      "cell_type": "code",
      "source": [
        "#create label2idx mapping for easy access\n",
        "train_label2idx = {}\n",
        "test_label2idx = {}\n",
        "\n",
        "for i, label in enumerate(train_labels):\n",
        "  if label not in train_label2idx:\n",
        "    train_label2idx[label] = [i]\n",
        "  else:\n",
        "    train_label2idx[label].append(i)\n",
        "\n",
        "for i, label in enumerate(test_labels):\n",
        "  if label not in test_label2idx:\n",
        "    test_label2idx[label] = [i]\n",
        "  else:\n",
        "    test_label2idx[label].append(i)"
      ],
      "metadata": {
        "id": "LSd8sgiOdWN4"
      },
      "execution_count": 18,
      "outputs": []
    },
    {
      "cell_type": "code",
      "source": [
        "train_label2idx"
      ],
      "metadata": {
        "colab": {
          "base_uri": "https://localhost:8080/"
        },
        "id": "d5dKvlXu3rUy",
        "outputId": "cef7592f-cc33-4b8c-b555-7f38f14ae5f2"
      },
      "execution_count": 19,
      "outputs": [
        {
          "output_type": "execute_result",
          "data": {
            "text/plain": [
              "{3.0: [0, 7, 12, 20, 45, 55, 88, 103],\n",
              " 13.0: [1, 11, 35, 51, 54, 63, 64, 85],\n",
              " 5.0: [2, 9, 15, 28, 37, 74, 105, 108],\n",
              " 11.0: [3, 8, 29, 40, 78, 80, 94, 111],\n",
              " 10.0: [4, 5, 18, 38, 39, 49, 75, 98],\n",
              " 1.0: [6, 19, 60, 77, 82, 90, 104, 106],\n",
              " 8.0: [10, 43, 47, 65, 70, 96, 116, 118],\n",
              " 9.0: [13, 23, 32, 42, 61, 73, 99, 119],\n",
              " 4.0: [14, 25, 30, 31, 57, 81, 92, 115],\n",
              " 14.0: [16, 50, 56, 58, 62, 66, 110, 117],\n",
              " 0.0: [17, 36, 48, 52, 79, 101, 112, 114],\n",
              " 7.0: [21, 34, 53, 67, 83, 87, 95, 102],\n",
              " 12.0: [22, 24, 26, 27, 59, 71, 100, 113],\n",
              " 2.0: [33, 41, 46, 72, 89, 93, 97, 107],\n",
              " 6.0: [44, 68, 69, 76, 84, 86, 91, 109]}"
            ]
          },
          "metadata": {},
          "execution_count": 19
        }
      ]
    },
    {
      "cell_type": "code",
      "source": [
        "test_label2idx"
      ],
      "metadata": {
        "colab": {
          "base_uri": "https://localhost:8080/"
        },
        "id": "3mhf5WbS3uWQ",
        "outputId": "927e81b4-b65a-46d1-d760-106dfe4d4e9e"
      },
      "execution_count": 20,
      "outputs": [
        {
          "output_type": "execute_result",
          "data": {
            "text/plain": [
              "{8.0: [0, 5, 18],\n",
              " 4.0: [1, 29, 33],\n",
              " 11.0: [2, 11, 31],\n",
              " 3.0: [3, 17, 22],\n",
              " 0.0: [4, 10, 38],\n",
              " 10.0: [6, 9, 12],\n",
              " 13.0: [7, 21, 27],\n",
              " 9.0: [8, 16, 20],\n",
              " 7.0: [13, 25, 41],\n",
              " 5.0: [14, 19, 24],\n",
              " 1.0: [15, 30, 35],\n",
              " 2.0: [23, 37, 42],\n",
              " 14.0: [26, 32, 36],\n",
              " 12.0: [28, 39, 40],\n",
              " 6.0: [34, 43, 44]}"
            ]
          },
          "metadata": {},
          "execution_count": 20
        }
      ]
    },
    {
      "cell_type": "code",
      "source": [
        "#lists of matches (indices) are stored in 'positives'\n",
        "#lists of non-matches (indices) are stored in 'negatives'\n",
        "train_positives = []\n",
        "train_negatives = []\n",
        "test_positives = []\n",
        "test_negatives = []\n",
        "\n",
        "#TRAIN SET\n",
        "for label, indices in train_label2idx.items():\n",
        "  #this is the set of all indices that do NOT belong to the subject\n",
        "  #identified by 'label'\n",
        "  other_indices = set(range(n_train)) - set(indices)\n",
        "\n",
        "  for i, idx1 in enumerate(indices):\n",
        "    for idx2 in indices[i+1:]:\n",
        "      train_positives.append((idx1, idx2))\n",
        "\n",
        "    for idx2 in other_indices:\n",
        "      train_negatives.append((idx1, idx2))\n",
        "\n",
        "#TEST SET\n",
        "for label, indices in test_label2idx.items():\n",
        "  #this is the set of all indices that do NOT belong to the subject\n",
        "  #identified by 'label'\n",
        "  other_indices = set(range(n_train)) - set(indices)\n",
        "\n",
        "  for i, idx1 in enumerate(indices):\n",
        "    for idx2 in indices[i+1:]:\n",
        "      test_positives.append((idx1, idx2))\n",
        "\n",
        "    for idx2 in other_indices:\n",
        "      test_negatives.append((idx1, idx2))\n",
        "\n",
        "len(train_positives), len(train_negatives), len(test_positives), len(test_negatives)"
      ],
      "metadata": {
        "id": "gbJi2bhofXCD",
        "colab": {
          "base_uri": "https://localhost:8080/"
        },
        "outputId": "342a20c2-19f9-4e85-f788-2dcc16775dbb"
      },
      "execution_count": 32,
      "outputs": [
        {
          "output_type": "execute_result",
          "data": {
            "text/plain": [
              "(420, 13440, 45, 5265)"
            ]
          },
          "metadata": {},
          "execution_count": 32
        }
      ]
    },
    {
      "cell_type": "markdown",
      "source": [
        "# Create a data generator function\n",
        "\n",
        "This will be the function that we will iterate over in the training loop later on"
      ],
      "metadata": {
        "id": "7jjUdR0H6zjX"
      }
    },
    {
      "cell_type": "code",
      "source": [
        "batch_size = 64\n",
        "def train_generator():\n",
        ""
      ],
      "metadata": {
        "id": "iVFrO3Zi6ZXc"
      },
      "execution_count": null,
      "outputs": []
    }
  ]
}