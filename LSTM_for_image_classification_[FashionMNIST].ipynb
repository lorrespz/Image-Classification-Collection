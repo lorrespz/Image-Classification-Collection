{
  "nbformat": 4,
  "nbformat_minor": 0,
  "metadata": {
    "colab": {
      "provenance": [],
      "gpuType": "T4",
      "authorship_tag": "ABX9TyP9UqcdVsW2Jw+7PDkrzFrr",
      "include_colab_link": true
    },
    "kernelspec": {
      "name": "python3",
      "display_name": "Python 3"
    },
    "language_info": {
      "name": "python"
    },
    "accelerator": "GPU"
  },
  "cells": [
    {
      "cell_type": "markdown",
      "metadata": {
        "id": "view-in-github",
        "colab_type": "text"
      },
      "source": [
        "<a href=\"https://colab.research.google.com/github/lorrespz/Image-Classification-Collection/blob/main/LSTM_for_image_classification_%5BFashionMNIST%5D.ipynb\" target=\"_parent\"><img src=\"https://colab.research.google.com/assets/colab-badge.svg\" alt=\"Open In Colab\"/></a>"
      ]
    },
    {
      "cell_type": "markdown",
      "source": [
        "# LSTM for image classification [FashionMNIST]"
      ],
      "metadata": {
        "id": "EbA1JX1r17NI"
      }
    },
    {
      "cell_type": "code",
      "execution_count": 1,
      "metadata": {
        "id": "F443ETWQ10R4"
      },
      "outputs": [],
      "source": [
        "import torch\n",
        "import torchvision\n",
        "import torch.nn as nn\n",
        "import torchvision.transforms as transforms\n",
        "import numpy as np\n",
        "import pandas as pd\n",
        "import matplotlib.pyplot as plt\n"
      ]
    },
    {
      "cell_type": "markdown",
      "source": [
        "# Load FashionMNIST from torchvision"
      ],
      "metadata": {
        "id": "egIlNZlS23Rd"
      }
    },
    {
      "cell_type": "code",
      "source": [
        "train_set = torchvision.datasets.MNIST(root = '.', train = True,\n",
        "                                       transform = transforms.ToTensor(), download = True)\n",
        "\n",
        "test_set = torchvision.datasets.MNIST(root = '.', train = False,\n",
        "                                       transform = transforms.ToTensor(), download = True)"
      ],
      "metadata": {
        "colab": {
          "base_uri": "https://localhost:8080/"
        },
        "id": "UwRDAQnm2CfS",
        "outputId": "bc7e9ea3-ff67-45ea-9d6f-b95abd4628ec"
      },
      "execution_count": 2,
      "outputs": [
        {
          "output_type": "stream",
          "name": "stdout",
          "text": [
            "Downloading http://yann.lecun.com/exdb/mnist/train-images-idx3-ubyte.gz\n",
            "Downloading http://yann.lecun.com/exdb/mnist/train-images-idx3-ubyte.gz to ./MNIST/raw/train-images-idx3-ubyte.gz\n"
          ]
        },
        {
          "output_type": "stream",
          "name": "stderr",
          "text": [
            "100%|██████████| 9912422/9912422 [00:00<00:00, 218940526.31it/s]"
          ]
        },
        {
          "output_type": "stream",
          "name": "stdout",
          "text": [
            "Extracting ./MNIST/raw/train-images-idx3-ubyte.gz to ./MNIST/raw\n"
          ]
        },
        {
          "output_type": "stream",
          "name": "stderr",
          "text": [
            "\n"
          ]
        },
        {
          "output_type": "stream",
          "name": "stdout",
          "text": [
            "\n",
            "Downloading http://yann.lecun.com/exdb/mnist/train-labels-idx1-ubyte.gz\n",
            "Downloading http://yann.lecun.com/exdb/mnist/train-labels-idx1-ubyte.gz to ./MNIST/raw/train-labels-idx1-ubyte.gz\n"
          ]
        },
        {
          "output_type": "stream",
          "name": "stderr",
          "text": [
            "100%|██████████| 28881/28881 [00:00<00:00, 40031623.87it/s]\n"
          ]
        },
        {
          "output_type": "stream",
          "name": "stdout",
          "text": [
            "Extracting ./MNIST/raw/train-labels-idx1-ubyte.gz to ./MNIST/raw\n",
            "\n",
            "Downloading http://yann.lecun.com/exdb/mnist/t10k-images-idx3-ubyte.gz\n",
            "Downloading http://yann.lecun.com/exdb/mnist/t10k-images-idx3-ubyte.gz to ./MNIST/raw/t10k-images-idx3-ubyte.gz\n"
          ]
        },
        {
          "output_type": "stream",
          "name": "stderr",
          "text": [
            "100%|██████████| 1648877/1648877 [00:00<00:00, 74480549.21it/s]"
          ]
        },
        {
          "output_type": "stream",
          "name": "stdout",
          "text": [
            "Extracting ./MNIST/raw/t10k-images-idx3-ubyte.gz to ./MNIST/raw\n"
          ]
        },
        {
          "output_type": "stream",
          "name": "stderr",
          "text": [
            "\n"
          ]
        },
        {
          "output_type": "stream",
          "name": "stdout",
          "text": [
            "\n",
            "Downloading http://yann.lecun.com/exdb/mnist/t10k-labels-idx1-ubyte.gz\n",
            "Downloading http://yann.lecun.com/exdb/mnist/t10k-labels-idx1-ubyte.gz to ./MNIST/raw/t10k-labels-idx1-ubyte.gz\n"
          ]
        },
        {
          "output_type": "stream",
          "name": "stderr",
          "text": [
            "100%|██████████| 4542/4542 [00:00<00:00, 16994227.27it/s]\n"
          ]
        },
        {
          "output_type": "stream",
          "name": "stdout",
          "text": [
            "Extracting ./MNIST/raw/t10k-labels-idx1-ubyte.gz to ./MNIST/raw\n",
            "\n"
          ]
        }
      ]
    },
    {
      "cell_type": "code",
      "source": [
        "bs= 128\n",
        "train_loader = torch.utils.data.DataLoader(dataset = train_set, batch_size = bs, shuffle = True)\n",
        "test_loader = torch.utils.data.DataLoader(dataset = test_set, batch_size = bs, shuffle = False)"
      ],
      "metadata": {
        "id": "bXcHFnqR2fbo"
      },
      "execution_count": 3,
      "outputs": []
    },
    {
      "cell_type": "code",
      "source": [
        "for input, target in train_loader:\n",
        "  X0 = input[0]\n",
        "  print(input.shape)\n",
        "  print(target.shape)\n",
        "  break\n"
      ],
      "metadata": {
        "colab": {
          "base_uri": "https://localhost:8080/"
        },
        "id": "Ve6w2B52VnjA",
        "outputId": "604c4834-2035-4c4b-fa11-505e27621d71"
      },
      "execution_count": 16,
      "outputs": [
        {
          "output_type": "stream",
          "name": "stdout",
          "text": [
            "torch.Size([128, 1, 28, 28])\n",
            "torch.Size([128])\n"
          ]
        }
      ]
    },
    {
      "cell_type": "code",
      "source": [
        "X0.shape"
      ],
      "metadata": {
        "colab": {
          "base_uri": "https://localhost:8080/"
        },
        "id": "b9VoOAcTWj9M",
        "outputId": "a4920860-687c-472c-9bc2-3775676c6ca7"
      },
      "execution_count": 17,
      "outputs": [
        {
          "output_type": "execute_result",
          "data": {
            "text/plain": [
              "torch.Size([1, 28, 28])"
            ]
          },
          "metadata": {},
          "execution_count": 17
        }
      ]
    },
    {
      "cell_type": "markdown",
      "source": [
        "# Build the RNN/LSTM model"
      ],
      "metadata": {
        "id": "2AZNTQmh20im"
      }
    },
    {
      "cell_type": "code",
      "source": [
        "\n",
        "class RNN(nn.Module):\n",
        "  def __init__(self, n_inputs, n_hidden, n_rnnlayers, n_outputs, device):\n",
        "    super(RNN,self).__init__()\n",
        "    self.D = n_inputs\n",
        "    self.M = n_hidden\n",
        "    self.K = n_outputs\n",
        "    self.L = n_rnnlayers\n",
        "\n",
        "    self.rnn = nn.LSTM(input_size = self.D,\n",
        "                       hidden_size = self.M,\n",
        "                       num_layers = self.L,\n",
        "                       batch_first = True)\n",
        "    self.fc = nn.Linear(self.M, self.K)\n",
        "\n",
        "  def forward(self, X):\n",
        "    #initial hidden states\n",
        "    h0 = torch.zeros(self.L, X.size(0), self.M).to(device)\n",
        "    c0 = torch.zeros(self.L, X.size(0), self.M).to(device)\n",
        "\n",
        "    #get LSTM unit output:\n",
        "    out, _ = self.rnn(X, (h0,c0))\n",
        "\n",
        "    #we only want h(T) at the final time step\n",
        "    out = self.fc(out[:, -1, :])\n",
        "\n",
        "    return out"
      ],
      "metadata": {
        "id": "mwLK1xjp2zyc"
      },
      "execution_count": 4,
      "outputs": []
    },
    {
      "cell_type": "code",
      "source": [
        "device = torch.device('cuda:0' if torch.cuda.is_available() else 'cpu')\n",
        "print(device)"
      ],
      "metadata": {
        "colab": {
          "base_uri": "https://localhost:8080/"
        },
        "id": "5chY9hRX3iZ_",
        "outputId": "19334c92-7bd0-46fb-9b9d-2ab8f77ab8f1"
      },
      "execution_count": 5,
      "outputs": [
        {
          "output_type": "stream",
          "name": "stdout",
          "text": [
            "cuda:0\n"
          ]
        }
      ]
    },
    {
      "cell_type": "code",
      "source": [
        "# Input data is NxTxD, here T = 28, D = 28\n",
        "model = RNN(28, 128, 2, 10, device = device )\n",
        "model.to(device)"
      ],
      "metadata": {
        "colab": {
          "base_uri": "https://localhost:8080/"
        },
        "id": "e0086UL_3WzP",
        "outputId": "f37391d9-2619-4dc7-f875-b2efd0eadb0b"
      },
      "execution_count": 6,
      "outputs": [
        {
          "output_type": "execute_result",
          "data": {
            "text/plain": [
              "RNN(\n",
              "  (rnn): LSTM(28, 128, num_layers=2, batch_first=True)\n",
              "  (fc): Linear(in_features=128, out_features=10, bias=True)\n",
              ")"
            ]
          },
          "metadata": {},
          "execution_count": 6
        }
      ]
    },
    {
      "cell_type": "markdown",
      "source": [
        "# Shape tracing throught the network"
      ],
      "metadata": {
        "id": "VBYE-zlRVepn"
      }
    },
    {
      "cell_type": "code",
      "source": [
        "X = X0.to(device)\n",
        "print(f'Original shape of the image before passing through the network: \\n {X.shape}\\n')\n",
        "#initial hidden states\n",
        "h0 = torch.zeros(model.L, X.size(0), model.M).to(device)\n",
        "c0 = torch.zeros(model.L, X.size(0), model.M).to(device)\n",
        "print(f'Hidden states h0, c0: {h0.shape, c0.shape}')\n",
        "\n",
        "X, _ = model.rnn(X, (h0, c0))\n",
        "print(f'Shape of the image after passing through the {model.rnn}: \\n {X.shape}\\n')\n",
        "\n",
        "X = model.fc(X)\n",
        "print(f'Shape of the image after passing through the {model.fc}: \\n {X.shape}\\n')"
      ],
      "metadata": {
        "colab": {
          "base_uri": "https://localhost:8080/"
        },
        "id": "UHZbjgz7VhIN",
        "outputId": "2ed7efe2-88b3-4811-f553-1229eb04052e"
      },
      "execution_count": 19,
      "outputs": [
        {
          "output_type": "stream",
          "name": "stdout",
          "text": [
            "Original shape of the image before passing through the network: \n",
            " torch.Size([1, 28, 28])\n",
            "\n",
            "Hidden states h0, c0: (torch.Size([2, 1, 128]), torch.Size([2, 1, 128]))\n",
            "Shape of the image after passing through the LSTM(28, 128, num_layers=2, batch_first=True): \n",
            " torch.Size([1, 28, 128])\n",
            "\n",
            "Shape of the image after passing through the Linear(in_features=128, out_features=10, bias=True): \n",
            " torch.Size([1, 28, 10])\n",
            "\n"
          ]
        }
      ]
    },
    {
      "cell_type": "markdown",
      "source": [
        "# Train model"
      ],
      "metadata": {
        "id": "c32dzFuq3sjB"
      }
    },
    {
      "cell_type": "code",
      "source": [
        "criterion = nn.CrossEntropyLoss()\n",
        "optimizer = torch.optim.Adam(model.parameters())\n"
      ],
      "metadata": {
        "id": "42xjdvFV3Iji"
      },
      "execution_count": 7,
      "outputs": []
    },
    {
      "cell_type": "code",
      "source": [
        "\n",
        "def full_gd(model, criterion, optimizer,  epochs):\n",
        "\n",
        "  # Stuff to store\n",
        "  train_losses = np.zeros(epochs)\n",
        "  test_losses = np.zeros(epochs)\n",
        "\n",
        "  for it in range(epochs):\n",
        "    train_loss = []\n",
        "    for inputs, targets in train_loader:\n",
        "      # move data to GPU\n",
        "      inputs, targets = inputs.to(device), targets.to(device)\n",
        "      # reshape the input\n",
        "      inputs = inputs.view(-1, 28, 28)\n",
        "\n",
        "      # zero the parameter gradients\n",
        "      optimizer.zero_grad()\n",
        "\n",
        "      # Forward pass\n",
        "      outputs = model(inputs)\n",
        "      loss = criterion(outputs, targets)\n",
        "\n",
        "      # Backward and optimize\n",
        "      loss.backward()\n",
        "      optimizer.step()\n",
        "      train_loss.append(loss.item())\n",
        "\n",
        "    # Get train loss and test loss\n",
        "    train_loss = np.mean(train_loss) # a little misleading\n",
        "\n",
        "    test_loss = []\n",
        "    for inputs, targets in test_loader:\n",
        "\n",
        "      inputs, targets = inputs.to(device), targets.to(device)\n",
        "      inputs = inputs.view(-1, 28, 28)\n",
        "      outputs = model(inputs)\n",
        "      loss = criterion(outputs, targets)\n",
        "      test_loss.append(loss.item())\n",
        "    test_loss = np.mean(test_loss)\n",
        "\n",
        "    # Save losses\n",
        "    train_losses[it] = train_loss\n",
        "    test_losses[it] = test_loss\n",
        "\n",
        "    print(f'Epoch {it+1}/{epochs}, Train Loss: {train_loss:.4f}, Test Loss: {test_loss:.4f}')\n",
        "\n",
        "  return train_losses, test_losses"
      ],
      "metadata": {
        "id": "_0w69oLf3TeU"
      },
      "execution_count": 8,
      "outputs": []
    },
    {
      "cell_type": "code",
      "source": [
        "train_losses, test_losses = full_gd(model, criterion, optimizer, epochs = 10)"
      ],
      "metadata": {
        "colab": {
          "base_uri": "https://localhost:8080/"
        },
        "id": "58LtutLq4j9-",
        "outputId": "e64879fb-c394-4fab-bb81-3f72d217ae55"
      },
      "execution_count": 9,
      "outputs": [
        {
          "output_type": "stream",
          "name": "stdout",
          "text": [
            "Epoch 1/10, Train Loss: 0.5734, Test Loss: 0.2089\n",
            "Epoch 2/10, Train Loss: 0.1388, Test Loss: 0.1093\n",
            "Epoch 3/10, Train Loss: 0.0910, Test Loss: 0.0633\n",
            "Epoch 4/10, Train Loss: 0.0669, Test Loss: 0.0744\n",
            "Epoch 5/10, Train Loss: 0.0526, Test Loss: 0.0646\n",
            "Epoch 6/10, Train Loss: 0.0432, Test Loss: 0.0545\n",
            "Epoch 7/10, Train Loss: 0.0387, Test Loss: 0.0611\n",
            "Epoch 8/10, Train Loss: 0.0327, Test Loss: 0.0377\n",
            "Epoch 9/10, Train Loss: 0.0294, Test Loss: 0.0412\n",
            "Epoch 10/10, Train Loss: 0.0260, Test Loss: 0.0478\n"
          ]
        }
      ]
    },
    {
      "cell_type": "code",
      "source": [
        "# Plot the train loss and test loss per iteration\n",
        "plt.plot(train_losses, label='train loss')\n",
        "plt.plot(test_losses, label='test loss')\n",
        "plt.legend()\n",
        "plt.show()"
      ],
      "metadata": {
        "colab": {
          "base_uri": "https://localhost:8080/",
          "height": 435
        },
        "id": "QsHTDt3o4sL0",
        "outputId": "48e54d6c-5d31-4b34-832a-11f0e902dbe7"
      },
      "execution_count": 10,
      "outputs": [
        {
          "output_type": "display_data",
          "data": {
            "text/plain": [
              "<Figure size 640x480 with 1 Axes>"
            ],
            "image/png": "[encoded data removed]"
          },
          "metadata": {}
        }
      ]
    },
    {
      "cell_type": "markdown",
      "source": [
        "# Calculate accuracy"
      ],
      "metadata": {
        "id": "m1NxtXbS5JCg"
      }
    },
    {
      "cell_type": "code",
      "source": [
        "n_correct = 0.\n",
        "n_total = 0.\n",
        "for inputs, targets in train_loader:\n",
        "  # move data to GPU\n",
        "  inputs, targets = inputs.to(device), targets.to(device)\n",
        "\n",
        "  # reshape the input\n",
        "  inputs = inputs.view(-1, 28, 28)\n",
        "\n",
        "  # Forward pass\n",
        "  outputs = model(inputs)\n",
        "\n",
        "  # Get prediction\n",
        "  # torch.max returns both max and argmax\n",
        "  _, predictions = torch.max(outputs, 1)\n",
        "\n",
        "  # update counts\n",
        "  n_correct += (predictions == targets).sum().item()\n",
        "  n_total += targets.shape[0]\n",
        "\n",
        "train_acc = n_correct / n_total\n",
        "\n",
        "\n",
        "n_correct = 0.\n",
        "n_total = 0.\n",
        "for inputs, targets in test_loader:\n",
        "  # move data to GPU\n",
        "  inputs, targets = inputs.to(device), targets.to(device)\n",
        "\n",
        "  # reshape the input\n",
        "  inputs = inputs.view(-1, 28, 28)\n",
        "\n",
        "  # Forward pass\n",
        "  outputs = model(inputs)\n",
        "\n",
        "  # Get prediction\n",
        "  # torch.max returns both max and argmax\n",
        "  _, predictions = torch.max(outputs, 1)\n",
        "\n",
        "  # update counts\n",
        "  n_correct += (predictions == targets).sum().item()\n",
        "  n_total += targets.shape[0]\n",
        "\n",
        "test_acc = n_correct / n_total\n",
        "print(f\"Train acc: {train_acc:.4f}, Test acc: {test_acc:.4f}\")"
      ],
      "metadata": {
        "colab": {
          "base_uri": "https://localhost:8080/"
        },
        "id": "1e1GJDIQ43a7",
        "outputId": "917c96f0-d4a1-468a-cd3d-944a021b1508"
      },
      "execution_count": 11,
      "outputs": [
        {
          "output_type": "stream",
          "name": "stdout",
          "text": [
            "Train acc: 0.9911, Test acc: 0.9859\n"
          ]
        }
      ]
    },
    {
      "cell_type": "markdown",
      "source": [
        "# Plot confusion matrix"
      ],
      "metadata": {
        "id": "QAmbrsbI5Ykw"
      }
    },
    {
      "cell_type": "code",
      "source": [
        "# Plot confusion matrix\n",
        "from sklearn.metrics import confusion_matrix\n",
        "import numpy as np\n",
        "import itertools\n",
        "\n",
        "def plot_confusion_matrix(cm, classes,\n",
        "                          normalize=False,\n",
        "                          title='Confusion matrix',\n",
        "                          cmap=plt.cm.Blues):\n",
        "  \"\"\"\n",
        "  This function prints and plots the confusion matrix.\n",
        "  Normalization can be applied by setting `normalize=True`.\n",
        "  \"\"\"\n",
        "  if normalize:\n",
        "      cm = cm.astype('float') / cm.sum(axis=1)[:, np.newaxis]\n",
        "      print(\"Normalized confusion matrix\")\n",
        "  else:\n",
        "      print('Confusion matrix, without normalization')\n",
        "\n",
        "  print(cm)\n",
        "\n",
        "  plt.imshow(cm, interpolation='nearest', cmap=cmap)\n",
        "  plt.title(title)\n",
        "  plt.colorbar()\n",
        "  tick_marks = np.arange(len(classes))\n",
        "  plt.xticks(tick_marks, classes, rotation=45)\n",
        "  plt.yticks(tick_marks, classes)\n",
        "\n",
        "  fmt = '.2f' if normalize else 'd'\n",
        "  thresh = cm.max() / 2.\n",
        "  for i, j in itertools.product(range(cm.shape[0]), range(cm.shape[1])):\n",
        "      plt.text(j, i, format(cm[i, j], fmt),\n",
        "               horizontalalignment=\"center\",\n",
        "               color=\"white\" if cm[i, j] > thresh else \"black\")\n",
        "\n",
        "  plt.tight_layout()\n",
        "  plt.ylabel('True label')\n",
        "  plt.xlabel('Predicted label')\n",
        "  plt.show()\n",
        "\n",
        "# Do these results make sense?\n",
        "# It's easy to confuse 9 <--> 4, 9 <--> 7, 2 <--> 7, etc."
      ],
      "metadata": {
        "id": "D9iVwvad5avR"
      },
      "execution_count": 12,
      "outputs": []
    },
    {
      "cell_type": "code",
      "source": [
        "# get all predictions in an array and plot confusion matrix\n",
        "\n",
        "x_test = test_set.data.numpy()\n",
        "y_test = test_set.targets.numpy()\n",
        "p_test = np.array([])\n",
        "for inputs, targets in test_loader:\n",
        "  # move data to GPU\n",
        "  inputs, targets = inputs.to(device), targets.to(device)\n",
        "\n",
        "  # reshape the input\n",
        "  inputs = inputs.view(-1, 28, 28)\n",
        "\n",
        "  # Forward pass\n",
        "  outputs = model(inputs)\n",
        "\n",
        "  # Get prediction\n",
        "  _, predictions = torch.max(outputs, 1)\n",
        "\n",
        "  # update p_test\n",
        "  p_test = np.concatenate((p_test, predictions.cpu().numpy()))\n",
        "\n",
        "cm = confusion_matrix(y_test, p_test)\n",
        "plot_confusion_matrix(cm, list(range(10)))"
      ],
      "metadata": {
        "colab": {
          "base_uri": "https://localhost:8080/",
          "height": 702
        },
        "id": "_JRe_PYT5LyH",
        "outputId": "4da9b579-73f8-4312-97e0-23b97879de25"
      },
      "execution_count": 13,
      "outputs": [
        {
          "output_type": "stream",
          "name": "stdout",
          "text": [
            "Confusion matrix, without normalization\n",
            "[[ 974    0    1    1    0    0    2    1    1    0]\n",
            " [   0 1127    4    1    0    0    1    2    0    0]\n",
            " [   1    2 1020    2    1    0    0    5    1    0]\n",
            " [   0    0    1 1003    0    1    0    5    0    0]\n",
            " [   0    0    0    0  963    0    3    2    1   13]\n",
            " [   2    0    0   10    0  872    2    2    0    4]\n",
            " [   4    3    1    0    8    2  939    0    1    0]\n",
            " [   1    1    3    0    0    0    0 1023    0    0]\n",
            " [   1    0    4    7    0    9    0    8  943    2]\n",
            " [   2    0    0    0    9    0    0    3    0  995]]\n"
          ]
        },
        {
          "output_type": "display_data",
          "data": {
            "text/plain": [
              "<Figure size 640x480 with 2 Axes>"
            ],
            "image/png": "[encoded data removed]"
          },
          "metadata": {}
        }
      ]
    },
    {
      "cell_type": "code",
      "source": [],
      "metadata": {
        "id": "0RyC-YGl5cOR"
      },
      "execution_count": 13,
      "outputs": []
    }
  ]
}