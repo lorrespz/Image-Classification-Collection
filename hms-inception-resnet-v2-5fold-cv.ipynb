{
 "cells": [
  {
   "cell_type": "markdown",
   "id": "70fc9930",
   "metadata": {
    "papermill": {
     "duration": 0.009443,
     "end_time": "2024-03-01T09:02:40.627290",
     "exception": false,
     "start_time": "2024-03-01T09:02:40.617847",
     "status": "completed"
    },
    "tags": []
   },
   "source": [
    "This notebook is based on the original notebook below:\n",
    "\n",
    "https://www.kaggle.com/code/ttahara/hms-hbac-resnet34d-baseline-training\n",
    "\n",
    "which uses ResNet34d with 9 epochs of training. In this notebook, I use Inception-ResNet-V2 instead with 4 epochs of training (overfitting starts to occur at epoch 5 onwards). \n",
    "\n",
    "The dataset used in this notebook is from the competition: HMS - Classifying harmful brain activities. \n",
    "\n",
    "https://www.kaggle.com/competitions/hms-harmful-brain-activity-classification\n"
   ]
  },
  {
   "cell_type": "code",
   "execution_count": 1,
   "id": "0d7b1f3b",
   "metadata": {
    "execution": {
     "iopub.execute_input": "2024-03-01T09:02:40.647056Z",
     "iopub.status.busy": "2024-03-01T09:02:40.646653Z",
     "iopub.status.idle": "2024-03-01T09:02:48.238141Z",
     "shell.execute_reply": "2024-03-01T09:02:48.237301Z"
    },
    "papermill": {
     "duration": 7.603942,
     "end_time": "2024-03-01T09:02:48.240458",
     "exception": false,
     "start_time": "2024-03-01T09:02:40.636516",
     "status": "completed"
    },
    "tags": []
   },
   "outputs": [
    {
     "name": "stderr",
     "output_type": "stream",
     "text": [
      "/opt/conda/lib/python3.10/site-packages/scipy/__init__.py:146: UserWarning: A NumPy version >=1.16.5 and <1.23.0 is required for this version of SciPy (detected version 1.24.3\n",
      "  warnings.warn(f\"A NumPy version >={np_minversion} and <{np_maxversion}\"\n"
     ]
    }
   ],
   "source": [
    "import sys\n",
    "import os\n",
    "import gc\n",
    "import copy\n",
    "import yaml\n",
    "import random\n",
    "import shutil\n",
    "from time import time\n",
    "import typing as tp\n",
    "from pathlib import Path\n",
    "\n",
    "import numpy as np\n",
    "import pandas as pd\n",
    "\n",
    "from tqdm.notebook import tqdm\n",
    "from sklearn.model_selection import StratifiedGroupKFold\n",
    "\n",
    "import torch\n",
    "from torch import nn\n",
    "from torch import optim\n",
    "from torch.optim import lr_scheduler\n",
    "from torch.cuda import amp\n",
    "\n",
    "import timm\n",
    "\n",
    "import albumentations as A\n",
    "from albumentations.pytorch import ToTensorV2"
   ]
  },
  {
   "cell_type": "code",
   "execution_count": 2,
   "id": "9d627b91",
   "metadata": {
    "execution": {
     "iopub.execute_input": "2024-03-01T09:02:48.260721Z",
     "iopub.status.busy": "2024-03-01T09:02:48.259898Z",
     "iopub.status.idle": "2024-03-01T09:02:48.264263Z",
     "shell.execute_reply": "2024-03-01T09:02:48.263457Z"
    },
    "papermill": {
     "duration": 0.015916,
     "end_time": "2024-03-01T09:02:48.266107",
     "exception": false,
     "start_time": "2024-03-01T09:02:48.250191",
     "status": "completed"
    },
    "tags": []
   },
   "outputs": [],
   "source": [
    "os.environ[\"CUDA_VISIBLE_DEVICES\"] = \"0\""
   ]
  },
  {
   "cell_type": "code",
   "execution_count": 3,
   "id": "f450b4f4",
   "metadata": {
    "execution": {
     "iopub.execute_input": "2024-03-01T09:02:48.284565Z",
     "iopub.status.busy": "2024-03-01T09:02:48.284295Z",
     "iopub.status.idle": "2024-03-01T09:02:48.291364Z",
     "shell.execute_reply": "2024-03-01T09:02:48.290525Z"
    },
    "papermill": {
     "duration": 0.018325,
     "end_time": "2024-03-01T09:02:48.293257",
     "exception": false,
     "start_time": "2024-03-01T09:02:48.274932",
     "status": "completed"
    },
    "tags": []
   },
   "outputs": [],
   "source": [
    "ROOT = Path.cwd().parent\n",
    "INPUT = ROOT / \"input\"\n",
    "OUTPUT = ROOT / \"output\"\n",
    "SRC = ROOT / \"src\"\n",
    "\n",
    "DATA = INPUT / \"hms-harmful-brain-activity-classification\"\n",
    "TRAIN_SPEC = DATA / \"train_spectrograms\"\n",
    "TEST_SPEC = DATA / \"test_spectrograms\"\n",
    "\n",
    "TMP = ROOT / \"tmp\"\n",
    "TRAIN_SPEC_SPLIT = TMP / \"train_spectrograms_split\"\n",
    "TEST_SPEC_SPLIT = TMP / \"test_spectrograms_split\"\n",
    "TMP.mkdir(exist_ok=True)\n",
    "TRAIN_SPEC_SPLIT.mkdir(exist_ok=True)\n",
    "TEST_SPEC_SPLIT.mkdir(exist_ok=True)\n",
    "\n",
    "\n",
    "RANDAM_SEED = 1086\n",
    "CLASSES = [\"seizure_vote\", \"lpd_vote\", \"gpd_vote\", \"lrda_vote\", \"grda_vote\", \"other_vote\"]\n",
    "N_CLASSES = len(CLASSES)\n",
    "FOLDS = [0, 1, 2, 3, 4]\n",
    "N_FOLDS = len(FOLDS)"
   ]
  },
  {
   "cell_type": "markdown",
   "id": "6d9ac886",
   "metadata": {
    "papermill": {
     "duration": 0.008703,
     "end_time": "2024-03-01T09:02:48.310936",
     "exception": false,
     "start_time": "2024-03-01T09:02:48.302233",
     "status": "completed"
    },
    "tags": []
   },
   "source": [
    "## Read Data, Split Folds, Split Spectrograms"
   ]
  },
  {
   "cell_type": "code",
   "execution_count": 4,
   "id": "7bfcebd7",
   "metadata": {
    "execution": {
     "iopub.execute_input": "2024-03-01T09:02:48.330403Z",
     "iopub.status.busy": "2024-03-01T09:02:48.329644Z",
     "iopub.status.idle": "2024-03-01T09:02:48.618136Z",
     "shell.execute_reply": "2024-03-01T09:02:48.617234Z"
    },
    "papermill": {
     "duration": 0.300505,
     "end_time": "2024-03-01T09:02:48.620465",
     "exception": false,
     "start_time": "2024-03-01T09:02:48.319960",
     "status": "completed"
    },
    "tags": []
   },
   "outputs": [
    {
     "name": "stdout",
     "output_type": "stream",
     "text": [
      "(106800, 15)\n"
     ]
    }
   ],
   "source": [
    "train = pd.read_csv(DATA / \"train.csv\")\n",
    "\n",
    "# convert vote to probability\n",
    "train[CLASSES] /= train[CLASSES].sum(axis=1).values[:, None]\n",
    "\n",
    "print(train.shape)"
   ]
  },
  {
   "cell_type": "markdown",
   "id": "88ffbf3a",
   "metadata": {
    "execution": {
     "iopub.execute_input": "2024-01-14T00:22:27.085297Z",
     "iopub.status.busy": "2024-01-14T00:22:27.084935Z",
     "iopub.status.idle": "2024-01-14T00:22:27.093145Z",
     "shell.execute_reply": "2024-01-14T00:22:27.091394Z",
     "shell.execute_reply.started": "2024-01-14T00:22:27.085268Z"
    },
    "papermill": {
     "duration": 0.008785,
     "end_time": "2024-03-01T09:02:48.639445",
     "exception": false,
     "start_time": "2024-03-01T09:02:48.630660",
     "status": "completed"
    },
    "tags": []
   },
   "source": [
    "### NOTE: The **first** `spectrogram_sub_id` for each `spectrogram_id` was used in order to train model faster."
   ]
  },
  {
   "cell_type": "code",
   "execution_count": 5,
   "id": "6180ce05",
   "metadata": {
    "execution": {
     "iopub.execute_input": "2024-03-01T09:02:48.658654Z",
     "iopub.status.busy": "2024-03-01T09:02:48.658303Z",
     "iopub.status.idle": "2024-03-01T09:02:48.675016Z",
     "shell.execute_reply": "2024-03-01T09:02:48.673988Z"
    },
    "papermill": {
     "duration": 0.028426,
     "end_time": "2024-03-01T09:02:48.677002",
     "exception": false,
     "start_time": "2024-03-01T09:02:48.648576",
     "status": "completed"
    },
    "tags": []
   },
   "outputs": [
    {
     "name": "stdout",
     "output_type": "stream",
     "text": [
      "(11138, 15)\n"
     ]
    }
   ],
   "source": [
    "train = train.groupby(\"spectrogram_id\").head(1).reset_index(drop=True)\n",
    "print(train.shape)"
   ]
  },
  {
   "cell_type": "markdown",
   "id": "3fc1ad67",
   "metadata": {
    "papermill": {
     "duration": 0.008817,
     "end_time": "2024-03-01T09:02:48.694689",
     "exception": false,
     "start_time": "2024-03-01T09:02:48.685872",
     "status": "completed"
    },
    "tags": []
   },
   "source": [
    "### split folds"
   ]
  },
  {
   "cell_type": "code",
   "execution_count": 6,
   "id": "b7917f06",
   "metadata": {
    "execution": {
     "iopub.execute_input": "2024-03-01T09:02:48.713772Z",
     "iopub.status.busy": "2024-03-01T09:02:48.713452Z",
     "iopub.status.idle": "2024-03-01T09:02:49.704996Z",
     "shell.execute_reply": "2024-03-01T09:02:49.704226Z"
    },
    "papermill": {
     "duration": 1.003567,
     "end_time": "2024-03-01T09:02:49.707202",
     "exception": false,
     "start_time": "2024-03-01T09:02:48.703635",
     "status": "completed"
    },
    "tags": []
   },
   "outputs": [],
   "source": [
    "sgkf = StratifiedGroupKFold(n_splits=N_FOLDS, shuffle=True, random_state=RANDAM_SEED)\n",
    "\n",
    "train[\"fold\"] = -1\n",
    "\n",
    "for fold_id, (_, val_idx) in enumerate(\n",
    "    sgkf.split(train, y=train[\"expert_consensus\"], groups=train[\"patient_id\"])\n",
    "):\n",
    "    train.loc[val_idx, \"fold\"] = fold_id"
   ]
  },
  {
   "cell_type": "code",
   "execution_count": 7,
   "id": "d563fd6b",
   "metadata": {
    "execution": {
     "iopub.execute_input": "2024-03-01T09:02:49.726700Z",
     "iopub.status.busy": "2024-03-01T09:02:49.726397Z",
     "iopub.status.idle": "2024-03-01T09:02:49.749971Z",
     "shell.execute_reply": "2024-03-01T09:02:49.749092Z"
    },
    "papermill": {
     "duration": 0.035431,
     "end_time": "2024-03-01T09:02:49.752059",
     "exception": false,
     "start_time": "2024-03-01T09:02:49.716628",
     "status": "completed"
    },
    "tags": []
   },
   "outputs": [
    {
     "data": {
      "text/html": [
       "<div>\n",
       "<style scoped>\n",
       "    .dataframe tbody tr th:only-of-type {\n",
       "        vertical-align: middle;\n",
       "    }\n",
       "\n",
       "    .dataframe tbody tr th {\n",
       "        vertical-align: top;\n",
       "    }\n",
       "\n",
       "    .dataframe thead th {\n",
       "        text-align: right;\n",
       "    }\n",
       "</style>\n",
       "<table border=\"1\" class=\"dataframe\">\n",
       "  <thead>\n",
       "    <tr style=\"text-align: right;\">\n",
       "      <th></th>\n",
       "      <th>seizure_vote</th>\n",
       "      <th>lpd_vote</th>\n",
       "      <th>gpd_vote</th>\n",
       "      <th>lrda_vote</th>\n",
       "      <th>grda_vote</th>\n",
       "      <th>other_vote</th>\n",
       "    </tr>\n",
       "    <tr>\n",
       "      <th>fold</th>\n",
       "      <th></th>\n",
       "      <th></th>\n",
       "      <th></th>\n",
       "      <th></th>\n",
       "      <th></th>\n",
       "      <th></th>\n",
       "    </tr>\n",
       "  </thead>\n",
       "  <tbody>\n",
       "    <tr>\n",
       "      <th>0</th>\n",
       "      <td>407.878970</td>\n",
       "      <td>240.847820</td>\n",
       "      <td>262.474513</td>\n",
       "      <td>142.304068</td>\n",
       "      <td>286.407590</td>\n",
       "      <td>800.087038</td>\n",
       "    </tr>\n",
       "    <tr>\n",
       "      <th>1</th>\n",
       "      <td>360.427388</td>\n",
       "      <td>231.931854</td>\n",
       "      <td>193.738000</td>\n",
       "      <td>173.763906</td>\n",
       "      <td>333.566517</td>\n",
       "      <td>1166.572336</td>\n",
       "    </tr>\n",
       "    <tr>\n",
       "      <th>2</th>\n",
       "      <td>441.934721</td>\n",
       "      <td>328.255479</td>\n",
       "      <td>237.291923</td>\n",
       "      <td>163.192668</td>\n",
       "      <td>355.493987</td>\n",
       "      <td>926.831222</td>\n",
       "    </tr>\n",
       "    <tr>\n",
       "      <th>3</th>\n",
       "      <td>425.685980</td>\n",
       "      <td>195.568155</td>\n",
       "      <td>182.017264</td>\n",
       "      <td>148.850582</td>\n",
       "      <td>259.828026</td>\n",
       "      <td>864.049993</td>\n",
       "    </tr>\n",
       "    <tr>\n",
       "      <th>4</th>\n",
       "      <td>392.391708</td>\n",
       "      <td>234.916737</td>\n",
       "      <td>120.355588</td>\n",
       "      <td>129.112045</td>\n",
       "      <td>258.598367</td>\n",
       "      <td>873.625556</td>\n",
       "    </tr>\n",
       "  </tbody>\n",
       "</table>\n",
       "</div>"
      ],
      "text/plain": [
       "      seizure_vote    lpd_vote    gpd_vote   lrda_vote   grda_vote  \\\n",
       "fold                                                                 \n",
       "0       407.878970  240.847820  262.474513  142.304068  286.407590   \n",
       "1       360.427388  231.931854  193.738000  173.763906  333.566517   \n",
       "2       441.934721  328.255479  237.291923  163.192668  355.493987   \n",
       "3       425.685980  195.568155  182.017264  148.850582  259.828026   \n",
       "4       392.391708  234.916737  120.355588  129.112045  258.598367   \n",
       "\n",
       "       other_vote  \n",
       "fold               \n",
       "0      800.087038  \n",
       "1     1166.572336  \n",
       "2      926.831222  \n",
       "3      864.049993  \n",
       "4      873.625556  "
      ]
     },
     "execution_count": 7,
     "metadata": {},
     "output_type": "execute_result"
    }
   ],
   "source": [
    "train.groupby(\"fold\")[CLASSES].sum()"
   ]
  },
  {
   "cell_type": "markdown",
   "id": "fa99e9c2",
   "metadata": {
    "papermill": {
     "duration": 0.00912,
     "end_time": "2024-03-01T09:02:49.770721",
     "exception": false,
     "start_time": "2024-03-01T09:02:49.761601",
     "status": "completed"
    },
    "tags": []
   },
   "source": [
    "### split spectogram files"
   ]
  },
  {
   "cell_type": "code",
   "execution_count": 8,
   "id": "2c06d5e0",
   "metadata": {
    "execution": {
     "iopub.execute_input": "2024-03-01T09:02:49.790066Z",
     "iopub.status.busy": "2024-03-01T09:02:49.789795Z",
     "iopub.status.idle": "2024-03-01T09:11:32.670424Z",
     "shell.execute_reply": "2024-03-01T09:11:32.669413Z"
    },
    "papermill": {
     "duration": 522.893035,
     "end_time": "2024-03-01T09:11:32.672788",
     "exception": false,
     "start_time": "2024-03-01T09:02:49.779753",
     "status": "completed"
    },
    "tags": []
   },
   "outputs": [
    {
     "data": {
      "application/vnd.jupyter.widget-view+json": {
       "model_id": "17e8b33a709545748a99a37c56c104dc",
       "version_major": 2,
       "version_minor": 0
      },
      "text/plain": [
       "  0%|          | 0/11138 [00:00<?, ?it/s]"
      ]
     },
     "metadata": {},
     "output_type": "display_data"
    }
   ],
   "source": [
    "for spec_id, df in tqdm(train.groupby(\"spectrogram_id\")):\n",
    "    spec = pd.read_parquet(TRAIN_SPEC / f\"{spec_id}.parquet\")\n",
    "    \n",
    "    spec_arr = spec.fillna(0).values[:, 1:].T.astype(\"float32\")  # (Hz, Time) = (400, 300)\n",
    "    \n",
    "    for spec_offset, label_id in df[\n",
    "        [\"spectrogram_label_offset_seconds\", \"label_id\"]\n",
    "    ].astype(int).values:\n",
    "        spec_offset = spec_offset // 2\n",
    "        split_spec_arr = spec_arr[:, spec_offset: spec_offset + 300]\n",
    "        np.save(TRAIN_SPEC_SPLIT / f\"{label_id}.npy\" , split_spec_arr)"
   ]
  },
  {
   "cell_type": "markdown",
   "id": "f55e799d",
   "metadata": {
    "papermill": {
     "duration": 0.009489,
     "end_time": "2024-03-01T09:11:32.692796",
     "exception": false,
     "start_time": "2024-03-01T09:11:32.683307",
     "status": "completed"
    },
    "tags": []
   },
   "source": [
    "# Model"
   ]
  },
  {
   "cell_type": "code",
   "execution_count": 9,
   "id": "e3223ad3",
   "metadata": {
    "_kg_hide-input": false,
    "execution": {
     "iopub.execute_input": "2024-03-01T09:11:32.713700Z",
     "iopub.status.busy": "2024-03-01T09:11:32.712847Z",
     "iopub.status.idle": "2024-03-01T09:11:32.719020Z",
     "shell.execute_reply": "2024-03-01T09:11:32.718146Z"
    },
    "papermill": {
     "duration": 0.01863,
     "end_time": "2024-03-01T09:11:32.720826",
     "exception": false,
     "start_time": "2024-03-01T09:11:32.702196",
     "status": "completed"
    },
    "tags": []
   },
   "outputs": [],
   "source": [
    "class HMSHBACSpecModel(nn.Module):\n",
    "\n",
    "    def __init__(\n",
    "            self,\n",
    "            model_name: str,\n",
    "            pretrained: bool,\n",
    "            in_channels: int,\n",
    "            num_classes: int,\n",
    "        ):\n",
    "        super().__init__()\n",
    "        self.model = timm.create_model(\n",
    "            model_name=model_name, pretrained=pretrained,\n",
    "            num_classes=num_classes, in_chans=in_channels)\n",
    "\n",
    "    def forward(self, x):\n",
    "        h = self.model(x)      \n",
    "\n",
    "        return h"
   ]
  },
  {
   "cell_type": "markdown",
   "id": "cf623e56",
   "metadata": {
    "papermill": {
     "duration": 0.009523,
     "end_time": "2024-03-01T09:11:32.739702",
     "exception": false,
     "start_time": "2024-03-01T09:11:32.730179",
     "status": "completed"
    },
    "tags": []
   },
   "source": [
    "# Dataset"
   ]
  },
  {
   "cell_type": "code",
   "execution_count": 10,
   "id": "9c65e9e6",
   "metadata": {
    "_kg_hide-input": false,
    "execution": {
     "iopub.execute_input": "2024-03-01T09:11:32.760469Z",
     "iopub.status.busy": "2024-03-01T09:11:32.760173Z",
     "iopub.status.idle": "2024-03-01T09:11:32.770370Z",
     "shell.execute_reply": "2024-03-01T09:11:32.769496Z"
    },
    "papermill": {
     "duration": 0.023225,
     "end_time": "2024-03-01T09:11:32.772286",
     "exception": false,
     "start_time": "2024-03-01T09:11:32.749061",
     "status": "completed"
    },
    "tags": []
   },
   "outputs": [],
   "source": [
    "FilePath = tp.Union[str, Path]\n",
    "Label = tp.Union[int, float, np.ndarray]\n",
    "\n",
    "class HMSHBACSpecDataset(torch.utils.data.Dataset):\n",
    "\n",
    "    def __init__(\n",
    "        self,\n",
    "        image_paths: tp.Sequence[FilePath],\n",
    "        labels: tp.Sequence[Label],\n",
    "        transform: A.Compose,\n",
    "    ):\n",
    "        self.image_paths = image_paths\n",
    "        self.labels = labels\n",
    "        self.transform = transform\n",
    "\n",
    "    def __len__(self):\n",
    "        return len(self.image_paths)\n",
    "\n",
    "    def __getitem__(self, index: int):\n",
    "        img_path = self.image_paths[index]\n",
    "        label = self.labels[index]\n",
    "\n",
    "        img = np.load(img_path)  # shape: (Hz, Time) = (400, 300)\n",
    "        \n",
    "        # log transform\n",
    "        img = np.clip(img,np.exp(-4), np.exp(8))\n",
    "        img = np.log(img)\n",
    "        \n",
    "        # normalize per image\n",
    "        eps = 1e-6\n",
    "        img_mean = img.mean(axis=(0, 1))\n",
    "        img = img - img_mean\n",
    "        img_std = img.std(axis=(0, 1))\n",
    "        img = img / (img_std + eps)\n",
    "\n",
    "        img = img[..., None] # shape: (Hz, Time) -> (Hz, Time, Channel)\n",
    "        img = self._apply_transform(img)\n",
    "\n",
    "        return {\"data\": img, \"target\": label}\n",
    "\n",
    "    def _apply_transform(self, img: np.ndarray):\n",
    "        \"\"\"apply transform to image and mask\"\"\"\n",
    "        transformed = self.transform(image=img)\n",
    "        img = transformed[\"image\"]\n",
    "        return img"
   ]
  },
  {
   "cell_type": "markdown",
   "id": "d244d5bf",
   "metadata": {
    "papermill": {
     "duration": 0.009285,
     "end_time": "2024-03-01T09:11:32.791234",
     "exception": false,
     "start_time": "2024-03-01T09:11:32.781949",
     "status": "completed"
    },
    "tags": []
   },
   "source": [
    "# KL-Div Loss"
   ]
  },
  {
   "cell_type": "code",
   "execution_count": 11,
   "id": "101f8f11",
   "metadata": {
    "_kg_hide-input": false,
    "execution": {
     "iopub.execute_input": "2024-03-01T09:11:32.811628Z",
     "iopub.status.busy": "2024-03-01T09:11:32.811294Z",
     "iopub.status.idle": "2024-03-01T09:11:32.820830Z",
     "shell.execute_reply": "2024-03-01T09:11:32.819884Z"
    },
    "papermill": {
     "duration": 0.022012,
     "end_time": "2024-03-01T09:11:32.822743",
     "exception": false,
     "start_time": "2024-03-01T09:11:32.800731",
     "status": "completed"
    },
    "tags": []
   },
   "outputs": [],
   "source": [
    "class KLDivLossWithLogits(nn.KLDivLoss):\n",
    "\n",
    "    def __init__(self):\n",
    "        super().__init__(reduction=\"batchmean\")\n",
    "\n",
    "    def forward(self, y, t):\n",
    "        y = nn.functional.log_softmax(y,  dim=1)\n",
    "        loss = super().forward(y, t)\n",
    "\n",
    "        return loss\n",
    "\n",
    "\n",
    "class KLDivLossWithLogitsForVal(nn.KLDivLoss):\n",
    "    \n",
    "    def __init__(self):\n",
    "        \"\"\"\"\"\"\n",
    "        super().__init__(reduction=\"batchmean\")\n",
    "        self.log_prob_list  = []\n",
    "        self.label_list = []\n",
    "\n",
    "    def forward(self, y, t):\n",
    "        y = nn.functional.log_softmax(y, dim=1)\n",
    "        self.log_prob_list.append(y.numpy())\n",
    "        self.label_list.append(t.numpy())\n",
    "        \n",
    "    def compute(self):\n",
    "        log_prob = np.concatenate(self.log_prob_list, axis=0)\n",
    "        label = np.concatenate(self.label_list, axis=0)\n",
    "        final_metric = super().forward(\n",
    "            torch.from_numpy(log_prob),\n",
    "            torch.from_numpy(label)\n",
    "        ).item()\n",
    "        self.log_prob_list = []\n",
    "        self.label_list = []\n",
    "        \n",
    "        return final_metric"
   ]
  },
  {
   "cell_type": "markdown",
   "id": "99555729",
   "metadata": {
    "papermill": {
     "duration": 0.009422,
     "end_time": "2024-03-01T09:11:32.841892",
     "exception": false,
     "start_time": "2024-03-01T09:11:32.832470",
     "status": "completed"
    },
    "tags": []
   },
   "source": [
    "# Training"
   ]
  },
  {
   "cell_type": "code",
   "execution_count": 12,
   "id": "7df5a972",
   "metadata": {
    "execution": {
     "iopub.execute_input": "2024-03-01T09:11:32.862168Z",
     "iopub.status.busy": "2024-03-01T09:11:32.861839Z",
     "iopub.status.idle": "2024-03-01T09:11:32.866809Z",
     "shell.execute_reply": "2024-03-01T09:11:32.865938Z"
    },
    "papermill": {
     "duration": 0.017402,
     "end_time": "2024-03-01T09:11:32.868700",
     "exception": false,
     "start_time": "2024-03-01T09:11:32.851298",
     "status": "completed"
    },
    "tags": []
   },
   "outputs": [],
   "source": [
    "class CFG:\n",
    "    model_name = \"inception_resnet_v2\"\n",
    "    img_size = 512\n",
    "    max_epoch = 4\n",
    "    #overfitting starts at epoch 5\n",
    "    batch_size = 32\n",
    "    lr = 1.0e-03\n",
    "    weight_decay = 1.0e-02\n",
    "    es_patience =  1\n",
    "    seed = 1086\n",
    "    deterministic = True\n",
    "    enable_amp = True\n",
    "    device = \"cuda\""
   ]
  },
  {
   "cell_type": "markdown",
   "id": "8a081d13",
   "metadata": {
    "papermill": {
     "duration": 0.009558,
     "end_time": "2024-03-01T09:11:32.888303",
     "exception": false,
     "start_time": "2024-03-01T09:11:32.878745",
     "status": "completed"
    },
    "tags": []
   },
   "source": [
    "## Functions for training"
   ]
  },
  {
   "cell_type": "code",
   "execution_count": 13,
   "id": "96979c58",
   "metadata": {
    "_kg_hide-input": false,
    "execution": {
     "iopub.execute_input": "2024-03-01T09:11:32.908789Z",
     "iopub.status.busy": "2024-03-01T09:11:32.908428Z",
     "iopub.status.idle": "2024-03-01T09:11:32.916975Z",
     "shell.execute_reply": "2024-03-01T09:11:32.916082Z"
    },
    "papermill": {
     "duration": 0.021084,
     "end_time": "2024-03-01T09:11:32.918840",
     "exception": false,
     "start_time": "2024-03-01T09:11:32.897756",
     "status": "completed"
    },
    "tags": []
   },
   "outputs": [],
   "source": [
    "def set_random_seed(seed: int = 42, deterministic: bool = False):\n",
    "    \"\"\"Set seeds\"\"\"\n",
    "    random.seed(seed)\n",
    "    np.random.seed(seed)\n",
    "    os.environ[\"PYTHONHASHSEED\"] = str(seed)\n",
    "    torch.manual_seed(seed)\n",
    "    torch.cuda.manual_seed(seed)  # type: ignore\n",
    "    torch.backends.cudnn.deterministic = deterministic  # type: ignore\n",
    "    \n",
    "def to_device(\n",
    "    tensors: tp.Union[tp.Tuple[torch.Tensor], tp.Dict[str, torch.Tensor]],\n",
    "    device: torch.device, *args, **kwargs\n",
    "):\n",
    "    if isinstance(tensors, tuple):\n",
    "        return (t.to(device, *args, **kwargs) for t in tensors)\n",
    "    elif isinstance(tensors, dict):\n",
    "        return {\n",
    "            k: t.to(device, *args, **kwargs) for k, t in tensors.items()}\n",
    "    else:\n",
    "        return tensors.to(device, *args, **kwargs)"
   ]
  },
  {
   "cell_type": "code",
   "execution_count": 14,
   "id": "b3d6e69d",
   "metadata": {
    "_kg_hide-input": false,
    "execution": {
     "iopub.execute_input": "2024-03-01T09:11:32.939352Z",
     "iopub.status.busy": "2024-03-01T09:11:32.939049Z",
     "iopub.status.idle": "2024-03-01T09:11:32.948376Z",
     "shell.execute_reply": "2024-03-01T09:11:32.947528Z"
    },
    "papermill": {
     "duration": 0.021498,
     "end_time": "2024-03-01T09:11:32.950213",
     "exception": false,
     "start_time": "2024-03-01T09:11:32.928715",
     "status": "completed"
    },
    "tags": []
   },
   "outputs": [],
   "source": [
    "def get_path_label(val_fold, train_all: pd.DataFrame):\n",
    "    \"\"\"Get file path and target info.\"\"\"\n",
    "    \n",
    "    train_idx = train_all[train_all[\"fold\"] != val_fold].index.values\n",
    "    val_idx   = train_all[train_all[\"fold\"] == val_fold].index.values\n",
    "    img_paths = []\n",
    "    labels = train_all[CLASSES].values\n",
    "    for label_id in train_all[\"label_id\"].values:\n",
    "        img_path = TRAIN_SPEC_SPLIT / f\"{label_id}.npy\"\n",
    "        img_paths.append(img_path)\n",
    "\n",
    "    train_data = {\n",
    "        \"image_paths\": [img_paths[idx] for idx in train_idx],\n",
    "        \"labels\": [labels[idx].astype(\"float32\") for idx in train_idx]}\n",
    "\n",
    "    val_data = {\n",
    "        \"image_paths\": [img_paths[idx] for idx in val_idx],\n",
    "        \"labels\": [labels[idx].astype(\"float32\") for idx in val_idx]}\n",
    "    \n",
    "    return train_data, val_data, train_idx, val_idx\n",
    "\n",
    "\n",
    "def get_transforms(CFG):\n",
    "    train_transform = A.Compose([\n",
    "        A.Resize(p=1.0, height=CFG.img_size, width=CFG.img_size),\n",
    "        ToTensorV2(p=1.0)\n",
    "    ])\n",
    "    val_transform = A.Compose([\n",
    "        A.Resize(p=1.0, height=CFG.img_size, width=CFG.img_size),\n",
    "        ToTensorV2(p=1.0)\n",
    "    ])\n",
    "    return train_transform, val_transform"
   ]
  },
  {
   "cell_type": "code",
   "execution_count": 15,
   "id": "d7cc6a2c",
   "metadata": {
    "execution": {
     "iopub.execute_input": "2024-03-01T09:11:32.971301Z",
     "iopub.status.busy": "2024-03-01T09:11:32.970948Z",
     "iopub.status.idle": "2024-03-01T09:11:32.987596Z",
     "shell.execute_reply": "2024-03-01T09:11:32.986712Z"
    },
    "papermill": {
     "duration": 0.029329,
     "end_time": "2024-03-01T09:11:32.989497",
     "exception": false,
     "start_time": "2024-03-01T09:11:32.960168",
     "status": "completed"
    },
    "tags": []
   },
   "outputs": [],
   "source": [
    "def train_one_fold(CFG, val_fold, train_all, output_path):\n",
    "    \"\"\"Main\"\"\"\n",
    "    torch.backends.cudnn.benchmark = True\n",
    "    set_random_seed(CFG.seed, deterministic=CFG.deterministic)\n",
    "    device = torch.device(CFG.device)\n",
    "    \n",
    "    train_path_label, val_path_label, _, _ = get_path_label(val_fold, train_all)\n",
    "    train_transform, val_transform = get_transforms(CFG)\n",
    "    \n",
    "    train_dataset = HMSHBACSpecDataset(**train_path_label, transform=train_transform)\n",
    "    val_dataset = HMSHBACSpecDataset(**val_path_label, transform=val_transform)\n",
    "    \n",
    "    train_loader = torch.utils.data.DataLoader(\n",
    "        train_dataset, batch_size=CFG.batch_size, num_workers=4, shuffle=True, drop_last=True)\n",
    "    val_loader = torch.utils.data.DataLoader(\n",
    "        val_dataset, batch_size=CFG.batch_size, num_workers=4, shuffle=False, drop_last=False)\n",
    "    \n",
    "    model = HMSHBACSpecModel(\n",
    "        model_name=CFG.model_name, pretrained=True, num_classes=6, in_channels=1)\n",
    "    model.to(device)\n",
    "    \n",
    "    optimizer = optim.AdamW(params=model.parameters(), lr=CFG.lr, weight_decay=CFG.weight_decay)\n",
    "    scheduler = lr_scheduler.OneCycleLR(\n",
    "        optimizer=optimizer, epochs=CFG.max_epoch,\n",
    "        pct_start=0.0, steps_per_epoch=len(train_loader),\n",
    "        max_lr=CFG.lr, div_factor=25, final_div_factor=4.0e-01\n",
    "    )\n",
    "    \n",
    "    loss_func = KLDivLossWithLogits()\n",
    "    loss_func.to(device)\n",
    "    loss_func_val = KLDivLossWithLogitsForVal()\n",
    "    \n",
    "    use_amp = CFG.enable_amp\n",
    "    scaler = amp.GradScaler(enabled=use_amp)\n",
    "    \n",
    "    best_val_loss = 1.0e+09\n",
    "    best_epoch = 0\n",
    "    train_loss = 0\n",
    "    \n",
    "    for epoch in range(1, CFG.max_epoch + 1):\n",
    "        epoch_start = time()\n",
    "        model.train()\n",
    "        for batch in train_loader:\n",
    "            batch = to_device(batch, device)\n",
    "            x, t = batch[\"data\"], batch[\"target\"]\n",
    "                \n",
    "            optimizer.zero_grad()\n",
    "            with amp.autocast(use_amp):\n",
    "                y = model(x)\n",
    "                loss = loss_func(y, t)\n",
    "            scaler.scale(loss).backward()\n",
    "            scaler.step(optimizer)\n",
    "            scaler.update()\n",
    "            scheduler.step()\n",
    "            train_loss += loss.item()\n",
    "            \n",
    "        train_loss /= len(train_loader)\n",
    "            \n",
    "        model.eval()\n",
    "        for batch in val_loader:\n",
    "            x, t = batch[\"data\"], batch[\"target\"]\n",
    "            x = to_device(x, device)\n",
    "            with torch.no_grad(), amp.autocast(use_amp):\n",
    "                y = model(x)\n",
    "            y = y.detach().cpu().to(torch.float32)\n",
    "            loss_func_val(y, t)\n",
    "        val_loss = loss_func_val.compute()        \n",
    "        if val_loss < best_val_loss:\n",
    "            best_epoch = epoch\n",
    "            best_val_loss = val_loss\n",
    "            # print(\"save model\")\n",
    "            torch.save(model.state_dict(), str(output_path / f'snapshot_epoch_{epoch}.pth'))\n",
    "        \n",
    "        elapsed_time = time() - epoch_start\n",
    "        print(\n",
    "            f\"[epoch {epoch}] train loss: {train_loss: .6f}, val loss: {val_loss: .6f}, elapsed_time: {elapsed_time: .3f}\")\n",
    "        \n",
    "        if epoch - best_epoch > CFG.es_patience:\n",
    "            print(\"Early Stopping!\")\n",
    "            break\n",
    "            \n",
    "        train_loss = 0\n",
    "            \n",
    "    return val_fold, best_epoch, best_val_loss"
   ]
  },
  {
   "cell_type": "markdown",
   "id": "d5fd42d8",
   "metadata": {
    "papermill": {
     "duration": 0.00966,
     "end_time": "2024-03-01T09:11:33.008933",
     "exception": false,
     "start_time": "2024-03-01T09:11:32.999273",
     "status": "completed"
    },
    "tags": []
   },
   "source": [
    "## Run Training"
   ]
  },
  {
   "cell_type": "code",
   "execution_count": 16,
   "id": "6d9f9b59",
   "metadata": {
    "execution": {
     "iopub.execute_input": "2024-03-01T09:11:33.029801Z",
     "iopub.status.busy": "2024-03-01T09:11:33.029424Z",
     "iopub.status.idle": "2024-03-01T11:46:27.006326Z",
     "shell.execute_reply": "2024-03-01T11:46:27.005172Z"
    },
    "papermill": {
     "duration": 9294.000221,
     "end_time": "2024-03-01T11:46:27.018988",
     "exception": false,
     "start_time": "2024-03-01T09:11:33.018767",
     "status": "completed"
    },
    "tags": []
   },
   "outputs": [
    {
     "name": "stdout",
     "output_type": "stream",
     "text": [
      "[fold0]\n"
     ]
    },
    {
     "data": {
      "application/vnd.jupyter.widget-view+json": {
       "model_id": "3d9088721d894750bec597d553f54a44",
       "version_major": 2,
       "version_minor": 0
      },
      "text/plain": [
       "model.safetensors:   0%|          | 0.00/224M [00:00<?, ?B/s]"
      ]
     },
     "metadata": {},
     "output_type": "display_data"
    },
    {
     "name": "stdout",
     "output_type": "stream",
     "text": [
      "[epoch 1] train loss:  0.903928, val loss:  0.910952, elapsed_time:  497.758\n",
      "[epoch 2] train loss:  0.701771, val loss:  0.697844, elapsed_time:  464.835\n",
      "[epoch 3] train loss:  0.582941, val loss:  0.682471, elapsed_time:  464.812\n",
      "[epoch 4] train loss:  0.453909, val loss:  0.703419, elapsed_time:  464.327\n",
      "[fold1]\n",
      "[epoch 1] train loss:  0.882023, val loss:  0.741643, elapsed_time:  453.908\n",
      "[epoch 2] train loss:  0.692345, val loss:  0.692673, elapsed_time:  454.205\n",
      "[epoch 3] train loss:  0.576350, val loss:  0.615218, elapsed_time:  453.917\n",
      "[epoch 4] train loss:  0.435098, val loss:  0.636468, elapsed_time:  453.423\n",
      "[fold2]\n",
      "[epoch 1] train loss:  0.883353, val loss:  0.878935, elapsed_time:  456.352\n",
      "[epoch 2] train loss:  0.687836, val loss:  0.725290, elapsed_time:  453.942\n",
      "[epoch 3] train loss:  0.564986, val loss:  0.687541, elapsed_time:  453.498\n",
      "[epoch 4] train loss:  0.436198, val loss:  0.686329, elapsed_time:  453.863\n",
      "[fold3]\n",
      "[epoch 1] train loss:  0.869747, val loss:  nan, elapsed_time:  467.142\n",
      "[epoch 2] train loss:  0.688893, val loss:  0.779330, elapsed_time:  467.421\n",
      "[epoch 3] train loss:  0.564608, val loss:  0.668874, elapsed_time:  467.456\n",
      "[epoch 4] train loss:  0.437696, val loss:  0.675635, elapsed_time:  466.673\n",
      "[fold4]\n",
      "[epoch 1] train loss:  0.879536, val loss:  0.806526, elapsed_time:  471.839\n",
      "[epoch 2] train loss:  0.679657, val loss:  0.739626, elapsed_time:  469.264\n",
      "[epoch 3] train loss:  0.560276, val loss:  0.676633, elapsed_time:  469.705\n",
      "[epoch 4] train loss:  0.424589, val loss:  0.706989, elapsed_time:  469.124\n"
     ]
    }
   ],
   "source": [
    "score_list = []\n",
    "for fold_id in FOLDS:\n",
    "    output_path = Path(f\"fold{fold_id}\")\n",
    "    output_path.mkdir(exist_ok=True)\n",
    "    print(f\"[fold{fold_id}]\")\n",
    "    score_list.append(train_one_fold(CFG, fold_id, train, output_path))"
   ]
  },
  {
   "cell_type": "markdown",
   "id": "2fde8e4b",
   "metadata": {
    "papermill": {
     "duration": 0.010893,
     "end_time": "2024-03-01T11:46:27.040975",
     "exception": false,
     "start_time": "2024-03-01T11:46:27.030082",
     "status": "completed"
    },
    "tags": []
   },
   "source": [
    "# Inference Out Of Fold"
   ]
  },
  {
   "cell_type": "markdown",
   "id": "69955ae8",
   "metadata": {
    "papermill": {
     "duration": 0.010852,
     "end_time": "2024-03-01T11:46:27.063513",
     "exception": false,
     "start_time": "2024-03-01T11:46:27.052661",
     "status": "completed"
    },
    "tags": []
   },
   "source": [
    "## Copy best models"
   ]
  },
  {
   "cell_type": "code",
   "execution_count": 17,
   "id": "4c0841f2",
   "metadata": {
    "execution": {
     "iopub.execute_input": "2024-03-01T11:46:27.088211Z",
     "iopub.status.busy": "2024-03-01T11:46:27.087280Z",
     "iopub.status.idle": "2024-03-01T11:46:27.092671Z",
     "shell.execute_reply": "2024-03-01T11:46:27.091756Z"
    },
    "papermill": {
     "duration": 0.019902,
     "end_time": "2024-03-01T11:46:27.094703",
     "exception": false,
     "start_time": "2024-03-01T11:46:27.074801",
     "status": "completed"
    },
    "tags": []
   },
   "outputs": [
    {
     "name": "stdout",
     "output_type": "stream",
     "text": [
      "[(0, 3, 0.6824714541435242), (1, 3, 0.6152178049087524), (2, 4, 0.6863294839859009), (3, 3, 0.6688739061355591), (4, 3, 0.6766326427459717)]\n"
     ]
    }
   ],
   "source": [
    "print(score_list)"
   ]
  },
  {
   "cell_type": "code",
   "execution_count": 18,
   "id": "f6f05768",
   "metadata": {
    "execution": {
     "iopub.execute_input": "2024-03-01T11:46:27.117915Z",
     "iopub.status.busy": "2024-03-01T11:46:27.117660Z",
     "iopub.status.idle": "2024-03-01T11:46:28.447946Z",
     "shell.execute_reply": "2024-03-01T11:46:28.447071Z"
    },
    "papermill": {
     "duration": 1.344387,
     "end_time": "2024-03-01T11:46:28.450185",
     "exception": false,
     "start_time": "2024-03-01T11:46:27.105798",
     "status": "completed"
    },
    "tags": []
   },
   "outputs": [],
   "source": [
    "best_log_list = []\n",
    "for (fold_id, best_epoch, _) in score_list:\n",
    "    \n",
    "    exp_dir_path = Path(f\"fold{fold_id}\")\n",
    "    best_model_path = exp_dir_path / f\"snapshot_epoch_{best_epoch}.pth\"\n",
    "    copy_to = f\"./best_model_fold{fold_id}.pth\"\n",
    "    shutil.copy(best_model_path, copy_to)\n",
    "    \n",
    "    for p in exp_dir_path.glob(\"*.pth\"):\n",
    "        p.unlink()"
   ]
  },
  {
   "cell_type": "markdown",
   "id": "cb50d974",
   "metadata": {
    "papermill": {
     "duration": 0.011494,
     "end_time": "2024-03-01T11:46:28.473409",
     "exception": false,
     "start_time": "2024-03-01T11:46:28.461915",
     "status": "completed"
    },
    "tags": []
   },
   "source": [
    "## Inference OOF"
   ]
  },
  {
   "cell_type": "code",
   "execution_count": 19,
   "id": "edafd233",
   "metadata": {
    "execution": {
     "iopub.execute_input": "2024-03-01T11:46:28.498232Z",
     "iopub.status.busy": "2024-03-01T11:46:28.497922Z",
     "iopub.status.idle": "2024-03-01T11:46:28.504424Z",
     "shell.execute_reply": "2024-03-01T11:46:28.503506Z"
    },
    "papermill": {
     "duration": 0.021623,
     "end_time": "2024-03-01T11:46:28.506297",
     "exception": false,
     "start_time": "2024-03-01T11:46:28.484674",
     "status": "completed"
    },
    "tags": []
   },
   "outputs": [],
   "source": [
    "def run_inference_loop(model, loader, device):\n",
    "    model.to(device)\n",
    "    model.eval()\n",
    "    pred_list = []\n",
    "    with torch.no_grad():\n",
    "        for batch in tqdm(loader):\n",
    "            x = to_device(batch[\"data\"], device)\n",
    "            y = model(x)\n",
    "            pred_list.append(y.softmax(dim=1).detach().cpu().numpy())\n",
    "        \n",
    "    pred_arr = np.concatenate(pred_list)\n",
    "    del pred_list\n",
    "    return pred_arr"
   ]
  },
  {
   "cell_type": "code",
   "execution_count": 20,
   "id": "cabde553",
   "metadata": {
    "execution": {
     "iopub.execute_input": "2024-03-01T11:46:28.530272Z",
     "iopub.status.busy": "2024-03-01T11:46:28.529996Z",
     "iopub.status.idle": "2024-03-01T11:49:32.921302Z",
     "shell.execute_reply": "2024-03-01T11:49:32.920379Z"
    },
    "papermill": {
     "duration": 184.405978,
     "end_time": "2024-03-01T11:49:32.923602",
     "exception": false,
     "start_time": "2024-03-01T11:46:28.517624",
     "status": "completed"
    },
    "tags": []
   },
   "outputs": [
    {
     "name": "stdout",
     "output_type": "stream",
     "text": [
      "\n",
      "[fold 0]\n"
     ]
    },
    {
     "data": {
      "application/vnd.jupyter.widget-view+json": {
       "model_id": "bdc482576fa14011b0557c1c8b7dcb7d",
       "version_major": 2,
       "version_minor": 0
      },
      "text/plain": [
       "  0%|          | 0/67 [00:00<?, ?it/s]"
      ]
     },
     "metadata": {},
     "output_type": "display_data"
    },
    {
     "name": "stdout",
     "output_type": "stream",
     "text": [
      "\n",
      "[fold 1]\n"
     ]
    },
    {
     "data": {
      "application/vnd.jupyter.widget-view+json": {
       "model_id": "8a654ae6c2a64025a4914d7d0ae0777c",
       "version_major": 2,
       "version_minor": 0
      },
      "text/plain": [
       "  0%|          | 0/77 [00:00<?, ?it/s]"
      ]
     },
     "metadata": {},
     "output_type": "display_data"
    },
    {
     "name": "stdout",
     "output_type": "stream",
     "text": [
      "\n",
      "[fold 2]\n"
     ]
    },
    {
     "data": {
      "application/vnd.jupyter.widget-view+json": {
       "model_id": "13d09658fec64ce49bf4a1857d9958c6",
       "version_major": 2,
       "version_minor": 0
      },
      "text/plain": [
       "  0%|          | 0/77 [00:00<?, ?it/s]"
      ]
     },
     "metadata": {},
     "output_type": "display_data"
    },
    {
     "name": "stdout",
     "output_type": "stream",
     "text": [
      "\n",
      "[fold 3]\n"
     ]
    },
    {
     "data": {
      "application/vnd.jupyter.widget-view+json": {
       "model_id": "873398538760490593ed9b571b0cfc08",
       "version_major": 2,
       "version_minor": 0
      },
      "text/plain": [
       "  0%|          | 0/65 [00:00<?, ?it/s]"
      ]
     },
     "metadata": {},
     "output_type": "display_data"
    },
    {
     "name": "stdout",
     "output_type": "stream",
     "text": [
      "\n",
      "[fold 4]\n"
     ]
    },
    {
     "data": {
      "application/vnd.jupyter.widget-view+json": {
       "model_id": "00bcfcacd53347f7907b202ce6b5ca5e",
       "version_major": 2,
       "version_minor": 0
      },
      "text/plain": [
       "  0%|          | 0/63 [00:00<?, ?it/s]"
      ]
     },
     "metadata": {},
     "output_type": "display_data"
    }
   ],
   "source": [
    "label_arr = train[CLASSES].values\n",
    "oof_pred_arr = np.zeros((len(train), N_CLASSES))\n",
    "score_list = []\n",
    "\n",
    "for fold_id in range(N_FOLDS):\n",
    "    print(f\"\\n[fold {fold_id}]\")\n",
    "    device = torch.device(CFG.device)\n",
    "\n",
    "    # # get_dataloader\n",
    "    _, val_path_label, _, val_idx = get_path_label(fold_id, train)\n",
    "    _, val_transform = get_transforms(CFG)\n",
    "    val_dataset = HMSHBACSpecDataset(**val_path_label, transform=val_transform)\n",
    "    val_loader = torch.utils.data.DataLoader(\n",
    "        val_dataset, batch_size=CFG.batch_size, num_workers=4, shuffle=False, drop_last=False)\n",
    "    \n",
    "    # # get model\n",
    "    model_path = f\"./best_model_fold{fold_id}.pth\"\n",
    "    model = HMSHBACSpecModel(\n",
    "        model_name=CFG.model_name, pretrained=False, num_classes=6, in_channels=1)\n",
    "    model.load_state_dict(torch.load(model_path, map_location=device))\n",
    "    \n",
    "    # # inference\n",
    "    val_pred = run_inference_loop(model, val_loader, device)\n",
    "    oof_pred_arr[val_idx] = val_pred\n",
    "    \n",
    "    del val_idx, val_path_label\n",
    "    del model, val_loader\n",
    "    torch.cuda.empty_cache()\n",
    "    gc.collect()"
   ]
  },
  {
   "cell_type": "markdown",
   "id": "7750aafe",
   "metadata": {
    "papermill": {
     "duration": 0.012344,
     "end_time": "2024-03-01T11:49:32.949194",
     "exception": false,
     "start_time": "2024-03-01T11:49:32.936850",
     "status": "completed"
    },
    "tags": []
   },
   "source": [
    "## Calculate OOF score"
   ]
  },
  {
   "cell_type": "code",
   "execution_count": 21,
   "id": "c210f0ca",
   "metadata": {
    "execution": {
     "iopub.execute_input": "2024-03-01T11:49:32.975815Z",
     "iopub.status.busy": "2024-03-01T11:49:32.975477Z",
     "iopub.status.idle": "2024-03-01T11:49:33.045167Z",
     "shell.execute_reply": "2024-03-01T11:49:33.044065Z"
    },
    "papermill": {
     "duration": 0.085482,
     "end_time": "2024-03-01T11:49:33.047314",
     "exception": false,
     "start_time": "2024-03-01T11:49:32.961832",
     "status": "completed"
    },
    "tags": []
   },
   "outputs": [
    {
     "name": "stdout",
     "output_type": "stream",
     "text": [
      "CV Score KL-Div for Inception-ResNet 0.6645975465510091\n"
     ]
    }
   ],
   "source": [
    "import sys\n",
    "sys.path.append('/kaggle/input/kaggle-kl-div')\n",
    "from kaggle_kl_div import score\n",
    "\n",
    "true = train[[\"label_id\"] + CLASSES].copy()\n",
    "\n",
    "oof = pd.DataFrame(oof_pred_arr, columns=CLASSES)\n",
    "oof.insert(0, \"label_id\", train[\"label_id\"])\n",
    "\n",
    "cv_score = score(solution=true, submission=oof, row_id_column_name='label_id')\n",
    "print('CV Score KL-Div for Inception-ResNet',cv_score)"
   ]
  }
 ],
 "metadata": {
  "kaggle": {
   "accelerator": "gpu",
   "dataSources": [
    {
     "databundleVersionId": 7469972,
     "sourceId": 59093,
     "sourceType": "competition"
    },
    {
     "datasetId": 4297749,
     "sourceId": 7392733,
     "sourceType": "datasetVersion"
    }
   ],
   "dockerImageVersionId": 30636,
   "isGpuEnabled": true,
   "isInternetEnabled": true,
   "language": "python",
   "sourceType": "notebook"
  },
  "kernelspec": {
   "display_name": "Python 3",
   "language": "python",
   "name": "python3"
  },
  "language_info": {
   "codemirror_mode": {
    "name": "ipython",
    "version": 3
   },
   "file_extension": ".py",
   "mimetype": "text/x-python",
   "name": "python",
   "nbconvert_exporter": "python",
   "pygments_lexer": "ipython3",
   "version": "3.10.12"
  },
  "papermill": {
   "default_parameters": {},
   "duration": 10017.881834,
   "end_time": "2024-03-01T11:49:35.207374",
   "environment_variables": {},
   "exception": null,
   "input_path": "__notebook__.ipynb",
   "output_path": "__notebook__.ipynb",
   "parameters": {},
   "start_time": "2024-03-01T09:02:37.325540",
   "version": "2.4.0"
  },
  "widgets": {
   "application/vnd.jupyter.widget-state+json": {
    "state": {
     "00bcfcacd53347f7907b202ce6b5ca5e": {
      "model_module": "@jupyter-widgets/controls",
      "model_module_version": "1.5.0",
      "model_name": "HBoxModel",
      "state": {
       "_dom_classes": [],
       "_model_module": "@jupyter-widgets/controls",
       "_model_module_version": "1.5.0",
       "_model_name": "HBoxModel",
       "_view_count": null,
       "_view_module": "@jupyter-widgets/controls",
       "_view_module_version": "1.5.0",
       "_view_name": "HBoxView",
       "box_style": "",
       "children": [
        "IPY_MODEL_59d44d512d7942e28232992d940fe44f",
        "IPY_MODEL_311f44872e05473ba264a660b05fce96",
        "IPY_MODEL_95361f610e8a4153ac764d446e57617b"
       ],
       "layout": "IPY_MODEL_d4841efa7b4f487e8dac849c588a4c0a"
      }
     },
     "032b2416c27f491a8b53c6cf768acc07": {
      "model_module": "@jupyter-widgets/base",
      "model_module_version": "1.2.0",
      "model_name": "LayoutModel",
      "state": {
       "_model_module": "@jupyter-widgets/base",
       "_model_module_version": "1.2.0",
       "_model_name": "LayoutModel",
       "_view_count": null,
       "_view_module": "@jupyter-widgets/base",
       "_view_module_version": "1.2.0",
       "_view_name": "LayoutView",
       "align_content": null,
       "align_items": null,
       "align_self": null,
       "border": null,
       "bottom": null,
       "display": null,
       "flex": null,
       "flex_flow": null,
       "grid_area": null,
       "grid_auto_columns": null,
       "grid_auto_flow": null,
       "grid_auto_rows": null,
       "grid_column": null,
       "grid_gap": null,
       "grid_row": null,
       "grid_template_areas": null,
       "grid_template_columns": null,
       "grid_template_rows": null,
       "height": null,
       "justify_content": null,
       "justify_items": null,
       "left": null,
       "margin": null,
       "max_height": null,
       "max_width": null,
       "min_height": null,
       "min_width": null,
       "object_fit": null,
       "object_position": null,
       "order": null,
       "overflow": null,
       "overflow_x": null,
       "overflow_y": null,
       "padding": null,
       "right": null,
       "top": null,
       "visibility": null,
       "width": null
      }
     },
     "04f4452726894a53ac70f58aaee24e2f": {
      "model_module": "@jupyter-widgets/controls",
      "model_module_version": "1.5.0",
      "model_name": "ProgressStyleModel",
      "state": {
       "_model_module": "@jupyter-widgets/controls",
       "_model_module_version": "1.5.0",
       "_model_name": "ProgressStyleModel",
       "_view_count": null,
       "_view_module": "@jupyter-widgets/base",
       "_view_module_version": "1.2.0",
       "_view_name": "StyleView",
       "bar_color": null,
       "description_width": ""
      }
     },
     "08c8eb9bc4b44d9bb01e89f96eb6e592": {
      "model_module": "@jupyter-widgets/controls",
      "model_module_version": "1.5.0",
      "model_name": "ProgressStyleModel",
      "state": {
       "_model_module": "@jupyter-widgets/controls",
       "_model_module_version": "1.5.0",
       "_model_name": "ProgressStyleModel",
       "_view_count": null,
       "_view_module": "@jupyter-widgets/base",
       "_view_module_version": "1.2.0",
       "_view_name": "StyleView",
       "bar_color": null,
       "description_width": ""
      }
     },
     "0dce3d35df594293ad0dfcded13f7cae": {
      "model_module": "@jupyter-widgets/base",
      "model_module_version": "1.2.0",
      "model_name": "LayoutModel",
      "state": {
       "_model_module": "@jupyter-widgets/base",
       "_model_module_version": "1.2.0",
       "_model_name": "LayoutModel",
       "_view_count": null,
       "_view_module": "@jupyter-widgets/base",
       "_view_module_version": "1.2.0",
       "_view_name": "LayoutView",
       "align_content": null,
       "align_items": null,
       "align_self": null,
       "border": null,
       "bottom": null,
       "display": null,
       "flex": null,
       "flex_flow": null,
       "grid_area": null,
       "grid_auto_columns": null,
       "grid_auto_flow": null,
       "grid_auto_rows": null,
       "grid_column": null,
       "grid_gap": null,
       "grid_row": null,
       "grid_template_areas": null,
       "grid_template_columns": null,
       "grid_template_rows": null,
       "height": null,
       "justify_content": null,
       "justify_items": null,
       "left": null,
       "margin": null,
       "max_height": null,
       "max_width": null,
       "min_height": null,
       "min_width": null,
       "object_fit": null,
       "object_position": null,
       "order": null,
       "overflow": null,
       "overflow_x": null,
       "overflow_y": null,
       "padding": null,
       "right": null,
       "top": null,
       "visibility": null,
       "width": null
      }
     },
     "0eea157f0c374433ab0fd654624728e4": {
      "model_module": "@jupyter-widgets/base",
      "model_module_version": "1.2.0",
      "model_name": "LayoutModel",
      "state": {
       "_model_module": "@jupyter-widgets/base",
       "_model_module_version": "1.2.0",
       "_model_name": "LayoutModel",
       "_view_count": null,
       "_view_module": "@jupyter-widgets/base",
       "_view_module_version": "1.2.0",
       "_view_name": "LayoutView",
       "align_content": null,
       "align_items": null,
       "align_self": null,
       "border": null,
       "bottom": null,
       "display": null,
       "flex": null,
       "flex_flow": null,
       "grid_area": null,
       "grid_auto_columns": null,
       "grid_auto_flow": null,
       "grid_auto_rows": null,
       "grid_column": null,
       "grid_gap": null,
       "grid_row": null,
       "grid_template_areas": null,
       "grid_template_columns": null,
       "grid_template_rows": null,
       "height": null,
       "justify_content": null,
       "justify_items": null,
       "left": null,
       "margin": null,
       "max_height": null,
       "max_width": null,
       "min_height": null,
       "min_width": null,
       "object_fit": null,
       "object_position": null,
       "order": null,
       "overflow": null,
       "overflow_x": null,
       "overflow_y": null,
       "padding": null,
       "right": null,
       "top": null,
       "visibility": null,
       "width": null
      }
     },
     "13d09658fec64ce49bf4a1857d9958c6": {
      "model_module": "@jupyter-widgets/controls",
      "model_module_version": "1.5.0",
      "model_name": "HBoxModel",
      "state": {
       "_dom_classes": [],
       "_model_module": "@jupyter-widgets/controls",
       "_model_module_version": "1.5.0",
       "_model_name": "HBoxModel",
       "_view_count": null,
       "_view_module": "@jupyter-widgets/controls",
       "_view_module_version": "1.5.0",
       "_view_name": "HBoxView",
       "box_style": "",
       "children": [
        "IPY_MODEL_39379d1649f3417b81de217a14676cee",
        "IPY_MODEL_eb651e08769d46e28eb9d99b043576c1",
        "IPY_MODEL_d7f70599f8f8440e82977375587d4825"
       ],
       "layout": "IPY_MODEL_2eb58e0f7bf14bc49a7deef0fb990343"
      }
     },
     "17e8b33a709545748a99a37c56c104dc": {
      "model_module": "@jupyter-widgets/controls",
      "model_module_version": "1.5.0",
      "model_name": "HBoxModel",
      "state": {
       "_dom_classes": [],
       "_model_module": "@jupyter-widgets/controls",
       "_model_module_version": "1.5.0",
       "_model_name": "HBoxModel",
       "_view_count": null,
       "_view_module": "@jupyter-widgets/controls",
       "_view_module_version": "1.5.0",
       "_view_name": "HBoxView",
       "box_style": "",
       "children": [
        "IPY_MODEL_a7efe0d250b143288531a454f862bd2f",
        "IPY_MODEL_e4c8dc3a1ab44481b467429dbf88522a",
        "IPY_MODEL_d2d77767266243f79f28bb0529455dc2"
       ],
       "layout": "IPY_MODEL_185725376a77428fa7d8c0a53b15860c"
      }
     },
     "185725376a77428fa7d8c0a53b15860c": {
      "model_module": "@jupyter-widgets/base",
      "model_module_version": "1.2.0",
      "model_name": "LayoutModel",
      "state": {
       "_model_module": "@jupyter-widgets/base",
       "_model_module_version": "1.2.0",
       "_model_name": "LayoutModel",
       "_view_count": null,
       "_view_module": "@jupyter-widgets/base",
       "_view_module_version": "1.2.0",
       "_view_name": "LayoutView",
       "align_content": null,
       "align_items": null,
       "align_self": null,
       "border": null,
       "bottom": null,
       "display": null,
       "flex": null,
       "flex_flow": null,
       "grid_area": null,
       "grid_auto_columns": null,
       "grid_auto_flow": null,
       "grid_auto_rows": null,
       "grid_column": null,
       "grid_gap": null,
       "grid_row": null,
       "grid_template_areas": null,
       "grid_template_columns": null,
       "grid_template_rows": null,
       "height": null,
       "justify_content": null,
       "justify_items": null,
       "left": null,
       "margin": null,
       "max_height": null,
       "max_width": null,
       "min_height": null,
       "min_width": null,
       "object_fit": null,
       "object_position": null,
       "order": null,
       "overflow": null,
       "overflow_x": null,
       "overflow_y": null,
       "padding": null,
       "right": null,
       "top": null,
       "visibility": null,
       "width": null
      }
     },
     "1971686410364e548114a1350fd0a7e9": {
      "model_module": "@jupyter-widgets/controls",
      "model_module_version": "1.5.0",
      "model_name": "DescriptionStyleModel",
      "state": {
       "_model_module": "@jupyter-widgets/controls",
       "_model_module_version": "1.5.0",
       "_model_name": "DescriptionStyleModel",
       "_view_count": null,
       "_view_module": "@jupyter-widgets/base",
       "_view_module_version": "1.2.0",
       "_view_name": "StyleView",
       "description_width": ""
      }
     },
     "1c034a8c24fb430887c89dc7ba92f976": {
      "model_module": "@jupyter-widgets/controls",
      "model_module_version": "1.5.0",
      "model_name": "ProgressStyleModel",
      "state": {
       "_model_module": "@jupyter-widgets/controls",
       "_model_module_version": "1.5.0",
       "_model_name": "ProgressStyleModel",
       "_view_count": null,
       "_view_module": "@jupyter-widgets/base",
       "_view_module_version": "1.2.0",
       "_view_name": "StyleView",
       "bar_color": null,
       "description_width": ""
      }
     },
     "22fea63c77f549bd91137b57cec4e203": {
      "model_module": "@jupyter-widgets/controls",
      "model_module_version": "1.5.0",
      "model_name": "FloatProgressModel",
      "state": {
       "_dom_classes": [],
       "_model_module": "@jupyter-widgets/controls",
       "_model_module_version": "1.5.0",
       "_model_name": "FloatProgressModel",
       "_view_count": null,
       "_view_module": "@jupyter-widgets/controls",
       "_view_module_version": "1.5.0",
       "_view_name": "ProgressView",
       "bar_style": "success",
       "description": "",
       "description_tooltip": null,
       "layout": "IPY_MODEL_0eea157f0c374433ab0fd654624728e4",
       "max": 65.0,
       "min": 0.0,
       "orientation": "horizontal",
       "style": "IPY_MODEL_9b5ffc225573430ba42a2f983b62d5a6",
       "value": 65.0
      }
     },
     "24ce1175e3ea4e6b87a5e50afeb6b3be": {
      "model_module": "@jupyter-widgets/controls",
      "model_module_version": "1.5.0",
      "model_name": "FloatProgressModel",
      "state": {
       "_dom_classes": [],
       "_model_module": "@jupyter-widgets/controls",
       "_model_module_version": "1.5.0",
       "_model_name": "FloatProgressModel",
       "_view_count": null,
       "_view_module": "@jupyter-widgets/controls",
       "_view_module_version": "1.5.0",
       "_view_name": "ProgressView",
       "bar_style": "success",
       "description": "",
       "description_tooltip": null,
       "layout": "IPY_MODEL_81ff771278fa45289a6b4f2c4615d0e1",
       "max": 223748230.0,
       "min": 0.0,
       "orientation": "horizontal",
       "style": "IPY_MODEL_a0631c13732a4510ac489dddd5b55e2a",
       "value": 223748230.0
      }
     },
     "2b1fe1d2670b443b9a3a3d64e26b2fe2": {
      "model_module": "@jupyter-widgets/base",
      "model_module_version": "1.2.0",
      "model_name": "LayoutModel",
      "state": {
       "_model_module": "@jupyter-widgets/base",
       "_model_module_version": "1.2.0",
       "_model_name": "LayoutModel",
       "_view_count": null,
       "_view_module": "@jupyter-widgets/base",
       "_view_module_version": "1.2.0",
       "_view_name": "LayoutView",
       "align_content": null,
       "align_items": null,
       "align_self": null,
       "border": null,
       "bottom": null,
       "display": null,
       "flex": null,
       "flex_flow": null,
       "grid_area": null,
       "grid_auto_columns": null,
       "grid_auto_flow": null,
       "grid_auto_rows": null,
       "grid_column": null,
       "grid_gap": null,
       "grid_row": null,
       "grid_template_areas": null,
       "grid_template_columns": null,
       "grid_template_rows": null,
       "height": null,
       "justify_content": null,
       "justify_items": null,
       "left": null,
       "margin": null,
       "max_height": null,
       "max_width": null,
       "min_height": null,
       "min_width": null,
       "object_fit": null,
       "object_position": null,
       "order": null,
       "overflow": null,
       "overflow_x": null,
       "overflow_y": null,
       "padding": null,
       "right": null,
       "top": null,
       "visibility": null,
       "width": null
      }
     },
     "2eb58e0f7bf14bc49a7deef0fb990343": {
      "model_module": "@jupyter-widgets/base",
      "model_module_version": "1.2.0",
      "model_name": "LayoutModel",
      "state": {
       "_model_module": "@jupyter-widgets/base",
       "_model_module_version": "1.2.0",
       "_model_name": "LayoutModel",
       "_view_count": null,
       "_view_module": "@jupyter-widgets/base",
       "_view_module_version": "1.2.0",
       "_view_name": "LayoutView",
       "align_content": null,
       "align_items": null,
       "align_self": null,
       "border": null,
       "bottom": null,
       "display": null,
       "flex": null,
       "flex_flow": null,
       "grid_area": null,
       "grid_auto_columns": null,
       "grid_auto_flow": null,
       "grid_auto_rows": null,
       "grid_column": null,
       "grid_gap": null,
       "grid_row": null,
       "grid_template_areas": null,
       "grid_template_columns": null,
       "grid_template_rows": null,
       "height": null,
       "justify_content": null,
       "justify_items": null,
       "left": null,
       "margin": null,
       "max_height": null,
       "max_width": null,
       "min_height": null,
       "min_width": null,
       "object_fit": null,
       "object_position": null,
       "order": null,
       "overflow": null,
       "overflow_x": null,
       "overflow_y": null,
       "padding": null,
       "right": null,
       "top": null,
       "visibility": null,
       "width": null
      }
     },
     "311f44872e05473ba264a660b05fce96": {
      "model_module": "@jupyter-widgets/controls",
      "model_module_version": "1.5.0",
      "model_name": "FloatProgressModel",
      "state": {
       "_dom_classes": [],
       "_model_module": "@jupyter-widgets/controls",
       "_model_module_version": "1.5.0",
       "_model_name": "FloatProgressModel",
       "_view_count": null,
       "_view_module": "@jupyter-widgets/controls",
       "_view_module_version": "1.5.0",
       "_view_name": "ProgressView",
       "bar_style": "success",
       "description": "",
       "description_tooltip": null,
       "layout": "IPY_MODEL_bb6a36bb000340b28388da1a98e1b19b",
       "max": 63.0,
       "min": 0.0,
       "orientation": "horizontal",
       "style": "IPY_MODEL_04f4452726894a53ac70f58aaee24e2f",
       "value": 63.0
      }
     },
     "31e69a7212024cc39a770625313b80d3": {
      "model_module": "@jupyter-widgets/base",
      "model_module_version": "1.2.0",
      "model_name": "LayoutModel",
      "state": {
       "_model_module": "@jupyter-widgets/base",
       "_model_module_version": "1.2.0",
       "_model_name": "LayoutModel",
       "_view_count": null,
       "_view_module": "@jupyter-widgets/base",
       "_view_module_version": "1.2.0",
       "_view_name": "LayoutView",
       "align_content": null,
       "align_items": null,
       "align_self": null,
       "border": null,
       "bottom": null,
       "display": null,
       "flex": null,
       "flex_flow": null,
       "grid_area": null,
       "grid_auto_columns": null,
       "grid_auto_flow": null,
       "grid_auto_rows": null,
       "grid_column": null,
       "grid_gap": null,
       "grid_row": null,
       "grid_template_areas": null,
       "grid_template_columns": null,
       "grid_template_rows": null,
       "height": null,
       "justify_content": null,
       "justify_items": null,
       "left": null,
       "margin": null,
       "max_height": null,
       "max_width": null,
       "min_height": null,
       "min_width": null,
       "object_fit": null,
       "object_position": null,
       "order": null,
       "overflow": null,
       "overflow_x": null,
       "overflow_y": null,
       "padding": null,
       "right": null,
       "top": null,
       "visibility": null,
       "width": null
      }
     },
     "39379d1649f3417b81de217a14676cee": {
      "model_module": "@jupyter-widgets/controls",
      "model_module_version": "1.5.0",
      "model_name": "HTMLModel",
      "state": {
       "_dom_classes": [],
       "_model_module": "@jupyter-widgets/controls",
       "_model_module_version": "1.5.0",
       "_model_name": "HTMLModel",
       "_view_count": null,
       "_view_module": "@jupyter-widgets/controls",
       "_view_module_version": "1.5.0",
       "_view_name": "HTMLView",
       "description": "",
       "description_tooltip": null,
       "layout": "IPY_MODEL_fd05f0c3c72942868b42af4f2fed06ec",
       "placeholder": "​",
       "style": "IPY_MODEL_83831ddddba34e958788c2410af3d017",
       "value": "100%"
      }
     },
     "3d15a13ad2e74d789827edee192cdf1b": {
      "model_module": "@jupyter-widgets/controls",
      "model_module_version": "1.5.0",
      "model_name": "HTMLModel",
      "state": {
       "_dom_classes": [],
       "_model_module": "@jupyter-widgets/controls",
       "_model_module_version": "1.5.0",
       "_model_name": "HTMLModel",
       "_view_count": null,
       "_view_module": "@jupyter-widgets/controls",
       "_view_module_version": "1.5.0",
       "_view_name": "HTMLView",
       "description": "",
       "description_tooltip": null,
       "layout": "IPY_MODEL_5a05b6d077334c1bb51a151733c906cc",
       "placeholder": "​",
       "style": "IPY_MODEL_fac9fa69ceab45e794ffe491592924b7",
       "value": "100%"
      }
     },
     "3d9088721d894750bec597d553f54a44": {
      "model_module": "@jupyter-widgets/controls",
      "model_module_version": "1.5.0",
      "model_name": "HBoxModel",
      "state": {
       "_dom_classes": [],
       "_model_module": "@jupyter-widgets/controls",
       "_model_module_version": "1.5.0",
       "_model_name": "HBoxModel",
       "_view_count": null,
       "_view_module": "@jupyter-widgets/controls",
       "_view_module_version": "1.5.0",
       "_view_name": "HBoxView",
       "box_style": "",
       "children": [
        "IPY_MODEL_f015f796ceca451486e030a71b6c67ac",
        "IPY_MODEL_24ce1175e3ea4e6b87a5e50afeb6b3be",
        "IPY_MODEL_9bedd0b5f94946e189f19a80a9b25a67"
       ],
       "layout": "IPY_MODEL_6dbe46640342461db34ca9ad17ee91e1"
      }
     },
     "3f2ccb9fbb8846c88c97445ef9925673": {
      "model_module": "@jupyter-widgets/base",
      "model_module_version": "1.2.0",
      "model_name": "LayoutModel",
      "state": {
       "_model_module": "@jupyter-widgets/base",
       "_model_module_version": "1.2.0",
       "_model_name": "LayoutModel",
       "_view_count": null,
       "_view_module": "@jupyter-widgets/base",
       "_view_module_version": "1.2.0",
       "_view_name": "LayoutView",
       "align_content": null,
       "align_items": null,
       "align_self": null,
       "border": null,
       "bottom": null,
       "display": null,
       "flex": null,
       "flex_flow": null,
       "grid_area": null,
       "grid_auto_columns": null,
       "grid_auto_flow": null,
       "grid_auto_rows": null,
       "grid_column": null,
       "grid_gap": null,
       "grid_row": null,
       "grid_template_areas": null,
       "grid_template_columns": null,
       "grid_template_rows": null,
       "height": null,
       "justify_content": null,
       "justify_items": null,
       "left": null,
       "margin": null,
       "max_height": null,
       "max_width": null,
       "min_height": null,
       "min_width": null,
       "object_fit": null,
       "object_position": null,
       "order": null,
       "overflow": null,
       "overflow_x": null,
       "overflow_y": null,
       "padding": null,
       "right": null,
       "top": null,
       "visibility": null,
       "width": null
      }
     },
     "40bd4d775ff246efa2b0977a3adc7ac9": {
      "model_module": "@jupyter-widgets/controls",
      "model_module_version": "1.5.0",
      "model_name": "FloatProgressModel",
      "state": {
       "_dom_classes": [],
       "_model_module": "@jupyter-widgets/controls",
       "_model_module_version": "1.5.0",
       "_model_name": "FloatProgressModel",
       "_view_count": null,
       "_view_module": "@jupyter-widgets/controls",
       "_view_module_version": "1.5.0",
       "_view_name": "ProgressView",
       "bar_style": "success",
       "description": "",
       "description_tooltip": null,
       "layout": "IPY_MODEL_520166ab8ffd4f9c88090d3a62906b88",
       "max": 77.0,
       "min": 0.0,
       "orientation": "horizontal",
       "style": "IPY_MODEL_cebc3c7ca865422e9045bea62856b923",
       "value": 77.0
      }
     },
     "45243142413744948045a8bed2e748be": {
      "model_module": "@jupyter-widgets/base",
      "model_module_version": "1.2.0",
      "model_name": "LayoutModel",
      "state": {
       "_model_module": "@jupyter-widgets/base",
       "_model_module_version": "1.2.0",
       "_model_name": "LayoutModel",
       "_view_count": null,
       "_view_module": "@jupyter-widgets/base",
       "_view_module_version": "1.2.0",
       "_view_name": "LayoutView",
       "align_content": null,
       "align_items": null,
       "align_self": null,
       "border": null,
       "bottom": null,
       "display": null,
       "flex": null,
       "flex_flow": null,
       "grid_area": null,
       "grid_auto_columns": null,
       "grid_auto_flow": null,
       "grid_auto_rows": null,
       "grid_column": null,
       "grid_gap": null,
       "grid_row": null,
       "grid_template_areas": null,
       "grid_template_columns": null,
       "grid_template_rows": null,
       "height": null,
       "justify_content": null,
       "justify_items": null,
       "left": null,
       "margin": null,
       "max_height": null,
       "max_width": null,
       "min_height": null,
       "min_width": null,
       "object_fit": null,
       "object_position": null,
       "order": null,
       "overflow": null,
       "overflow_x": null,
       "overflow_y": null,
       "padding": null,
       "right": null,
       "top": null,
       "visibility": null,
       "width": null
      }
     },
     "4644df2a379c4e2ea56b02569b67c9cf": {
      "model_module": "@jupyter-widgets/base",
      "model_module_version": "1.2.0",
      "model_name": "LayoutModel",
      "state": {
       "_model_module": "@jupyter-widgets/base",
       "_model_module_version": "1.2.0",
       "_model_name": "LayoutModel",
       "_view_count": null,
       "_view_module": "@jupyter-widgets/base",
       "_view_module_version": "1.2.0",
       "_view_name": "LayoutView",
       "align_content": null,
       "align_items": null,
       "align_self": null,
       "border": null,
       "bottom": null,
       "display": null,
       "flex": null,
       "flex_flow": null,
       "grid_area": null,
       "grid_auto_columns": null,
       "grid_auto_flow": null,
       "grid_auto_rows": null,
       "grid_column": null,
       "grid_gap": null,
       "grid_row": null,
       "grid_template_areas": null,
       "grid_template_columns": null,
       "grid_template_rows": null,
       "height": null,
       "justify_content": null,
       "justify_items": null,
       "left": null,
       "margin": null,
       "max_height": null,
       "max_width": null,
       "min_height": null,
       "min_width": null,
       "object_fit": null,
       "object_position": null,
       "order": null,
       "overflow": null,
       "overflow_x": null,
       "overflow_y": null,
       "padding": null,
       "right": null,
       "top": null,
       "visibility": null,
       "width": null
      }
     },
     "5018a3b1f18c491c8daa93bf116e1120": {
      "model_module": "@jupyter-widgets/controls",
      "model_module_version": "1.5.0",
      "model_name": "DescriptionStyleModel",
      "state": {
       "_model_module": "@jupyter-widgets/controls",
       "_model_module_version": "1.5.0",
       "_model_name": "DescriptionStyleModel",
       "_view_count": null,
       "_view_module": "@jupyter-widgets/base",
       "_view_module_version": "1.2.0",
       "_view_name": "StyleView",
       "description_width": ""
      }
     },
     "50d99a9dbd374df4ae3f4ec87eafb7cb": {
      "model_module": "@jupyter-widgets/controls",
      "model_module_version": "1.5.0",
      "model_name": "HTMLModel",
      "state": {
       "_dom_classes": [],
       "_model_module": "@jupyter-widgets/controls",
       "_model_module_version": "1.5.0",
       "_model_name": "HTMLModel",
       "_view_count": null,
       "_view_module": "@jupyter-widgets/controls",
       "_view_module_version": "1.5.0",
       "_view_name": "HTMLView",
       "description": "",
       "description_tooltip": null,
       "layout": "IPY_MODEL_45243142413744948045a8bed2e748be",
       "placeholder": "​",
       "style": "IPY_MODEL_e209eeaa215b480eaf879f27b97b8f16",
       "value": " 65/65 [00:30&lt;00:00,  2.21it/s]"
      }
     },
     "520166ab8ffd4f9c88090d3a62906b88": {
      "model_module": "@jupyter-widgets/base",
      "model_module_version": "1.2.0",
      "model_name": "LayoutModel",
      "state": {
       "_model_module": "@jupyter-widgets/base",
       "_model_module_version": "1.2.0",
       "_model_name": "LayoutModel",
       "_view_count": null,
       "_view_module": "@jupyter-widgets/base",
       "_view_module_version": "1.2.0",
       "_view_name": "LayoutView",
       "align_content": null,
       "align_items": null,
       "align_self": null,
       "border": null,
       "bottom": null,
       "display": null,
       "flex": null,
       "flex_flow": null,
       "grid_area": null,
       "grid_auto_columns": null,
       "grid_auto_flow": null,
       "grid_auto_rows": null,
       "grid_column": null,
       "grid_gap": null,
       "grid_row": null,
       "grid_template_areas": null,
       "grid_template_columns": null,
       "grid_template_rows": null,
       "height": null,
       "justify_content": null,
       "justify_items": null,
       "left": null,
       "margin": null,
       "max_height": null,
       "max_width": null,
       "min_height": null,
       "min_width": null,
       "object_fit": null,
       "object_position": null,
       "order": null,
       "overflow": null,
       "overflow_x": null,
       "overflow_y": null,
       "padding": null,
       "right": null,
       "top": null,
       "visibility": null,
       "width": null
      }
     },
     "58eba01fee464772bdb1fbc4601ac377": {
      "model_module": "@jupyter-widgets/controls",
      "model_module_version": "1.5.0",
      "model_name": "HTMLModel",
      "state": {
       "_dom_classes": [],
       "_model_module": "@jupyter-widgets/controls",
       "_model_module_version": "1.5.0",
       "_model_name": "HTMLModel",
       "_view_count": null,
       "_view_module": "@jupyter-widgets/controls",
       "_view_module_version": "1.5.0",
       "_view_name": "HTMLView",
       "description": "",
       "description_tooltip": null,
       "layout": "IPY_MODEL_a2b1054c4a0b4a92b9d2b97cba86f4e2",
       "placeholder": "​",
       "style": "IPY_MODEL_9e02d9e7b0a946cf9740d023fa8fa1fb",
       "value": " 67/67 [00:37&lt;00:00,  1.25s/it]"
      }
     },
     "59d44d512d7942e28232992d940fe44f": {
      "model_module": "@jupyter-widgets/controls",
      "model_module_version": "1.5.0",
      "model_name": "HTMLModel",
      "state": {
       "_dom_classes": [],
       "_model_module": "@jupyter-widgets/controls",
       "_model_module_version": "1.5.0",
       "_model_name": "HTMLModel",
       "_view_count": null,
       "_view_module": "@jupyter-widgets/controls",
       "_view_module_version": "1.5.0",
       "_view_name": "HTMLView",
       "description": "",
       "description_tooltip": null,
       "layout": "IPY_MODEL_d702daba634147d181a3745178b56967",
       "placeholder": "​",
       "style": "IPY_MODEL_a6262458b5174cddbd64842939528342",
       "value": "100%"
      }
     },
     "5a05b6d077334c1bb51a151733c906cc": {
      "model_module": "@jupyter-widgets/base",
      "model_module_version": "1.2.0",
      "model_name": "LayoutModel",
      "state": {
       "_model_module": "@jupyter-widgets/base",
       "_model_module_version": "1.2.0",
       "_model_name": "LayoutModel",
       "_view_count": null,
       "_view_module": "@jupyter-widgets/base",
       "_view_module_version": "1.2.0",
       "_view_name": "LayoutView",
       "align_content": null,
       "align_items": null,
       "align_self": null,
       "border": null,
       "bottom": null,
       "display": null,
       "flex": null,
       "flex_flow": null,
       "grid_area": null,
       "grid_auto_columns": null,
       "grid_auto_flow": null,
       "grid_auto_rows": null,
       "grid_column": null,
       "grid_gap": null,
       "grid_row": null,
       "grid_template_areas": null,
       "grid_template_columns": null,
       "grid_template_rows": null,
       "height": null,
       "justify_content": null,
       "justify_items": null,
       "left": null,
       "margin": null,
       "max_height": null,
       "max_width": null,
       "min_height": null,
       "min_width": null,
       "object_fit": null,
       "object_position": null,
       "order": null,
       "overflow": null,
       "overflow_x": null,
       "overflow_y": null,
       "padding": null,
       "right": null,
       "top": null,
       "visibility": null,
       "width": null
      }
     },
     "5ff5de9dc35745a2a7ea90d84e3e2440": {
      "model_module": "@jupyter-widgets/base",
      "model_module_version": "1.2.0",
      "model_name": "LayoutModel",
      "state": {
       "_model_module": "@jupyter-widgets/base",
       "_model_module_version": "1.2.0",
       "_model_name": "LayoutModel",
       "_view_count": null,
       "_view_module": "@jupyter-widgets/base",
       "_view_module_version": "1.2.0",
       "_view_name": "LayoutView",
       "align_content": null,
       "align_items": null,
       "align_self": null,
       "border": null,
       "bottom": null,
       "display": null,
       "flex": null,
       "flex_flow": null,
       "grid_area": null,
       "grid_auto_columns": null,
       "grid_auto_flow": null,
       "grid_auto_rows": null,
       "grid_column": null,
       "grid_gap": null,
       "grid_row": null,
       "grid_template_areas": null,
       "grid_template_columns": null,
       "grid_template_rows": null,
       "height": null,
       "justify_content": null,
       "justify_items": null,
       "left": null,
       "margin": null,
       "max_height": null,
       "max_width": null,
       "min_height": null,
       "min_width": null,
       "object_fit": null,
       "object_position": null,
       "order": null,
       "overflow": null,
       "overflow_x": null,
       "overflow_y": null,
       "padding": null,
       "right": null,
       "top": null,
       "visibility": null,
       "width": null
      }
     },
     "623cb5da2e834455915b8698f5b9719f": {
      "model_module": "@jupyter-widgets/controls",
      "model_module_version": "1.5.0",
      "model_name": "FloatProgressModel",
      "state": {
       "_dom_classes": [],
       "_model_module": "@jupyter-widgets/controls",
       "_model_module_version": "1.5.0",
       "_model_name": "FloatProgressModel",
       "_view_count": null,
       "_view_module": "@jupyter-widgets/controls",
       "_view_module_version": "1.5.0",
       "_view_name": "ProgressView",
       "bar_style": "success",
       "description": "",
       "description_tooltip": null,
       "layout": "IPY_MODEL_5ff5de9dc35745a2a7ea90d84e3e2440",
       "max": 67.0,
       "min": 0.0,
       "orientation": "horizontal",
       "style": "IPY_MODEL_08c8eb9bc4b44d9bb01e89f96eb6e592",
       "value": 67.0
      }
     },
     "6dbe46640342461db34ca9ad17ee91e1": {
      "model_module": "@jupyter-widgets/base",
      "model_module_version": "1.2.0",
      "model_name": "LayoutModel",
      "state": {
       "_model_module": "@jupyter-widgets/base",
       "_model_module_version": "1.2.0",
       "_model_name": "LayoutModel",
       "_view_count": null,
       "_view_module": "@jupyter-widgets/base",
       "_view_module_version": "1.2.0",
       "_view_name": "LayoutView",
       "align_content": null,
       "align_items": null,
       "align_self": null,
       "border": null,
       "bottom": null,
       "display": null,
       "flex": null,
       "flex_flow": null,
       "grid_area": null,
       "grid_auto_columns": null,
       "grid_auto_flow": null,
       "grid_auto_rows": null,
       "grid_column": null,
       "grid_gap": null,
       "grid_row": null,
       "grid_template_areas": null,
       "grid_template_columns": null,
       "grid_template_rows": null,
       "height": null,
       "justify_content": null,
       "justify_items": null,
       "left": null,
       "margin": null,
       "max_height": null,
       "max_width": null,
       "min_height": null,
       "min_width": null,
       "object_fit": null,
       "object_position": null,
       "order": null,
       "overflow": null,
       "overflow_x": null,
       "overflow_y": null,
       "padding": null,
       "right": null,
       "top": null,
       "visibility": null,
       "width": null
      }
     },
     "70350d0ab45f479d86b41753e9bcb30b": {
      "model_module": "@jupyter-widgets/controls",
      "model_module_version": "1.5.0",
      "model_name": "DescriptionStyleModel",
      "state": {
       "_model_module": "@jupyter-widgets/controls",
       "_model_module_version": "1.5.0",
       "_model_name": "DescriptionStyleModel",
       "_view_count": null,
       "_view_module": "@jupyter-widgets/base",
       "_view_module_version": "1.2.0",
       "_view_name": "StyleView",
       "description_width": ""
      }
     },
     "81ff771278fa45289a6b4f2c4615d0e1": {
      "model_module": "@jupyter-widgets/base",
      "model_module_version": "1.2.0",
      "model_name": "LayoutModel",
      "state": {
       "_model_module": "@jupyter-widgets/base",
       "_model_module_version": "1.2.0",
       "_model_name": "LayoutModel",
       "_view_count": null,
       "_view_module": "@jupyter-widgets/base",
       "_view_module_version": "1.2.0",
       "_view_name": "LayoutView",
       "align_content": null,
       "align_items": null,
       "align_self": null,
       "border": null,
       "bottom": null,
       "display": null,
       "flex": null,
       "flex_flow": null,
       "grid_area": null,
       "grid_auto_columns": null,
       "grid_auto_flow": null,
       "grid_auto_rows": null,
       "grid_column": null,
       "grid_gap": null,
       "grid_row": null,
       "grid_template_areas": null,
       "grid_template_columns": null,
       "grid_template_rows": null,
       "height": null,
       "justify_content": null,
       "justify_items": null,
       "left": null,
       "margin": null,
       "max_height": null,
       "max_width": null,
       "min_height": null,
       "min_width": null,
       "object_fit": null,
       "object_position": null,
       "order": null,
       "overflow": null,
       "overflow_x": null,
       "overflow_y": null,
       "padding": null,
       "right": null,
       "top": null,
       "visibility": null,
       "width": null
      }
     },
     "83831ddddba34e958788c2410af3d017": {
      "model_module": "@jupyter-widgets/controls",
      "model_module_version": "1.5.0",
      "model_name": "DescriptionStyleModel",
      "state": {
       "_model_module": "@jupyter-widgets/controls",
       "_model_module_version": "1.5.0",
       "_model_name": "DescriptionStyleModel",
       "_view_count": null,
       "_view_module": "@jupyter-widgets/base",
       "_view_module_version": "1.2.0",
       "_view_name": "StyleView",
       "description_width": ""
      }
     },
     "83c203f091f64cc0b64f88cc4e4abf2f": {
      "model_module": "@jupyter-widgets/controls",
      "model_module_version": "1.5.0",
      "model_name": "DescriptionStyleModel",
      "state": {
       "_model_module": "@jupyter-widgets/controls",
       "_model_module_version": "1.5.0",
       "_model_name": "DescriptionStyleModel",
       "_view_count": null,
       "_view_module": "@jupyter-widgets/base",
       "_view_module_version": "1.2.0",
       "_view_name": "StyleView",
       "description_width": ""
      }
     },
     "873398538760490593ed9b571b0cfc08": {
      "model_module": "@jupyter-widgets/controls",
      "model_module_version": "1.5.0",
      "model_name": "HBoxModel",
      "state": {
       "_dom_classes": [],
       "_model_module": "@jupyter-widgets/controls",
       "_model_module_version": "1.5.0",
       "_model_name": "HBoxModel",
       "_view_count": null,
       "_view_module": "@jupyter-widgets/controls",
       "_view_module_version": "1.5.0",
       "_view_name": "HBoxView",
       "box_style": "",
       "children": [
        "IPY_MODEL_ae55a29501284d169ce051ad001f77a9",
        "IPY_MODEL_22fea63c77f549bd91137b57cec4e203",
        "IPY_MODEL_50d99a9dbd374df4ae3f4ec87eafb7cb"
       ],
       "layout": "IPY_MODEL_c466f7e438024a11b251a0d8ad28ab33"
      }
     },
     "8a654ae6c2a64025a4914d7d0ae0777c": {
      "model_module": "@jupyter-widgets/controls",
      "model_module_version": "1.5.0",
      "model_name": "HBoxModel",
      "state": {
       "_dom_classes": [],
       "_model_module": "@jupyter-widgets/controls",
       "_model_module_version": "1.5.0",
       "_model_name": "HBoxModel",
       "_view_count": null,
       "_view_module": "@jupyter-widgets/controls",
       "_view_module_version": "1.5.0",
       "_view_name": "HBoxView",
       "box_style": "",
       "children": [
        "IPY_MODEL_a74b3b841f87486f81903ae6d464cc24",
        "IPY_MODEL_40bd4d775ff246efa2b0977a3adc7ac9",
        "IPY_MODEL_b09f418dde504734b111a223bebae38d"
       ],
       "layout": "IPY_MODEL_fb5e443bd77f421297c49c7a7318d153"
      }
     },
     "8b9cd2322fa74932b89d898a46f49628": {
      "model_module": "@jupyter-widgets/controls",
      "model_module_version": "1.5.0",
      "model_name": "DescriptionStyleModel",
      "state": {
       "_model_module": "@jupyter-widgets/controls",
       "_model_module_version": "1.5.0",
       "_model_name": "DescriptionStyleModel",
       "_view_count": null,
       "_view_module": "@jupyter-widgets/base",
       "_view_module_version": "1.2.0",
       "_view_name": "StyleView",
       "description_width": ""
      }
     },
     "93886f2e100548a48789b3d7a13326e4": {
      "model_module": "@jupyter-widgets/controls",
      "model_module_version": "1.5.0",
      "model_name": "DescriptionStyleModel",
      "state": {
       "_model_module": "@jupyter-widgets/controls",
       "_model_module_version": "1.5.0",
       "_model_name": "DescriptionStyleModel",
       "_view_count": null,
       "_view_module": "@jupyter-widgets/base",
       "_view_module_version": "1.2.0",
       "_view_name": "StyleView",
       "description_width": ""
      }
     },
     "95361f610e8a4153ac764d446e57617b": {
      "model_module": "@jupyter-widgets/controls",
      "model_module_version": "1.5.0",
      "model_name": "HTMLModel",
      "state": {
       "_dom_classes": [],
       "_model_module": "@jupyter-widgets/controls",
       "_model_module_version": "1.5.0",
       "_model_name": "HTMLModel",
       "_view_count": null,
       "_view_module": "@jupyter-widgets/controls",
       "_view_module_version": "1.5.0",
       "_view_name": "HTMLView",
       "description": "",
       "description_tooltip": null,
       "layout": "IPY_MODEL_032b2416c27f491a8b53c6cf768acc07",
       "placeholder": "​",
       "style": "IPY_MODEL_d24a2de9abf34250831808709d19b442",
       "value": " 63/63 [00:32&lt;00:00,  1.22s/it]"
      }
     },
     "9b5ffc225573430ba42a2f983b62d5a6": {
      "model_module": "@jupyter-widgets/controls",
      "model_module_version": "1.5.0",
      "model_name": "ProgressStyleModel",
      "state": {
       "_model_module": "@jupyter-widgets/controls",
       "_model_module_version": "1.5.0",
       "_model_name": "ProgressStyleModel",
       "_view_count": null,
       "_view_module": "@jupyter-widgets/base",
       "_view_module_version": "1.2.0",
       "_view_name": "StyleView",
       "bar_color": null,
       "description_width": ""
      }
     },
     "9bedd0b5f94946e189f19a80a9b25a67": {
      "model_module": "@jupyter-widgets/controls",
      "model_module_version": "1.5.0",
      "model_name": "HTMLModel",
      "state": {
       "_dom_classes": [],
       "_model_module": "@jupyter-widgets/controls",
       "_model_module_version": "1.5.0",
       "_model_name": "HTMLModel",
       "_view_count": null,
       "_view_module": "@jupyter-widgets/controls",
       "_view_module_version": "1.5.0",
       "_view_name": "HTMLView",
       "description": "",
       "description_tooltip": null,
       "layout": "IPY_MODEL_31e69a7212024cc39a770625313b80d3",
       "placeholder": "​",
       "style": "IPY_MODEL_70350d0ab45f479d86b41753e9bcb30b",
       "value": " 224M/224M [00:12&lt;00:00, 19.3MB/s]"
      }
     },
     "9e02d9e7b0a946cf9740d023fa8fa1fb": {
      "model_module": "@jupyter-widgets/controls",
      "model_module_version": "1.5.0",
      "model_name": "DescriptionStyleModel",
      "state": {
       "_model_module": "@jupyter-widgets/controls",
       "_model_module_version": "1.5.0",
       "_model_name": "DescriptionStyleModel",
       "_view_count": null,
       "_view_module": "@jupyter-widgets/base",
       "_view_module_version": "1.2.0",
       "_view_name": "StyleView",
       "description_width": ""
      }
     },
     "a0631c13732a4510ac489dddd5b55e2a": {
      "model_module": "@jupyter-widgets/controls",
      "model_module_version": "1.5.0",
      "model_name": "ProgressStyleModel",
      "state": {
       "_model_module": "@jupyter-widgets/controls",
       "_model_module_version": "1.5.0",
       "_model_name": "ProgressStyleModel",
       "_view_count": null,
       "_view_module": "@jupyter-widgets/base",
       "_view_module_version": "1.2.0",
       "_view_name": "StyleView",
       "bar_color": null,
       "description_width": ""
      }
     },
     "a2b1054c4a0b4a92b9d2b97cba86f4e2": {
      "model_module": "@jupyter-widgets/base",
      "model_module_version": "1.2.0",
      "model_name": "LayoutModel",
      "state": {
       "_model_module": "@jupyter-widgets/base",
       "_model_module_version": "1.2.0",
       "_model_name": "LayoutModel",
       "_view_count": null,
       "_view_module": "@jupyter-widgets/base",
       "_view_module_version": "1.2.0",
       "_view_name": "LayoutView",
       "align_content": null,
       "align_items": null,
       "align_self": null,
       "border": null,
       "bottom": null,
       "display": null,
       "flex": null,
       "flex_flow": null,
       "grid_area": null,
       "grid_auto_columns": null,
       "grid_auto_flow": null,
       "grid_auto_rows": null,
       "grid_column": null,
       "grid_gap": null,
       "grid_row": null,
       "grid_template_areas": null,
       "grid_template_columns": null,
       "grid_template_rows": null,
       "height": null,
       "justify_content": null,
       "justify_items": null,
       "left": null,
       "margin": null,
       "max_height": null,
       "max_width": null,
       "min_height": null,
       "min_width": null,
       "object_fit": null,
       "object_position": null,
       "order": null,
       "overflow": null,
       "overflow_x": null,
       "overflow_y": null,
       "padding": null,
       "right": null,
       "top": null,
       "visibility": null,
       "width": null
      }
     },
     "a6262458b5174cddbd64842939528342": {
      "model_module": "@jupyter-widgets/controls",
      "model_module_version": "1.5.0",
      "model_name": "DescriptionStyleModel",
      "state": {
       "_model_module": "@jupyter-widgets/controls",
       "_model_module_version": "1.5.0",
       "_model_name": "DescriptionStyleModel",
       "_view_count": null,
       "_view_module": "@jupyter-widgets/base",
       "_view_module_version": "1.2.0",
       "_view_name": "StyleView",
       "description_width": ""
      }
     },
     "a74b3b841f87486f81903ae6d464cc24": {
      "model_module": "@jupyter-widgets/controls",
      "model_module_version": "1.5.0",
      "model_name": "HTMLModel",
      "state": {
       "_dom_classes": [],
       "_model_module": "@jupyter-widgets/controls",
       "_model_module_version": "1.5.0",
       "_model_name": "HTMLModel",
       "_view_count": null,
       "_view_module": "@jupyter-widgets/controls",
       "_view_module_version": "1.5.0",
       "_view_name": "HTMLView",
       "description": "",
       "description_tooltip": null,
       "layout": "IPY_MODEL_df8486b95b494e5db0400cdfb1627ebd",
       "placeholder": "​",
       "style": "IPY_MODEL_8b9cd2322fa74932b89d898a46f49628",
       "value": "100%"
      }
     },
     "a7efe0d250b143288531a454f862bd2f": {
      "model_module": "@jupyter-widgets/controls",
      "model_module_version": "1.5.0",
      "model_name": "HTMLModel",
      "state": {
       "_dom_classes": [],
       "_model_module": "@jupyter-widgets/controls",
       "_model_module_version": "1.5.0",
       "_model_name": "HTMLModel",
       "_view_count": null,
       "_view_module": "@jupyter-widgets/controls",
       "_view_module_version": "1.5.0",
       "_view_name": "HTMLView",
       "description": "",
       "description_tooltip": null,
       "layout": "IPY_MODEL_2b1fe1d2670b443b9a3a3d64e26b2fe2",
       "placeholder": "​",
       "style": "IPY_MODEL_83c203f091f64cc0b64f88cc4e4abf2f",
       "value": "100%"
      }
     },
     "abac772b889248359184455d8a7ac253": {
      "model_module": "@jupyter-widgets/base",
      "model_module_version": "1.2.0",
      "model_name": "LayoutModel",
      "state": {
       "_model_module": "@jupyter-widgets/base",
       "_model_module_version": "1.2.0",
       "_model_name": "LayoutModel",
       "_view_count": null,
       "_view_module": "@jupyter-widgets/base",
       "_view_module_version": "1.2.0",
       "_view_name": "LayoutView",
       "align_content": null,
       "align_items": null,
       "align_self": null,
       "border": null,
       "bottom": null,
       "display": null,
       "flex": null,
       "flex_flow": null,
       "grid_area": null,
       "grid_auto_columns": null,
       "grid_auto_flow": null,
       "grid_auto_rows": null,
       "grid_column": null,
       "grid_gap": null,
       "grid_row": null,
       "grid_template_areas": null,
       "grid_template_columns": null,
       "grid_template_rows": null,
       "height": null,
       "justify_content": null,
       "justify_items": null,
       "left": null,
       "margin": null,
       "max_height": null,
       "max_width": null,
       "min_height": null,
       "min_width": null,
       "object_fit": null,
       "object_position": null,
       "order": null,
       "overflow": null,
       "overflow_x": null,
       "overflow_y": null,
       "padding": null,
       "right": null,
       "top": null,
       "visibility": null,
       "width": null
      }
     },
     "ac45229864e44b1c93149653d926df0e": {
      "model_module": "@jupyter-widgets/base",
      "model_module_version": "1.2.0",
      "model_name": "LayoutModel",
      "state": {
       "_model_module": "@jupyter-widgets/base",
       "_model_module_version": "1.2.0",
       "_model_name": "LayoutModel",
       "_view_count": null,
       "_view_module": "@jupyter-widgets/base",
       "_view_module_version": "1.2.0",
       "_view_name": "LayoutView",
       "align_content": null,
       "align_items": null,
       "align_self": null,
       "border": null,
       "bottom": null,
       "display": null,
       "flex": null,
       "flex_flow": null,
       "grid_area": null,
       "grid_auto_columns": null,
       "grid_auto_flow": null,
       "grid_auto_rows": null,
       "grid_column": null,
       "grid_gap": null,
       "grid_row": null,
       "grid_template_areas": null,
       "grid_template_columns": null,
       "grid_template_rows": null,
       "height": null,
       "justify_content": null,
       "justify_items": null,
       "left": null,
       "margin": null,
       "max_height": null,
       "max_width": null,
       "min_height": null,
       "min_width": null,
       "object_fit": null,
       "object_position": null,
       "order": null,
       "overflow": null,
       "overflow_x": null,
       "overflow_y": null,
       "padding": null,
       "right": null,
       "top": null,
       "visibility": null,
       "width": null
      }
     },
     "ae55a29501284d169ce051ad001f77a9": {
      "model_module": "@jupyter-widgets/controls",
      "model_module_version": "1.5.0",
      "model_name": "HTMLModel",
      "state": {
       "_dom_classes": [],
       "_model_module": "@jupyter-widgets/controls",
       "_model_module_version": "1.5.0",
       "_model_name": "HTMLModel",
       "_view_count": null,
       "_view_module": "@jupyter-widgets/controls",
       "_view_module_version": "1.5.0",
       "_view_name": "HTMLView",
       "description": "",
       "description_tooltip": null,
       "layout": "IPY_MODEL_0dce3d35df594293ad0dfcded13f7cae",
       "placeholder": "​",
       "style": "IPY_MODEL_5018a3b1f18c491c8daa93bf116e1120",
       "value": "100%"
      }
     },
     "b09f418dde504734b111a223bebae38d": {
      "model_module": "@jupyter-widgets/controls",
      "model_module_version": "1.5.0",
      "model_name": "HTMLModel",
      "state": {
       "_dom_classes": [],
       "_model_module": "@jupyter-widgets/controls",
       "_model_module_version": "1.5.0",
       "_model_name": "HTMLModel",
       "_view_count": null,
       "_view_module": "@jupyter-widgets/controls",
       "_view_module_version": "1.5.0",
       "_view_name": "HTMLView",
       "description": "",
       "description_tooltip": null,
       "layout": "IPY_MODEL_c509c81d7a624624a4f9b7141322815b",
       "placeholder": "​",
       "style": "IPY_MODEL_1971686410364e548114a1350fd0a7e9",
       "value": " 77/77 [00:36&lt;00:00,  2.21it/s]"
      }
     },
     "b560bf2ee3ad4aa98c328ba1b6aba05f": {
      "model_module": "@jupyter-widgets/base",
      "model_module_version": "1.2.0",
      "model_name": "LayoutModel",
      "state": {
       "_model_module": "@jupyter-widgets/base",
       "_model_module_version": "1.2.0",
       "_model_name": "LayoutModel",
       "_view_count": null,
       "_view_module": "@jupyter-widgets/base",
       "_view_module_version": "1.2.0",
       "_view_name": "LayoutView",
       "align_content": null,
       "align_items": null,
       "align_self": null,
       "border": null,
       "bottom": null,
       "display": null,
       "flex": null,
       "flex_flow": null,
       "grid_area": null,
       "grid_auto_columns": null,
       "grid_auto_flow": null,
       "grid_auto_rows": null,
       "grid_column": null,
       "grid_gap": null,
       "grid_row": null,
       "grid_template_areas": null,
       "grid_template_columns": null,
       "grid_template_rows": null,
       "height": null,
       "justify_content": null,
       "justify_items": null,
       "left": null,
       "margin": null,
       "max_height": null,
       "max_width": null,
       "min_height": null,
       "min_width": null,
       "object_fit": null,
       "object_position": null,
       "order": null,
       "overflow": null,
       "overflow_x": null,
       "overflow_y": null,
       "padding": null,
       "right": null,
       "top": null,
       "visibility": null,
       "width": null
      }
     },
     "bb6a36bb000340b28388da1a98e1b19b": {
      "model_module": "@jupyter-widgets/base",
      "model_module_version": "1.2.0",
      "model_name": "LayoutModel",
      "state": {
       "_model_module": "@jupyter-widgets/base",
       "_model_module_version": "1.2.0",
       "_model_name": "LayoutModel",
       "_view_count": null,
       "_view_module": "@jupyter-widgets/base",
       "_view_module_version": "1.2.0",
       "_view_name": "LayoutView",
       "align_content": null,
       "align_items": null,
       "align_self": null,
       "border": null,
       "bottom": null,
       "display": null,
       "flex": null,
       "flex_flow": null,
       "grid_area": null,
       "grid_auto_columns": null,
       "grid_auto_flow": null,
       "grid_auto_rows": null,
       "grid_column": null,
       "grid_gap": null,
       "grid_row": null,
       "grid_template_areas": null,
       "grid_template_columns": null,
       "grid_template_rows": null,
       "height": null,
       "justify_content": null,
       "justify_items": null,
       "left": null,
       "margin": null,
       "max_height": null,
       "max_width": null,
       "min_height": null,
       "min_width": null,
       "object_fit": null,
       "object_position": null,
       "order": null,
       "overflow": null,
       "overflow_x": null,
       "overflow_y": null,
       "padding": null,
       "right": null,
       "top": null,
       "visibility": null,
       "width": null
      }
     },
     "bdc482576fa14011b0557c1c8b7dcb7d": {
      "model_module": "@jupyter-widgets/controls",
      "model_module_version": "1.5.0",
      "model_name": "HBoxModel",
      "state": {
       "_dom_classes": [],
       "_model_module": "@jupyter-widgets/controls",
       "_model_module_version": "1.5.0",
       "_model_name": "HBoxModel",
       "_view_count": null,
       "_view_module": "@jupyter-widgets/controls",
       "_view_module_version": "1.5.0",
       "_view_name": "HBoxView",
       "box_style": "",
       "children": [
        "IPY_MODEL_3d15a13ad2e74d789827edee192cdf1b",
        "IPY_MODEL_623cb5da2e834455915b8698f5b9719f",
        "IPY_MODEL_58eba01fee464772bdb1fbc4601ac377"
       ],
       "layout": "IPY_MODEL_3f2ccb9fbb8846c88c97445ef9925673"
      }
     },
     "c466f7e438024a11b251a0d8ad28ab33": {
      "model_module": "@jupyter-widgets/base",
      "model_module_version": "1.2.0",
      "model_name": "LayoutModel",
      "state": {
       "_model_module": "@jupyter-widgets/base",
       "_model_module_version": "1.2.0",
       "_model_name": "LayoutModel",
       "_view_count": null,
       "_view_module": "@jupyter-widgets/base",
       "_view_module_version": "1.2.0",
       "_view_name": "LayoutView",
       "align_content": null,
       "align_items": null,
       "align_self": null,
       "border": null,
       "bottom": null,
       "display": null,
       "flex": null,
       "flex_flow": null,
       "grid_area": null,
       "grid_auto_columns": null,
       "grid_auto_flow": null,
       "grid_auto_rows": null,
       "grid_column": null,
       "grid_gap": null,
       "grid_row": null,
       "grid_template_areas": null,
       "grid_template_columns": null,
       "grid_template_rows": null,
       "height": null,
       "justify_content": null,
       "justify_items": null,
       "left": null,
       "margin": null,
       "max_height": null,
       "max_width": null,
       "min_height": null,
       "min_width": null,
       "object_fit": null,
       "object_position": null,
       "order": null,
       "overflow": null,
       "overflow_x": null,
       "overflow_y": null,
       "padding": null,
       "right": null,
       "top": null,
       "visibility": null,
       "width": null
      }
     },
     "c509c81d7a624624a4f9b7141322815b": {
      "model_module": "@jupyter-widgets/base",
      "model_module_version": "1.2.0",
      "model_name": "LayoutModel",
      "state": {
       "_model_module": "@jupyter-widgets/base",
       "_model_module_version": "1.2.0",
       "_model_name": "LayoutModel",
       "_view_count": null,
       "_view_module": "@jupyter-widgets/base",
       "_view_module_version": "1.2.0",
       "_view_name": "LayoutView",
       "align_content": null,
       "align_items": null,
       "align_self": null,
       "border": null,
       "bottom": null,
       "display": null,
       "flex": null,
       "flex_flow": null,
       "grid_area": null,
       "grid_auto_columns": null,
       "grid_auto_flow": null,
       "grid_auto_rows": null,
       "grid_column": null,
       "grid_gap": null,
       "grid_row": null,
       "grid_template_areas": null,
       "grid_template_columns": null,
       "grid_template_rows": null,
       "height": null,
       "justify_content": null,
       "justify_items": null,
       "left": null,
       "margin": null,
       "max_height": null,
       "max_width": null,
       "min_height": null,
       "min_width": null,
       "object_fit": null,
       "object_position": null,
       "order": null,
       "overflow": null,
       "overflow_x": null,
       "overflow_y": null,
       "padding": null,
       "right": null,
       "top": null,
       "visibility": null,
       "width": null
      }
     },
     "cbbbfd673d8b4e6c82bf7636281d2e14": {
      "model_module": "@jupyter-widgets/controls",
      "model_module_version": "1.5.0",
      "model_name": "DescriptionStyleModel",
      "state": {
       "_model_module": "@jupyter-widgets/controls",
       "_model_module_version": "1.5.0",
       "_model_name": "DescriptionStyleModel",
       "_view_count": null,
       "_view_module": "@jupyter-widgets/base",
       "_view_module_version": "1.2.0",
       "_view_name": "StyleView",
       "description_width": ""
      }
     },
     "cc1d7ba5ee7e4d31a70934468aad77e3": {
      "model_module": "@jupyter-widgets/controls",
      "model_module_version": "1.5.0",
      "model_name": "ProgressStyleModel",
      "state": {
       "_model_module": "@jupyter-widgets/controls",
       "_model_module_version": "1.5.0",
       "_model_name": "ProgressStyleModel",
       "_view_count": null,
       "_view_module": "@jupyter-widgets/base",
       "_view_module_version": "1.2.0",
       "_view_name": "StyleView",
       "bar_color": null,
       "description_width": ""
      }
     },
     "cebc3c7ca865422e9045bea62856b923": {
      "model_module": "@jupyter-widgets/controls",
      "model_module_version": "1.5.0",
      "model_name": "ProgressStyleModel",
      "state": {
       "_model_module": "@jupyter-widgets/controls",
       "_model_module_version": "1.5.0",
       "_model_name": "ProgressStyleModel",
       "_view_count": null,
       "_view_module": "@jupyter-widgets/base",
       "_view_module_version": "1.2.0",
       "_view_name": "StyleView",
       "bar_color": null,
       "description_width": ""
      }
     },
     "d24a2de9abf34250831808709d19b442": {
      "model_module": "@jupyter-widgets/controls",
      "model_module_version": "1.5.0",
      "model_name": "DescriptionStyleModel",
      "state": {
       "_model_module": "@jupyter-widgets/controls",
       "_model_module_version": "1.5.0",
       "_model_name": "DescriptionStyleModel",
       "_view_count": null,
       "_view_module": "@jupyter-widgets/base",
       "_view_module_version": "1.2.0",
       "_view_name": "StyleView",
       "description_width": ""
      }
     },
     "d2d77767266243f79f28bb0529455dc2": {
      "model_module": "@jupyter-widgets/controls",
      "model_module_version": "1.5.0",
      "model_name": "HTMLModel",
      "state": {
       "_dom_classes": [],
       "_model_module": "@jupyter-widgets/controls",
       "_model_module_version": "1.5.0",
       "_model_name": "HTMLModel",
       "_view_count": null,
       "_view_module": "@jupyter-widgets/controls",
       "_view_module_version": "1.5.0",
       "_view_name": "HTMLView",
       "description": "",
       "description_tooltip": null,
       "layout": "IPY_MODEL_edcb77ee263045b7ae6891e6b8758979",
       "placeholder": "​",
       "style": "IPY_MODEL_93886f2e100548a48789b3d7a13326e4",
       "value": " 11138/11138 [08:42&lt;00:00, 21.78it/s]"
      }
     },
     "d4841efa7b4f487e8dac849c588a4c0a": {
      "model_module": "@jupyter-widgets/base",
      "model_module_version": "1.2.0",
      "model_name": "LayoutModel",
      "state": {
       "_model_module": "@jupyter-widgets/base",
       "_model_module_version": "1.2.0",
       "_model_name": "LayoutModel",
       "_view_count": null,
       "_view_module": "@jupyter-widgets/base",
       "_view_module_version": "1.2.0",
       "_view_name": "LayoutView",
       "align_content": null,
       "align_items": null,
       "align_self": null,
       "border": null,
       "bottom": null,
       "display": null,
       "flex": null,
       "flex_flow": null,
       "grid_area": null,
       "grid_auto_columns": null,
       "grid_auto_flow": null,
       "grid_auto_rows": null,
       "grid_column": null,
       "grid_gap": null,
       "grid_row": null,
       "grid_template_areas": null,
       "grid_template_columns": null,
       "grid_template_rows": null,
       "height": null,
       "justify_content": null,
       "justify_items": null,
       "left": null,
       "margin": null,
       "max_height": null,
       "max_width": null,
       "min_height": null,
       "min_width": null,
       "object_fit": null,
       "object_position": null,
       "order": null,
       "overflow": null,
       "overflow_x": null,
       "overflow_y": null,
       "padding": null,
       "right": null,
       "top": null,
       "visibility": null,
       "width": null
      }
     },
     "d702daba634147d181a3745178b56967": {
      "model_module": "@jupyter-widgets/base",
      "model_module_version": "1.2.0",
      "model_name": "LayoutModel",
      "state": {
       "_model_module": "@jupyter-widgets/base",
       "_model_module_version": "1.2.0",
       "_model_name": "LayoutModel",
       "_view_count": null,
       "_view_module": "@jupyter-widgets/base",
       "_view_module_version": "1.2.0",
       "_view_name": "LayoutView",
       "align_content": null,
       "align_items": null,
       "align_self": null,
       "border": null,
       "bottom": null,
       "display": null,
       "flex": null,
       "flex_flow": null,
       "grid_area": null,
       "grid_auto_columns": null,
       "grid_auto_flow": null,
       "grid_auto_rows": null,
       "grid_column": null,
       "grid_gap": null,
       "grid_row": null,
       "grid_template_areas": null,
       "grid_template_columns": null,
       "grid_template_rows": null,
       "height": null,
       "justify_content": null,
       "justify_items": null,
       "left": null,
       "margin": null,
       "max_height": null,
       "max_width": null,
       "min_height": null,
       "min_width": null,
       "object_fit": null,
       "object_position": null,
       "order": null,
       "overflow": null,
       "overflow_x": null,
       "overflow_y": null,
       "padding": null,
       "right": null,
       "top": null,
       "visibility": null,
       "width": null
      }
     },
     "d7f70599f8f8440e82977375587d4825": {
      "model_module": "@jupyter-widgets/controls",
      "model_module_version": "1.5.0",
      "model_name": "HTMLModel",
      "state": {
       "_dom_classes": [],
       "_model_module": "@jupyter-widgets/controls",
       "_model_module_version": "1.5.0",
       "_model_name": "HTMLModel",
       "_view_count": null,
       "_view_module": "@jupyter-widgets/controls",
       "_view_module_version": "1.5.0",
       "_view_name": "HTMLView",
       "description": "",
       "description_tooltip": null,
       "layout": "IPY_MODEL_ac45229864e44b1c93149653d926df0e",
       "placeholder": "​",
       "style": "IPY_MODEL_cbbbfd673d8b4e6c82bf7636281d2e14",
       "value": " 77/77 [00:38&lt;00:00,  1.13s/it]"
      }
     },
     "df8486b95b494e5db0400cdfb1627ebd": {
      "model_module": "@jupyter-widgets/base",
      "model_module_version": "1.2.0",
      "model_name": "LayoutModel",
      "state": {
       "_model_module": "@jupyter-widgets/base",
       "_model_module_version": "1.2.0",
       "_model_name": "LayoutModel",
       "_view_count": null,
       "_view_module": "@jupyter-widgets/base",
       "_view_module_version": "1.2.0",
       "_view_name": "LayoutView",
       "align_content": null,
       "align_items": null,
       "align_self": null,
       "border": null,
       "bottom": null,
       "display": null,
       "flex": null,
       "flex_flow": null,
       "grid_area": null,
       "grid_auto_columns": null,
       "grid_auto_flow": null,
       "grid_auto_rows": null,
       "grid_column": null,
       "grid_gap": null,
       "grid_row": null,
       "grid_template_areas": null,
       "grid_template_columns": null,
       "grid_template_rows": null,
       "height": null,
       "justify_content": null,
       "justify_items": null,
       "left": null,
       "margin": null,
       "max_height": null,
       "max_width": null,
       "min_height": null,
       "min_width": null,
       "object_fit": null,
       "object_position": null,
       "order": null,
       "overflow": null,
       "overflow_x": null,
       "overflow_y": null,
       "padding": null,
       "right": null,
       "top": null,
       "visibility": null,
       "width": null
      }
     },
     "e209eeaa215b480eaf879f27b97b8f16": {
      "model_module": "@jupyter-widgets/controls",
      "model_module_version": "1.5.0",
      "model_name": "DescriptionStyleModel",
      "state": {
       "_model_module": "@jupyter-widgets/controls",
       "_model_module_version": "1.5.0",
       "_model_name": "DescriptionStyleModel",
       "_view_count": null,
       "_view_module": "@jupyter-widgets/base",
       "_view_module_version": "1.2.0",
       "_view_name": "StyleView",
       "description_width": ""
      }
     },
     "e4c8dc3a1ab44481b467429dbf88522a": {
      "model_module": "@jupyter-widgets/controls",
      "model_module_version": "1.5.0",
      "model_name": "FloatProgressModel",
      "state": {
       "_dom_classes": [],
       "_model_module": "@jupyter-widgets/controls",
       "_model_module_version": "1.5.0",
       "_model_name": "FloatProgressModel",
       "_view_count": null,
       "_view_module": "@jupyter-widgets/controls",
       "_view_module_version": "1.5.0",
       "_view_name": "ProgressView",
       "bar_style": "success",
       "description": "",
       "description_tooltip": null,
       "layout": "IPY_MODEL_4644df2a379c4e2ea56b02569b67c9cf",
       "max": 11138.0,
       "min": 0.0,
       "orientation": "horizontal",
       "style": "IPY_MODEL_cc1d7ba5ee7e4d31a70934468aad77e3",
       "value": 11138.0
      }
     },
     "eb651e08769d46e28eb9d99b043576c1": {
      "model_module": "@jupyter-widgets/controls",
      "model_module_version": "1.5.0",
      "model_name": "FloatProgressModel",
      "state": {
       "_dom_classes": [],
       "_model_module": "@jupyter-widgets/controls",
       "_model_module_version": "1.5.0",
       "_model_name": "FloatProgressModel",
       "_view_count": null,
       "_view_module": "@jupyter-widgets/controls",
       "_view_module_version": "1.5.0",
       "_view_name": "ProgressView",
       "bar_style": "success",
       "description": "",
       "description_tooltip": null,
       "layout": "IPY_MODEL_b560bf2ee3ad4aa98c328ba1b6aba05f",
       "max": 77.0,
       "min": 0.0,
       "orientation": "horizontal",
       "style": "IPY_MODEL_1c034a8c24fb430887c89dc7ba92f976",
       "value": 77.0
      }
     },
     "ecd5a1b0c8984c029e3b94e803f39c76": {
      "model_module": "@jupyter-widgets/controls",
      "model_module_version": "1.5.0",
      "model_name": "DescriptionStyleModel",
      "state": {
       "_model_module": "@jupyter-widgets/controls",
       "_model_module_version": "1.5.0",
       "_model_name": "DescriptionStyleModel",
       "_view_count": null,
       "_view_module": "@jupyter-widgets/base",
       "_view_module_version": "1.2.0",
       "_view_name": "StyleView",
       "description_width": ""
      }
     },
     "edcb77ee263045b7ae6891e6b8758979": {
      "model_module": "@jupyter-widgets/base",
      "model_module_version": "1.2.0",
      "model_name": "LayoutModel",
      "state": {
       "_model_module": "@jupyter-widgets/base",
       "_model_module_version": "1.2.0",
       "_model_name": "LayoutModel",
       "_view_count": null,
       "_view_module": "@jupyter-widgets/base",
       "_view_module_version": "1.2.0",
       "_view_name": "LayoutView",
       "align_content": null,
       "align_items": null,
       "align_self": null,
       "border": null,
       "bottom": null,
       "display": null,
       "flex": null,
       "flex_flow": null,
       "grid_area": null,
       "grid_auto_columns": null,
       "grid_auto_flow": null,
       "grid_auto_rows": null,
       "grid_column": null,
       "grid_gap": null,
       "grid_row": null,
       "grid_template_areas": null,
       "grid_template_columns": null,
       "grid_template_rows": null,
       "height": null,
       "justify_content": null,
       "justify_items": null,
       "left": null,
       "margin": null,
       "max_height": null,
       "max_width": null,
       "min_height": null,
       "min_width": null,
       "object_fit": null,
       "object_position": null,
       "order": null,
       "overflow": null,
       "overflow_x": null,
       "overflow_y": null,
       "padding": null,
       "right": null,
       "top": null,
       "visibility": null,
       "width": null
      }
     },
     "f015f796ceca451486e030a71b6c67ac": {
      "model_module": "@jupyter-widgets/controls",
      "model_module_version": "1.5.0",
      "model_name": "HTMLModel",
      "state": {
       "_dom_classes": [],
       "_model_module": "@jupyter-widgets/controls",
       "_model_module_version": "1.5.0",
       "_model_name": "HTMLModel",
       "_view_count": null,
       "_view_module": "@jupyter-widgets/controls",
       "_view_module_version": "1.5.0",
       "_view_name": "HTMLView",
       "description": "",
       "description_tooltip": null,
       "layout": "IPY_MODEL_abac772b889248359184455d8a7ac253",
       "placeholder": "​",
       "style": "IPY_MODEL_ecd5a1b0c8984c029e3b94e803f39c76",
       "value": "model.safetensors: 100%"
      }
     },
     "fac9fa69ceab45e794ffe491592924b7": {
      "model_module": "@jupyter-widgets/controls",
      "model_module_version": "1.5.0",
      "model_name": "DescriptionStyleModel",
      "state": {
       "_model_module": "@jupyter-widgets/controls",
       "_model_module_version": "1.5.0",
       "_model_name": "DescriptionStyleModel",
       "_view_count": null,
       "_view_module": "@jupyter-widgets/base",
       "_view_module_version": "1.2.0",
       "_view_name": "StyleView",
       "description_width": ""
      }
     },
     "fb5e443bd77f421297c49c7a7318d153": {
      "model_module": "@jupyter-widgets/base",
      "model_module_version": "1.2.0",
      "model_name": "LayoutModel",
      "state": {
       "_model_module": "@jupyter-widgets/base",
       "_model_module_version": "1.2.0",
       "_model_name": "LayoutModel",
       "_view_count": null,
       "_view_module": "@jupyter-widgets/base",
       "_view_module_version": "1.2.0",
       "_view_name": "LayoutView",
       "align_content": null,
       "align_items": null,
       "align_self": null,
       "border": null,
       "bottom": null,
       "display": null,
       "flex": null,
       "flex_flow": null,
       "grid_area": null,
       "grid_auto_columns": null,
       "grid_auto_flow": null,
       "grid_auto_rows": null,
       "grid_column": null,
       "grid_gap": null,
       "grid_row": null,
       "grid_template_areas": null,
       "grid_template_columns": null,
       "grid_template_rows": null,
       "height": null,
       "justify_content": null,
       "justify_items": null,
       "left": null,
       "margin": null,
       "max_height": null,
       "max_width": null,
       "min_height": null,
       "min_width": null,
       "object_fit": null,
       "object_position": null,
       "order": null,
       "overflow": null,
       "overflow_x": null,
       "overflow_y": null,
       "padding": null,
       "right": null,
       "top": null,
       "visibility": null,
       "width": null
      }
     },
     "fd05f0c3c72942868b42af4f2fed06ec": {
      "model_module": "@jupyter-widgets/base",
      "model_module_version": "1.2.0",
      "model_name": "LayoutModel",
      "state": {
       "_model_module": "@jupyter-widgets/base",
       "_model_module_version": "1.2.0",
       "_model_name": "LayoutModel",
       "_view_count": null,
       "_view_module": "@jupyter-widgets/base",
       "_view_module_version": "1.2.0",
       "_view_name": "LayoutView",
       "align_content": null,
       "align_items": null,
       "align_self": null,
       "border": null,
       "bottom": null,
       "display": null,
       "flex": null,
       "flex_flow": null,
       "grid_area": null,
       "grid_auto_columns": null,
       "grid_auto_flow": null,
       "grid_auto_rows": null,
       "grid_column": null,
       "grid_gap": null,
       "grid_row": null,
       "grid_template_areas": null,
       "grid_template_columns": null,
       "grid_template_rows": null,
       "height": null,
       "justify_content": null,
       "justify_items": null,
       "left": null,
       "margin": null,
       "max_height": null,
       "max_width": null,
       "min_height": null,
       "min_width": null,
       "object_fit": null,
       "object_position": null,
       "order": null,
       "overflow": null,
       "overflow_x": null,
       "overflow_y": null,
       "padding": null,
       "right": null,
       "top": null,
       "visibility": null,
       "width": null
      }
     }
    },
    "version_major": 2,
    "version_minor": 0
   }
  }
 },
 "nbformat": 4,
 "nbformat_minor": 5
}
